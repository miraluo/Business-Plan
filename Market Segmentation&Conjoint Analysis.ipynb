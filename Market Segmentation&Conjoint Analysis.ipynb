{
 "cells": [
  {
   "cell_type": "code",
   "execution_count": 1,
   "id": "85c331fb",
   "metadata": {},
   "outputs": [],
   "source": [
    "import numpy as np\n",
    "import pandas as pd\n",
    "import seaborn as sns\n",
    "import matplotlib.pyplot as plt\n",
    "%matplotlib inline"
   ]
  },
  {
   "cell_type": "markdown",
   "id": "fbd7878a",
   "metadata": {},
   "source": [
    "Part I: Segmentation"
   ]
  },
  {
   "cell_type": "code",
   "execution_count": 3,
   "id": "301962ac",
   "metadata": {},
   "outputs": [
    {
     "data": {
      "text/html": [
       "<div>\n",
       "<style scoped>\n",
       "    .dataframe tbody tr th:only-of-type {\n",
       "        vertical-align: middle;\n",
       "    }\n",
       "\n",
       "    .dataframe tbody tr th {\n",
       "        vertical-align: top;\n",
       "    }\n",
       "\n",
       "    .dataframe thead th {\n",
       "        text-align: right;\n",
       "    }\n",
       "</style>\n",
       "<table border=\"1\" class=\"dataframe\">\n",
       "  <thead>\n",
       "    <tr style=\"text-align: right;\">\n",
       "      <th></th>\n",
       "      <th>rideID</th>\n",
       "      <th>rider_group</th>\n",
       "      <th>max_speed</th>\n",
       "      <th>total_height</th>\n",
       "      <th>soak_level</th>\n",
       "      <th>max_hourly_throughput</th>\n",
       "      <th>avg_duration</th>\n",
       "      <th>square_feet</th>\n",
       "      <th>installation_cost</th>\n",
       "      <th>maintenance_cost</th>\n",
       "    </tr>\n",
       "  </thead>\n",
       "  <tbody>\n",
       "    <tr>\n",
       "      <th>0</th>\n",
       "      <td>1</td>\n",
       "      <td>4</td>\n",
       "      <td>27.47</td>\n",
       "      <td>59.64</td>\n",
       "      <td>4.0</td>\n",
       "      <td>658.35</td>\n",
       "      <td>66.77</td>\n",
       "      <td>7389.98</td>\n",
       "      <td>46702.30</td>\n",
       "      <td>4980.30</td>\n",
       "    </tr>\n",
       "    <tr>\n",
       "      <th>1</th>\n",
       "      <td>2</td>\n",
       "      <td>4</td>\n",
       "      <td>25.02</td>\n",
       "      <td>106.54</td>\n",
       "      <td>6.0</td>\n",
       "      <td>455.65</td>\n",
       "      <td>48.15</td>\n",
       "      <td>11757.48</td>\n",
       "      <td>54579.92</td>\n",
       "      <td>5313.93</td>\n",
       "    </tr>\n",
       "    <tr>\n",
       "      <th>2</th>\n",
       "      <td>3</td>\n",
       "      <td>5</td>\n",
       "      <td>30.82</td>\n",
       "      <td>61.17</td>\n",
       "      <td>6.0</td>\n",
       "      <td>536.13</td>\n",
       "      <td>65.02</td>\n",
       "      <td>9403.26</td>\n",
       "      <td>51244.81</td>\n",
       "      <td>5510.27</td>\n",
       "    </tr>\n",
       "    <tr>\n",
       "      <th>3</th>\n",
       "      <td>4</td>\n",
       "      <td>1</td>\n",
       "      <td>34.10</td>\n",
       "      <td>97.18</td>\n",
       "      <td>6.0</td>\n",
       "      <td>673.44</td>\n",
       "      <td>62.18</td>\n",
       "      <td>6191.53</td>\n",
       "      <td>50332.71</td>\n",
       "      <td>5039.14</td>\n",
       "    </tr>\n",
       "    <tr>\n",
       "      <th>4</th>\n",
       "      <td>5</td>\n",
       "      <td>3</td>\n",
       "      <td>30.38</td>\n",
       "      <td>89.46</td>\n",
       "      <td>5.0</td>\n",
       "      <td>518.29</td>\n",
       "      <td>75.54</td>\n",
       "      <td>9632.71</td>\n",
       "      <td>50069.21</td>\n",
       "      <td>6169.58</td>\n",
       "    </tr>\n",
       "  </tbody>\n",
       "</table>\n",
       "</div>"
      ],
      "text/plain": [
       "   rideID  rider_group  max_speed  total_height  soak_level  \\\n",
       "0       1            4      27.47         59.64         4.0   \n",
       "1       2            4      25.02        106.54         6.0   \n",
       "2       3            5      30.82         61.17         6.0   \n",
       "3       4            1      34.10         97.18         6.0   \n",
       "4       5            3      30.38         89.46         5.0   \n",
       "\n",
       "   max_hourly_throughput  avg_duration  square_feet  installation_cost  \\\n",
       "0                 658.35         66.77      7389.98           46702.30   \n",
       "1                 455.65         48.15     11757.48           54579.92   \n",
       "2                 536.13         65.02      9403.26           51244.81   \n",
       "3                 673.44         62.18      6191.53           50332.71   \n",
       "4                 518.29         75.54      9632.71           50069.21   \n",
       "\n",
       "   maintenance_cost  \n",
       "0           4980.30  \n",
       "1           5313.93  \n",
       "2           5510.27  \n",
       "3           5039.14  \n",
       "4           6169.58  "
      ]
     },
     "execution_count": 3,
     "metadata": {},
     "output_type": "execute_result"
    }
   ],
   "source": [
    "water_rides=pd.read_csv(\"/Users/luoyayuan/Desktop/Class Slides/654/assignment2/water_rides.csv\")\n",
    "water_rides.head()"
   ]
  },
  {
   "cell_type": "markdown",
   "id": "46bd73bf",
   "metadata": {},
   "source": [
    "question-A: Drop the rideID variable.\n",
    "\n",
    "Why will rideID not be relevant in a clustering model? In your answer, do not just write “it will confuse the model.” Instead, take the time to explain this with a sentence or two, using a bit of math and your understanding of Euclidean distance."
   ]
  },
  {
   "cell_type": "code",
   "execution_count": 4,
   "id": "ecb2db1c",
   "metadata": {},
   "outputs": [
    {
     "name": "stderr",
     "output_type": "stream",
     "text": [
      "/var/folders/69/sjzrfpp90kb586qq0vrpgyjw0000gn/T/ipykernel_4975/3150238303.py:1: FutureWarning: In a future version of pandas all arguments of DataFrame.drop except for the argument 'labels' will be keyword-only\n",
      "  water_rides.drop('rideID',1,inplace=True)\n"
     ]
    }
   ],
   "source": [
    "water_rides.drop('rideID',1,inplace=True)"
   ]
  },
  {
   "cell_type": "code",
   "execution_count": 5,
   "id": "ebc71734",
   "metadata": {},
   "outputs": [
    {
     "data": {
      "text/html": [
       "<div>\n",
       "<style scoped>\n",
       "    .dataframe tbody tr th:only-of-type {\n",
       "        vertical-align: middle;\n",
       "    }\n",
       "\n",
       "    .dataframe tbody tr th {\n",
       "        vertical-align: top;\n",
       "    }\n",
       "\n",
       "    .dataframe thead th {\n",
       "        text-align: right;\n",
       "    }\n",
       "</style>\n",
       "<table border=\"1\" class=\"dataframe\">\n",
       "  <thead>\n",
       "    <tr style=\"text-align: right;\">\n",
       "      <th></th>\n",
       "      <th>rider_group</th>\n",
       "      <th>max_speed</th>\n",
       "      <th>total_height</th>\n",
       "      <th>soak_level</th>\n",
       "      <th>max_hourly_throughput</th>\n",
       "      <th>avg_duration</th>\n",
       "      <th>square_feet</th>\n",
       "      <th>installation_cost</th>\n",
       "      <th>maintenance_cost</th>\n",
       "    </tr>\n",
       "  </thead>\n",
       "  <tbody>\n",
       "    <tr>\n",
       "      <th>0</th>\n",
       "      <td>4</td>\n",
       "      <td>27.47</td>\n",
       "      <td>59.64</td>\n",
       "      <td>4.0</td>\n",
       "      <td>658.35</td>\n",
       "      <td>66.77</td>\n",
       "      <td>7389.98</td>\n",
       "      <td>46702.30</td>\n",
       "      <td>4980.30</td>\n",
       "    </tr>\n",
       "    <tr>\n",
       "      <th>1</th>\n",
       "      <td>4</td>\n",
       "      <td>25.02</td>\n",
       "      <td>106.54</td>\n",
       "      <td>6.0</td>\n",
       "      <td>455.65</td>\n",
       "      <td>48.15</td>\n",
       "      <td>11757.48</td>\n",
       "      <td>54579.92</td>\n",
       "      <td>5313.93</td>\n",
       "    </tr>\n",
       "    <tr>\n",
       "      <th>2</th>\n",
       "      <td>5</td>\n",
       "      <td>30.82</td>\n",
       "      <td>61.17</td>\n",
       "      <td>6.0</td>\n",
       "      <td>536.13</td>\n",
       "      <td>65.02</td>\n",
       "      <td>9403.26</td>\n",
       "      <td>51244.81</td>\n",
       "      <td>5510.27</td>\n",
       "    </tr>\n",
       "    <tr>\n",
       "      <th>3</th>\n",
       "      <td>1</td>\n",
       "      <td>34.10</td>\n",
       "      <td>97.18</td>\n",
       "      <td>6.0</td>\n",
       "      <td>673.44</td>\n",
       "      <td>62.18</td>\n",
       "      <td>6191.53</td>\n",
       "      <td>50332.71</td>\n",
       "      <td>5039.14</td>\n",
       "    </tr>\n",
       "    <tr>\n",
       "      <th>4</th>\n",
       "      <td>3</td>\n",
       "      <td>30.38</td>\n",
       "      <td>89.46</td>\n",
       "      <td>5.0</td>\n",
       "      <td>518.29</td>\n",
       "      <td>75.54</td>\n",
       "      <td>9632.71</td>\n",
       "      <td>50069.21</td>\n",
       "      <td>6169.58</td>\n",
       "    </tr>\n",
       "  </tbody>\n",
       "</table>\n",
       "</div>"
      ],
      "text/plain": [
       "   rider_group  max_speed  total_height  soak_level  max_hourly_throughput  \\\n",
       "0            4      27.47         59.64         4.0                 658.35   \n",
       "1            4      25.02        106.54         6.0                 455.65   \n",
       "2            5      30.82         61.17         6.0                 536.13   \n",
       "3            1      34.10         97.18         6.0                 673.44   \n",
       "4            3      30.38         89.46         5.0                 518.29   \n",
       "\n",
       "   avg_duration  square_feet  installation_cost  maintenance_cost  \n",
       "0         66.77      7389.98           46702.30           4980.30  \n",
       "1         48.15     11757.48           54579.92           5313.93  \n",
       "2         65.02      9403.26           51244.81           5510.27  \n",
       "3         62.18      6191.53           50332.71           5039.14  \n",
       "4         75.54      9632.71           50069.21           6169.58  "
      ]
     },
     "execution_count": 5,
     "metadata": {},
     "output_type": "execute_result"
    }
   ],
   "source": [
    "water_rides.head()"
   ]
  },
  {
   "cell_type": "markdown",
   "id": "332d94c6",
   "metadata": {},
   "source": [
    " We're removing the userID variable because it won't be useful for helping us to segment the consumers into distinct groups. \n",
    " \n",
    " Firstly, python itself counts the row number even if it is zero-based, which replaces the role of userID that uniquely corresponds to each row.\n",
    " \n",
    " Secondly,euclidean distance is found by first squaring each of the pairwise differences between two records,summing squares and taking square root of that sum. The difference between userIDs does not have a mathmatical effect and is meaningless since userID 5 minus userID 3 do not equals userID 2. "
   ]
  },
  {
   "cell_type": "markdown",
   "id": "5532847c",
   "metadata": {},
   "source": [
    "Question-B: Call the describe() function on your dataset.\n",
    "\n",
    "How does this function help you to gain an overall sense of the columns and values in this (or any other) dataset? Why is this valuable for any analyst who will use a dataset to build a model?"
   ]
  },
  {
   "cell_type": "code",
   "execution_count": 6,
   "id": "629cd55b",
   "metadata": {},
   "outputs": [
    {
     "data": {
      "text/html": [
       "<div>\n",
       "<style scoped>\n",
       "    .dataframe tbody tr th:only-of-type {\n",
       "        vertical-align: middle;\n",
       "    }\n",
       "\n",
       "    .dataframe tbody tr th {\n",
       "        vertical-align: top;\n",
       "    }\n",
       "\n",
       "    .dataframe thead th {\n",
       "        text-align: right;\n",
       "    }\n",
       "</style>\n",
       "<table border=\"1\" class=\"dataframe\">\n",
       "  <thead>\n",
       "    <tr style=\"text-align: right;\">\n",
       "      <th></th>\n",
       "      <th>rider_group</th>\n",
       "      <th>max_speed</th>\n",
       "      <th>total_height</th>\n",
       "      <th>soak_level</th>\n",
       "      <th>max_hourly_throughput</th>\n",
       "      <th>avg_duration</th>\n",
       "      <th>square_feet</th>\n",
       "      <th>installation_cost</th>\n",
       "      <th>maintenance_cost</th>\n",
       "    </tr>\n",
       "  </thead>\n",
       "  <tbody>\n",
       "    <tr>\n",
       "      <th>count</th>\n",
       "      <td>146.000000</td>\n",
       "      <td>146.000000</td>\n",
       "      <td>146.000000</td>\n",
       "      <td>146.000000</td>\n",
       "      <td>146.000000</td>\n",
       "      <td>146.000000</td>\n",
       "      <td>146.000000</td>\n",
       "      <td>146.000000</td>\n",
       "      <td>146.000000</td>\n",
       "    </tr>\n",
       "    <tr>\n",
       "      <th>mean</th>\n",
       "      <td>3.034247</td>\n",
       "      <td>27.977055</td>\n",
       "      <td>84.398904</td>\n",
       "      <td>4.130137</td>\n",
       "      <td>656.367671</td>\n",
       "      <td>70.963288</td>\n",
       "      <td>8365.876096</td>\n",
       "      <td>48274.652192</td>\n",
       "      <td>5294.443082</td>\n",
       "    </tr>\n",
       "    <tr>\n",
       "      <th>std</th>\n",
       "      <td>1.492114</td>\n",
       "      <td>5.444213</td>\n",
       "      <td>25.553449</td>\n",
       "      <td>2.407642</td>\n",
       "      <td>267.974494</td>\n",
       "      <td>8.010506</td>\n",
       "      <td>1536.103405</td>\n",
       "      <td>3898.341493</td>\n",
       "      <td>750.138648</td>\n",
       "    </tr>\n",
       "    <tr>\n",
       "      <th>min</th>\n",
       "      <td>1.000000</td>\n",
       "      <td>11.870000</td>\n",
       "      <td>15.130000</td>\n",
       "      <td>0.000000</td>\n",
       "      <td>1.350000</td>\n",
       "      <td>48.150000</td>\n",
       "      <td>4246.200000</td>\n",
       "      <td>37412.640000</td>\n",
       "      <td>2870.020000</td>\n",
       "    </tr>\n",
       "    <tr>\n",
       "      <th>25%</th>\n",
       "      <td>2.000000</td>\n",
       "      <td>24.720000</td>\n",
       "      <td>66.617500</td>\n",
       "      <td>2.000000</td>\n",
       "      <td>506.185000</td>\n",
       "      <td>65.632500</td>\n",
       "      <td>7249.445000</td>\n",
       "      <td>45799.077500</td>\n",
       "      <td>4837.440000</td>\n",
       "    </tr>\n",
       "    <tr>\n",
       "      <th>50%</th>\n",
       "      <td>3.000000</td>\n",
       "      <td>28.110000</td>\n",
       "      <td>85.465000</td>\n",
       "      <td>4.000000</td>\n",
       "      <td>645.805000</td>\n",
       "      <td>70.770000</td>\n",
       "      <td>8347.685000</td>\n",
       "      <td>48463.020000</td>\n",
       "      <td>5334.280000</td>\n",
       "    </tr>\n",
       "    <tr>\n",
       "      <th>75%</th>\n",
       "      <td>4.000000</td>\n",
       "      <td>32.315000</td>\n",
       "      <td>101.997500</td>\n",
       "      <td>6.000000</td>\n",
       "      <td>865.947500</td>\n",
       "      <td>76.192500</td>\n",
       "      <td>9424.557500</td>\n",
       "      <td>51056.420000</td>\n",
       "      <td>5825.502500</td>\n",
       "    </tr>\n",
       "    <tr>\n",
       "      <th>max</th>\n",
       "      <td>8.000000</td>\n",
       "      <td>38.870000</td>\n",
       "      <td>144.010000</td>\n",
       "      <td>8.000000</td>\n",
       "      <td>1259.730000</td>\n",
       "      <td>94.840000</td>\n",
       "      <td>12044.960000</td>\n",
       "      <td>56666.250000</td>\n",
       "      <td>7204.960000</td>\n",
       "    </tr>\n",
       "  </tbody>\n",
       "</table>\n",
       "</div>"
      ],
      "text/plain": [
       "       rider_group   max_speed  total_height  soak_level  \\\n",
       "count   146.000000  146.000000    146.000000  146.000000   \n",
       "mean      3.034247   27.977055     84.398904    4.130137   \n",
       "std       1.492114    5.444213     25.553449    2.407642   \n",
       "min       1.000000   11.870000     15.130000    0.000000   \n",
       "25%       2.000000   24.720000     66.617500    2.000000   \n",
       "50%       3.000000   28.110000     85.465000    4.000000   \n",
       "75%       4.000000   32.315000    101.997500    6.000000   \n",
       "max       8.000000   38.870000    144.010000    8.000000   \n",
       "\n",
       "       max_hourly_throughput  avg_duration   square_feet  installation_cost  \\\n",
       "count             146.000000    146.000000    146.000000         146.000000   \n",
       "mean              656.367671     70.963288   8365.876096       48274.652192   \n",
       "std               267.974494      8.010506   1536.103405        3898.341493   \n",
       "min                 1.350000     48.150000   4246.200000       37412.640000   \n",
       "25%               506.185000     65.632500   7249.445000       45799.077500   \n",
       "50%               645.805000     70.770000   8347.685000       48463.020000   \n",
       "75%               865.947500     76.192500   9424.557500       51056.420000   \n",
       "max              1259.730000     94.840000  12044.960000       56666.250000   \n",
       "\n",
       "       maintenance_cost  \n",
       "count        146.000000  \n",
       "mean        5294.443082  \n",
       "std          750.138648  \n",
       "min         2870.020000  \n",
       "25%         4837.440000  \n",
       "50%         5334.280000  \n",
       "75%         5825.502500  \n",
       "max         7204.960000  "
      ]
     },
     "execution_count": 6,
     "metadata": {},
     "output_type": "execute_result"
    }
   ],
   "source": [
    "water_rides.describe()"
   ]
  },
  {
   "cell_type": "markdown",
   "id": "6fde4405",
   "metadata": {},
   "source": [
    " The describe() method returns description of the dataframe and we can view some basic statistical details like mean, std,max,min,percentile of the numerical variables. \n",
    "\n",
    " From the description analyst gets a valuable summary of the dataset's central tendency, dispersion and shape of a dataset's distribution that will be useful for better understanding the dataset and building a model for analysing."
   ]
  },
  {
   "cell_type": "markdown",
   "id": "f3d0b9a4",
   "metadata": {},
   "source": [
    "Question-C: Missing values.\n",
    "\n",
    "Does this dataset contain any missing values? If so, how many? Which columns have missing values?"
   ]
  },
  {
   "cell_type": "code",
   "execution_count": 7,
   "id": "48ae3d44",
   "metadata": {},
   "outputs": [
    {
     "data": {
      "text/plain": [
       "rider_group              0\n",
       "max_speed                0\n",
       "total_height             0\n",
       "soak_level               0\n",
       "max_hourly_throughput    0\n",
       "avg_duration             0\n",
       "square_feet              0\n",
       "installation_cost        0\n",
       "maintenance_cost         0\n",
       "dtype: int64"
      ]
     },
     "execution_count": 7,
     "metadata": {},
     "output_type": "execute_result"
    }
   ],
   "source": [
    "water_rides.isnull().sum()"
   ]
  },
  {
   "cell_type": "markdown",
   "id": "0aa8b10d",
   "metadata": {},
   "source": [
    "This dataset does not contain missing value."
   ]
  },
  {
   "cell_type": "markdown",
   "id": "ff94c267",
   "metadata": {},
   "source": [
    "Question-D: Data scaling.\n",
    "\n",
    "a. Do your variables need to be standardized? Why or why not?\n",
    "\n",
    "b. If your data requires standardization, use Python to convert your values into z-scores, and store the normalized data in a new dataframe. If not, proceed to the next step without changing the variables."
   ]
  },
  {
   "cell_type": "code",
   "execution_count": 8,
   "id": "19b13e7b",
   "metadata": {},
   "outputs": [
    {
     "name": "stdout",
     "output_type": "stream",
     "text": [
      "       rider_group  max_speed  total_height  soak_level  \\\n",
      "count      146.000    146.000       146.000     146.000   \n",
      "mean         0.000      0.000         0.000       0.000   \n",
      "std          1.003      1.003         1.003       1.003   \n",
      "min         -1.368     -2.969        -2.720      -1.721   \n",
      "25%         -0.696     -0.600        -0.698      -0.888   \n",
      "50%         -0.023      0.025         0.042      -0.054   \n",
      "75%          0.649      0.800         0.691       0.779   \n",
      "max          3.339      2.008         2.341       1.613   \n",
      "\n",
      "       max_hourly_throughput  avg_duration  square_feet  installation_cost  \\\n",
      "count                146.000       146.000      146.000            146.000   \n",
      "mean                  -0.000        -0.000        0.000              0.000   \n",
      "std                    1.003         1.003        1.003              1.003   \n",
      "min                   -2.453        -2.858       -2.691             -2.796   \n",
      "25%                   -0.562        -0.668       -0.729             -0.637   \n",
      "50%                   -0.040        -0.024       -0.012              0.048   \n",
      "75%                    0.785         0.655        0.692              0.716   \n",
      "max                    2.259         2.991        2.403              2.160   \n",
      "\n",
      "       maintenance_cost  \n",
      "count           146.000  \n",
      "mean              0.000  \n",
      "std               1.003  \n",
      "min              -3.243  \n",
      "25%              -0.611  \n",
      "50%               0.053  \n",
      "75%               0.710  \n",
      "max               2.556  \n"
     ]
    }
   ],
   "source": [
    "from sklearn.preprocessing import StandardScaler\n",
    "Scaler=StandardScaler()\n",
    "Scaler.fit(water_rides)\n",
    "wr_normalized=Scaler.transform(water_rides)\n",
    "wr_normalized=pd.DataFrame(data=wr_normalized,index=water_rides.index,\n",
    "                           columns=water_rides.columns)\n",
    "print(wr_normalized.describe().round(3))"
   ]
  },
  {
   "cell_type": "markdown",
   "id": "45ad4706",
   "metadata": {},
   "source": [
    " My variables need to be standardized because they are measured at different scales. For example,rider group is counted by numbers. Variables Max_hourly_throughput and avg duration are measured by time while installation and maintenance cost are measured by money. \n",
    " \n",
    "  \n",
    " These variables do not give an equal contribution to the analysis, thus, it is better to transform the data to comparable scales by rescaling an original variable to have equal range and/or variance."
   ]
  },
  {
   "cell_type": "code",
   "execution_count": 9,
   "id": "b5c90ce7",
   "metadata": {},
   "outputs": [
    {
     "data": {
      "text/html": [
       "<div>\n",
       "<style scoped>\n",
       "    .dataframe tbody tr th:only-of-type {\n",
       "        vertical-align: middle;\n",
       "    }\n",
       "\n",
       "    .dataframe tbody tr th {\n",
       "        vertical-align: top;\n",
       "    }\n",
       "\n",
       "    .dataframe thead th {\n",
       "        text-align: right;\n",
       "    }\n",
       "</style>\n",
       "<table border=\"1\" class=\"dataframe\">\n",
       "  <thead>\n",
       "    <tr style=\"text-align: right;\">\n",
       "      <th></th>\n",
       "      <th>rider_group</th>\n",
       "      <th>max_speed</th>\n",
       "      <th>total_height</th>\n",
       "      <th>soak_level</th>\n",
       "      <th>max_hourly_throughput</th>\n",
       "      <th>avg_duration</th>\n",
       "      <th>square_feet</th>\n",
       "      <th>installation_cost</th>\n",
       "      <th>maintenance_cost</th>\n",
       "    </tr>\n",
       "  </thead>\n",
       "  <tbody>\n",
       "    <tr>\n",
       "      <th>0</th>\n",
       "      <td>0.649466</td>\n",
       "      <td>-0.093457</td>\n",
       "      <td>-0.972242</td>\n",
       "      <td>-0.054238</td>\n",
       "      <td>0.007423</td>\n",
       "      <td>-0.525275</td>\n",
       "      <td>-0.637493</td>\n",
       "      <td>-0.404727</td>\n",
       "      <td>-0.420222</td>\n",
       "    </tr>\n",
       "    <tr>\n",
       "      <th>1</th>\n",
       "      <td>0.649466</td>\n",
       "      <td>-0.545025</td>\n",
       "      <td>0.869445</td>\n",
       "      <td>0.779310</td>\n",
       "      <td>-0.751596</td>\n",
       "      <td>-2.857724</td>\n",
       "      <td>2.215527</td>\n",
       "      <td>1.622991</td>\n",
       "      <td>0.026067</td>\n",
       "    </tr>\n",
       "    <tr>\n",
       "      <th>2</th>\n",
       "      <td>1.321963</td>\n",
       "      <td>0.523993</td>\n",
       "      <td>-0.912161</td>\n",
       "      <td>0.779310</td>\n",
       "      <td>-0.450235</td>\n",
       "      <td>-0.744491</td>\n",
       "      <td>0.677659</td>\n",
       "      <td>0.764526</td>\n",
       "      <td>0.288706</td>\n",
       "    </tr>\n",
       "    <tr>\n",
       "      <th>3</th>\n",
       "      <td>-1.368025</td>\n",
       "      <td>1.128542</td>\n",
       "      <td>0.501893</td>\n",
       "      <td>0.779310</td>\n",
       "      <td>0.063928</td>\n",
       "      <td>-1.100245</td>\n",
       "      <td>-1.420367</td>\n",
       "      <td>0.529749</td>\n",
       "      <td>-0.341513</td>\n",
       "    </tr>\n",
       "    <tr>\n",
       "      <th>4</th>\n",
       "      <td>-0.023031</td>\n",
       "      <td>0.442895</td>\n",
       "      <td>0.198741</td>\n",
       "      <td>0.362536</td>\n",
       "      <td>-0.517038</td>\n",
       "      <td>0.573305</td>\n",
       "      <td>0.827545</td>\n",
       "      <td>0.461923</td>\n",
       "      <td>1.170650</td>\n",
       "    </tr>\n",
       "  </tbody>\n",
       "</table>\n",
       "</div>"
      ],
      "text/plain": [
       "   rider_group  max_speed  total_height  soak_level  max_hourly_throughput  \\\n",
       "0     0.649466  -0.093457     -0.972242   -0.054238               0.007423   \n",
       "1     0.649466  -0.545025      0.869445    0.779310              -0.751596   \n",
       "2     1.321963   0.523993     -0.912161    0.779310              -0.450235   \n",
       "3    -1.368025   1.128542      0.501893    0.779310               0.063928   \n",
       "4    -0.023031   0.442895      0.198741    0.362536              -0.517038   \n",
       "\n",
       "   avg_duration  square_feet  installation_cost  maintenance_cost  \n",
       "0     -0.525275    -0.637493          -0.404727         -0.420222  \n",
       "1     -2.857724     2.215527           1.622991          0.026067  \n",
       "2     -0.744491     0.677659           0.764526          0.288706  \n",
       "3     -1.100245    -1.420367           0.529749         -0.341513  \n",
       "4      0.573305     0.827545           0.461923          1.170650  "
      ]
     },
     "execution_count": 9,
     "metadata": {},
     "output_type": "execute_result"
    }
   ],
   "source": [
    "wr_normalized.head()"
   ]
  },
  {
   "cell_type": "markdown",
   "id": "dee90004",
   "metadata": {},
   "source": [
    "Question-E: Elbow chart.\n",
    "    \n",
    "Build an elbow chart to help give you a sense of how you might build\n",
    "your model."
   ]
  },
  {
   "cell_type": "code",
   "execution_count": 10,
   "id": "79c71414",
   "metadata": {},
   "outputs": [
    {
     "data": {
      "image/png": "[encoded data removed]",
      "text/plain": [
       "<Figure size 432x288 with 1 Axes>"
      ]
     },
     "metadata": {
      "needs_background": "light"
     },
     "output_type": "display_data"
    }
   ],
   "source": [
    "from sklearn.cluster import KMeans\n",
    "sse={}\n",
    "for k in range(1,20):\n",
    "    kmeans= KMeans(n_clusters=k,random_state=100)\n",
    "    kmeans.fit(wr_normalized)\n",
    "    sse[k]=kmeans.inertia_\n",
    "sns.pointplot(x=list(sse.keys()),y=list(sse.values()));\n",
    "plt.xlabel('x');\n",
    "plt.ylabel('SSE');\n",
    "plt.title('Elbow chart');"
   ]
  },
  {
   "cell_type": "markdown",
   "id": "15ced51f",
   "metadata": {},
   "source": [
    "Question-F: How many clusters will you use for your k-means model? (Remember, as noted in several places throughout the course material, there is no “right” answer to this question. You may wish to answer this immediately after seeing your elbow plot, or after doing some more experimentation)."
   ]
  },
  {
   "cell_type": "code",
   "execution_count": 11,
   "id": "bb38c9a0",
   "metadata": {},
   "outputs": [],
   "source": [
    "#change k value in n_clusters=k to compare each cluster\n",
    "kmeans=KMeans(n_clusters=3,random_state=100)\n",
    "kmeans.fit(wr_normalized)\n",
    "cluster_labels=kmeans.labels_"
   ]
  },
  {
   "cell_type": "code",
   "execution_count": 12,
   "id": "e96f77ea",
   "metadata": {},
   "outputs": [
    {
     "data": {
      "text/html": [
       "<div>\n",
       "<style scoped>\n",
       "    .dataframe tbody tr th:only-of-type {\n",
       "        vertical-align: middle;\n",
       "    }\n",
       "\n",
       "    .dataframe tbody tr th {\n",
       "        vertical-align: top;\n",
       "    }\n",
       "\n",
       "    .dataframe thead th {\n",
       "        text-align: right;\n",
       "    }\n",
       "</style>\n",
       "<table border=\"1\" class=\"dataframe\">\n",
       "  <thead>\n",
       "    <tr style=\"text-align: right;\">\n",
       "      <th></th>\n",
       "      <th>rider_group</th>\n",
       "      <th>max_speed</th>\n",
       "      <th>total_height</th>\n",
       "      <th>soak_level</th>\n",
       "      <th>max_hourly_throughput</th>\n",
       "      <th>avg_duration</th>\n",
       "      <th>square_feet</th>\n",
       "      <th>installation_cost</th>\n",
       "      <th>maintenance_cost</th>\n",
       "    </tr>\n",
       "    <tr>\n",
       "      <th>cluster</th>\n",
       "      <th></th>\n",
       "      <th></th>\n",
       "      <th></th>\n",
       "      <th></th>\n",
       "      <th></th>\n",
       "      <th></th>\n",
       "      <th></th>\n",
       "      <th></th>\n",
       "      <th></th>\n",
       "    </tr>\n",
       "  </thead>\n",
       "  <tbody>\n",
       "    <tr>\n",
       "      <th>0</th>\n",
       "      <td>-0.31</td>\n",
       "      <td>-0.44</td>\n",
       "      <td>-0.35</td>\n",
       "      <td>-0.96</td>\n",
       "      <td>0.24</td>\n",
       "      <td>-0.04</td>\n",
       "      <td>0.43</td>\n",
       "      <td>-0.25</td>\n",
       "      <td>0.45</td>\n",
       "    </tr>\n",
       "    <tr>\n",
       "      <th>1</th>\n",
       "      <td>0.16</td>\n",
       "      <td>-0.40</td>\n",
       "      <td>-0.31</td>\n",
       "      <td>0.37</td>\n",
       "      <td>0.30</td>\n",
       "      <td>0.38</td>\n",
       "      <td>-0.89</td>\n",
       "      <td>-0.27</td>\n",
       "      <td>-0.63</td>\n",
       "    </tr>\n",
       "    <tr>\n",
       "      <th>2</th>\n",
       "      <td>0.12</td>\n",
       "      <td>0.66</td>\n",
       "      <td>0.51</td>\n",
       "      <td>0.47</td>\n",
       "      <td>-0.42</td>\n",
       "      <td>-0.26</td>\n",
       "      <td>0.35</td>\n",
       "      <td>0.41</td>\n",
       "      <td>0.13</td>\n",
       "    </tr>\n",
       "  </tbody>\n",
       "</table>\n",
       "</div>"
      ],
      "text/plain": [
       "         rider_group  max_speed  total_height  soak_level  \\\n",
       "cluster                                                     \n",
       "0              -0.31      -0.44         -0.35       -0.96   \n",
       "1               0.16      -0.40         -0.31        0.37   \n",
       "2               0.12       0.66          0.51        0.47   \n",
       "\n",
       "         max_hourly_throughput  avg_duration  square_feet  installation_cost  \\\n",
       "cluster                                                                        \n",
       "0                         0.24         -0.04         0.43              -0.25   \n",
       "1                         0.30          0.38        -0.89              -0.27   \n",
       "2                        -0.42         -0.26         0.35               0.41   \n",
       "\n",
       "         maintenance_cost  \n",
       "cluster                    \n",
       "0                    0.45  \n",
       "1                   -0.63  \n",
       "2                    0.13  "
      ]
     },
     "execution_count": 12,
     "metadata": {},
     "output_type": "execute_result"
    }
   ],
   "source": [
    "kmeans2=wr_normalized.assign(cluster=cluster_labels)\n",
    "kmeans2.groupby(['cluster']).agg({\n",
    "'rider_group':'mean',\n",
    "'max_speed':'mean',\n",
    "'total_height':'mean',\n",
    "'soak_level':'mean',\n",
    "'max_hourly_throughput':'mean',\n",
    "'avg_duration' :'mean',\n",
    "'square_feet':'mean',\n",
    "'installation_cost':'mean',\n",
    "'maintenance_cost' :'mean'}).round(2)"
   ]
  },
  {
   "cell_type": "markdown",
   "id": "c50d9868",
   "metadata": {},
   "source": [
    "Finally I will use 6 clusters for kmeans model.From the Elbow chart we can see the obvious decreased slope when the cluster is 3, 4 and 6. Then we compare the kmean models, which shows that cluster 6 is more detailed and the segmentation is more specific in variables.  "
   ]
  },
  {
   "cell_type": "markdown",
   "id": "8701e5f3",
   "metadata": {},
   "source": [
    "Question-G: Build a k-means model with your desired number of clusters"
   ]
  },
  {
   "cell_type": "code",
   "execution_count": 13,
   "id": "df1889c8",
   "metadata": {},
   "outputs": [],
   "source": [
    "kmeans=KMeans(n_clusters=6,random_state=100)\n",
    "kmeans.fit(wr_normalized)\n",
    "cluster_labels=kmeans.labels_"
   ]
  },
  {
   "cell_type": "markdown",
   "id": "40b161b2",
   "metadata": {},
   "source": [
    "Question-H: Generate and show summary statistics about each of your clusters."
   ]
  },
  {
   "cell_type": "code",
   "execution_count": 14,
   "id": "2f3cefea",
   "metadata": {},
   "outputs": [
    {
     "data": {
      "text/html": [
       "<div>\n",
       "<style scoped>\n",
       "    .dataframe tbody tr th:only-of-type {\n",
       "        vertical-align: middle;\n",
       "    }\n",
       "\n",
       "    .dataframe tbody tr th {\n",
       "        vertical-align: top;\n",
       "    }\n",
       "\n",
       "    .dataframe thead th {\n",
       "        text-align: right;\n",
       "    }\n",
       "</style>\n",
       "<table border=\"1\" class=\"dataframe\">\n",
       "  <thead>\n",
       "    <tr style=\"text-align: right;\">\n",
       "      <th></th>\n",
       "      <th>rider_group</th>\n",
       "      <th>max_speed</th>\n",
       "      <th>total_height</th>\n",
       "      <th>soak_level</th>\n",
       "      <th>max_hourly_throughput</th>\n",
       "      <th>avg_duration</th>\n",
       "      <th>square_feet</th>\n",
       "      <th>installation_cost</th>\n",
       "      <th>maintenance_cost</th>\n",
       "    </tr>\n",
       "    <tr>\n",
       "      <th>cluster</th>\n",
       "      <th></th>\n",
       "      <th></th>\n",
       "      <th></th>\n",
       "      <th></th>\n",
       "      <th></th>\n",
       "      <th></th>\n",
       "      <th></th>\n",
       "      <th></th>\n",
       "      <th></th>\n",
       "    </tr>\n",
       "  </thead>\n",
       "  <tbody>\n",
       "    <tr>\n",
       "      <th>0</th>\n",
       "      <td>-0.25</td>\n",
       "      <td>-0.40</td>\n",
       "      <td>0.20</td>\n",
       "      <td>-1.03</td>\n",
       "      <td>0.28</td>\n",
       "      <td>-0.07</td>\n",
       "      <td>-0.34</td>\n",
       "      <td>0.03</td>\n",
       "      <td>-1.41</td>\n",
       "    </tr>\n",
       "    <tr>\n",
       "      <th>1</th>\n",
       "      <td>1.27</td>\n",
       "      <td>0.59</td>\n",
       "      <td>-0.68</td>\n",
       "      <td>0.02</td>\n",
       "      <td>-0.25</td>\n",
       "      <td>-0.33</td>\n",
       "      <td>-0.19</td>\n",
       "      <td>-0.05</td>\n",
       "      <td>-0.27</td>\n",
       "    </tr>\n",
       "    <tr>\n",
       "      <th>2</th>\n",
       "      <td>-0.58</td>\n",
       "      <td>-0.75</td>\n",
       "      <td>-0.48</td>\n",
       "      <td>-0.83</td>\n",
       "      <td>-0.06</td>\n",
       "      <td>0.17</td>\n",
       "      <td>0.23</td>\n",
       "      <td>-0.50</td>\n",
       "      <td>0.79</td>\n",
       "    </tr>\n",
       "    <tr>\n",
       "      <th>3</th>\n",
       "      <td>-0.21</td>\n",
       "      <td>-0.33</td>\n",
       "      <td>-0.07</td>\n",
       "      <td>0.86</td>\n",
       "      <td>0.42</td>\n",
       "      <td>1.08</td>\n",
       "      <td>-0.65</td>\n",
       "      <td>0.16</td>\n",
       "      <td>0.05</td>\n",
       "    </tr>\n",
       "    <tr>\n",
       "      <th>4</th>\n",
       "      <td>0.01</td>\n",
       "      <td>0.18</td>\n",
       "      <td>0.55</td>\n",
       "      <td>0.47</td>\n",
       "      <td>-1.08</td>\n",
       "      <td>-0.29</td>\n",
       "      <td>0.89</td>\n",
       "      <td>0.73</td>\n",
       "      <td>0.25</td>\n",
       "    </tr>\n",
       "    <tr>\n",
       "      <th>5</th>\n",
       "      <td>-0.39</td>\n",
       "      <td>0.79</td>\n",
       "      <td>0.87</td>\n",
       "      <td>0.48</td>\n",
       "      <td>0.83</td>\n",
       "      <td>-0.69</td>\n",
       "      <td>0.02</td>\n",
       "      <td>-0.22</td>\n",
       "      <td>0.11</td>\n",
       "    </tr>\n",
       "  </tbody>\n",
       "</table>\n",
       "</div>"
      ],
      "text/plain": [
       "         rider_group  max_speed  total_height  soak_level  \\\n",
       "cluster                                                     \n",
       "0              -0.25      -0.40          0.20       -1.03   \n",
       "1               1.27       0.59         -0.68        0.02   \n",
       "2              -0.58      -0.75         -0.48       -0.83   \n",
       "3              -0.21      -0.33         -0.07        0.86   \n",
       "4               0.01       0.18          0.55        0.47   \n",
       "5              -0.39       0.79          0.87        0.48   \n",
       "\n",
       "         max_hourly_throughput  avg_duration  square_feet  installation_cost  \\\n",
       "cluster                                                                        \n",
       "0                         0.28         -0.07        -0.34               0.03   \n",
       "1                        -0.25         -0.33        -0.19              -0.05   \n",
       "2                        -0.06          0.17         0.23              -0.50   \n",
       "3                         0.42          1.08        -0.65               0.16   \n",
       "4                        -1.08         -0.29         0.89               0.73   \n",
       "5                         0.83         -0.69         0.02              -0.22   \n",
       "\n",
       "         maintenance_cost  \n",
       "cluster                    \n",
       "0                   -1.41  \n",
       "1                   -0.27  \n",
       "2                    0.79  \n",
       "3                    0.05  \n",
       "4                    0.25  \n",
       "5                    0.11  "
      ]
     },
     "execution_count": 14,
     "metadata": {},
     "output_type": "execute_result"
    }
   ],
   "source": [
    "kmeans2=wr_normalized.assign(cluster=cluster_labels)\n",
    "kmeans2.groupby(['cluster']).agg({\n",
    "'rider_group':'mean',\n",
    "'max_speed':'mean',\n",
    "'total_height':'mean',\n",
    "'soak_level':'mean',\n",
    "'max_hourly_throughput':'mean',\n",
    "'avg_duration' :'mean',\n",
    "'square_feet':'mean',\n",
    "'installation_cost':'mean',\n",
    "'maintenance_cost' :'mean'}).round(2)"
   ]
  },
  {
   "cell_type": "code",
   "execution_count": 15,
   "id": "c6d975c1",
   "metadata": {},
   "outputs": [
    {
     "data": {
      "text/plain": [
       "2    30\n",
       "1    28\n",
       "3    25\n",
       "4    23\n",
       "5    22\n",
       "0    18\n",
       "Name: cluster, dtype: int64"
      ]
     },
     "execution_count": 15,
     "metadata": {},
     "output_type": "execute_result"
    }
   ],
   "source": [
    "kmeans2['cluster'].value_counts()"
   ]
  },
  {
   "cell_type": "markdown",
   "id": "84b148e5",
   "metadata": {},
   "source": [
    "Question-I: Build any four simple visualizations to help management better understand your clusters (a simple visualization could be a histogram, a barplot, a scatterplot, etc.) You may wish to facet your visualizations by cluster. For each one of your visualizations, include 2-3 sentences of description/ explanation. What does it show about your model?"
   ]
  },
  {
   "cell_type": "code",
   "execution_count": 16,
   "id": "0505580e",
   "metadata": {},
   "outputs": [
    {
     "data": {
      "image/png": "[encoded data removed]",
      "text/plain": [
       "<Figure size 1152x360 with 2 Axes>"
      ]
     },
     "metadata": {
      "needs_background": "light"
     },
     "output_type": "display_data"
    }
   ],
   "source": [
    "# find each variable's correlation first\n",
    "plt.figure(figsize=(16,5))\n",
    "sns.heatmap(wr_normalized.corr(),annot=True,cmap=\"coolwarm\");"
   ]
  },
  {
   "cell_type": "markdown",
   "id": "d1e68217",
   "metadata": {},
   "source": [
    "Heatmap is a graphical representation of data where values are depicted by color, which presents the correlation between each variable. This heatmap compares 9 variables in Lobster land. We can directly tell any 2 variable's correlation rate and see how strong they correlated. "
   ]
  },
  {
   "cell_type": "code",
   "execution_count": 17,
   "id": "46cf38f9",
   "metadata": {},
   "outputs": [
    {
     "data": {
      "image/png": "[encoded data removed]",
      "text/plain": [
       "<Figure size 432x288 with 1 Axes>"
      ]
     },
     "metadata": {
      "needs_background": "light"
     },
     "output_type": "display_data"
    }
   ],
   "source": [
    "sns.barplot(x='cluster', y='rider_group',ci=None,data=kmeans2);"
   ]
  },
  {
   "cell_type": "markdown",
   "id": "3872ff7b",
   "metadata": {},
   "source": [
    "This barplot shows each cluster's rider group loadable quantity. Because we normalize the data with mean equals to 0, the quantity is not what we normally think.  The quantity above 0 indicates that the loadable quantity in that cluster can have more people on the ride at the same time while the quantity below 0 shows that less people on the ride at the same time. Lower the number of rider group, less people on the ride."
   ]
  },
  {
   "cell_type": "code",
   "execution_count": 18,
   "id": "2684d7c3",
   "metadata": {},
   "outputs": [
    {
     "data": {
      "image/png": "[encoded data removed]",
      "text/plain": [
       "<Figure size 432x288 with 1 Axes>"
      ]
     },
     "metadata": {
      "needs_background": "light"
     },
     "output_type": "display_data"
    }
   ],
   "source": [
    "sns.histplot(data=kmeans2,x='max_speed',hue='cluster',palette='rocket');"
   ]
  },
  {
   "cell_type": "markdown",
   "id": "c1425808",
   "metadata": {},
   "source": [
    "This histplot calculates the max speed's numbers in each cluster. Each cluster according to its max speed lies in the corresponded max speed range in x-axis. Each column accumulates that range's quantity, no matter it belongs to certain cluster, thus we can see one area of max speed has several cluster's stack. Cluster 5 mainly focus on highest max speed area while cluster 0 is more dispersed."
   ]
  },
  {
   "cell_type": "code",
   "execution_count": 19,
   "id": "3432093b",
   "metadata": {},
   "outputs": [
    {
     "data": {
      "image/png": "[encoded data removed]",
      "text/plain": [
       "<Figure size 1296x216 with 6 Axes>"
      ]
     },
     "metadata": {
      "needs_background": "light"
     },
     "output_type": "display_data"
    }
   ],
   "source": [
    "g = sns.FacetGrid(kmeans2, col=\"cluster\",margin_titles=True)\n",
    "bins = np.linspace(-2, 3, 10)\n",
    "g.map(plt.hist, \"square_feet\", color=\"steelblue\", bins=bins);"
   ]
  },
  {
   "cell_type": "markdown",
   "id": "2e303c5e",
   "metadata": {},
   "source": [
    "Faceting is the act of breaking data variables up across multiple subplots. This facetGrid object takes a cluster dataframe as input and the square feet as row to calculate the square feet range in columns among 6 clusters. We can see the square feet in cluster 3 is near 0 below that is lower than other clusters,showing that rides in cluster 3 take smaller spaces to play.  "
   ]
  },
  {
   "cell_type": "markdown",
   "id": "44241164",
   "metadata": {},
   "source": [
    "Question-J: Give a descriptive name to each one of your clusters, along with a few sentences of explanation for the name that you chose. For each cluster, also include a couple sentences about targeting. What types of visitors would be interested in these groups of rides, and how should Lobster Land reach them? You can exercise some ‘creative freedom’ here with this answer."
   ]
  },
  {
   "cell_type": "markdown",
   "id": "fdfc14bd",
   "metadata": {},
   "source": [
    "Cluster0: 'Dryer in the water'; \n",
    "Because the soak level is the lowest among all other clusters. They are the kind of the targeted people who come to lobster just want to experience the atmosphere like senior couples and only 'try' something is enough for them since as we all see in cluster 0 that the maintenance cost is also the lowest. We focus on generating some activities near these gentle rides once these people finishing playing the rides, they can watch the play and have the most fun and relax here. \n",
    "\n",
    "Cluster1: 'Advanced Giant'; \n",
    "Because rider group is the number of riders that go on the ride together at one time and this rider group in this cluster is the highest. Advanced Giants together experience the stimulus in Lobster. They are the kind of the targeted people who come in a large team like 5 plus people. It seems that all levels of rides are fine for them and the only need is that they want to play together. Lobster could launch a team member discount tickets,attracting companies for choosing company team building at the lobster. \n",
    "\n",
    "Cluster2: 'Sun flower';\n",
    "Because the installation is the lowest while maintenance cost is the highest in all clusters and with the lowest max speed I am wondering this is the ride for kids since kids are like sun flowers, so sweet and naive. Parents take children to Lobster for fun in weekend. We need to make sure the equippment is in safe. Employees in lobster land could dress up as fairy tale characters to attract those lovely children. I believe seeing children enjoying the ride and the activities, parent would definitely feel satisfied and recommend to their friends. \n",
    "\n",
    "Cluster3: 'Water diver'; \n",
    "Because this cluster has the highest soak level and takes the longest average duration. They are the kind of the targeted people who enjoy staying in the water. Since this ride takes the longest time people who want to play this ride may wait for longer time than others,employees may create some games that can make people participate in the interaction while not feel bored waiting.\n",
    "\n",
    "Cluster4: 'Journey explorer';\n",
    "Because this ride takes the largest floor space and the installation cost is the highest. This ride makes tourists feel like they are the journey explorers. They are the kind of the targeted people who fully enjoy playing in the water world! It's no matter how stimulated the ride is, it is in the water that they really care. Lobster land needs to observer the water quality and make sure regularly change the water. \n",
    "\n",
    "Cluster5: 'Thrill seeker'; \n",
    "Because this cluster has the highest total height with maximum speed and the playing time is also the longest, which creates the maximum stimulation during the rides. They are the kind of targeted people who love pursuing excitement. Under the safety, Lobster could generate the sensory and visual dual stimulation experience at the same time like broadcasting the shouting voice loudly to make those waiting-in line customers feel excited. "
   ]
  },
  {
   "cell_type": "markdown",
   "id": "2b17a1ce",
   "metadata": {},
   "source": [
    "Question-K: How can Lobster Land use this model? This is the most open-ended question on the assignment, so stop and take a moment with it – it’s not a “throwaway question.” Write 2-3 paragraphs here to assess the way that Lobster Land might be able to use these results. You might want to think about some ‘what if’ scenarios, and some ways in which Lobster Land’s priorities could impact their decision regarding the way to use the model."
   ]
  },
  {
   "cell_type": "markdown",
   "id": "9022a641",
   "metadata": {},
   "source": [
    "Lobster land can use this model to better understand their customers and do specific segmentation, manage activities targeting different types of customers. As we can see in the summary statistics of kmeans model. Cluster 2 and 1 take large proportions. Lobster land may pay more attention to the targeted group like children or those people in groups since with focused market strategy it is more likely to build brand image and get customer loyalty. \n",
    "\n",
    "We make our tourists satisfied with the service and environment in Lobster land, it is more likely to come again and even recommend to their friends. This is so-called word of mouth spread. To some extent, it saves the advertising budget because people tend to believe those people who they know and trust their personal experience rather than the advertisments. \n",
    "\n",
    "In such competitive reality, winning the quantities of customers means holding the marketing shares. Great people can start a new successful business not because his platform but his customers' resources. It is exactly customers that generate the profits. And that's why some professional jargons appear like customer price, customer lifetime circle and etc. "
   ]
  },
  {
   "cell_type": "markdown",
   "id": "a0517874",
   "metadata": {},
   "source": [
    "Part II: Conjoint Analysis with a Linear Model "
   ]
  },
  {
   "cell_type": "markdown",
   "id": "52436dcf",
   "metadata": {},
   "source": [
    "Question-A: Read the dataset entertainment.csv into your local environment in Jupyter Notebook."
   ]
  },
  {
   "cell_type": "code",
   "execution_count": 21,
   "id": "f861eb2c",
   "metadata": {},
   "outputs": [
    {
     "name": "stdout",
     "output_type": "stream",
     "text": [
      "<class 'pandas.core.frame.DataFrame'>\n",
      "RangeIndex: 2592 entries, 0 to 2591\n",
      "Data columns (total 9 columns):\n",
      " #   Column         Non-Null Count  Dtype  \n",
      "---  ------         --------------  -----  \n",
      " 0   bundleID       2592 non-null   int64  \n",
      " 1   live_science   2592 non-null   object \n",
      " 2   live_nature    2592 non-null   object \n",
      " 3   live_magic     2592 non-null   object \n",
      " 4   dance_troupes  2592 non-null   object \n",
      " 5   sing_styles    2592 non-null   object \n",
      " 6   comedy_styles  2592 non-null   object \n",
      " 7   show_length    2592 non-null   int64  \n",
      " 8   avg_rating     2592 non-null   float64\n",
      "dtypes: float64(1), int64(2), object(6)\n",
      "memory usage: 182.4+ KB\n"
     ]
    },
    {
     "data": {
      "text/html": [
       "<div>\n",
       "<style scoped>\n",
       "    .dataframe tbody tr th:only-of-type {\n",
       "        vertical-align: middle;\n",
       "    }\n",
       "\n",
       "    .dataframe tbody tr th {\n",
       "        vertical-align: top;\n",
       "    }\n",
       "\n",
       "    .dataframe thead th {\n",
       "        text-align: right;\n",
       "    }\n",
       "</style>\n",
       "<table border=\"1\" class=\"dataframe\">\n",
       "  <thead>\n",
       "    <tr style=\"text-align: right;\">\n",
       "      <th></th>\n",
       "      <th>bundleID</th>\n",
       "      <th>live_science</th>\n",
       "      <th>live_nature</th>\n",
       "      <th>live_magic</th>\n",
       "      <th>dance_troupes</th>\n",
       "      <th>sing_styles</th>\n",
       "      <th>comedy_styles</th>\n",
       "      <th>show_length</th>\n",
       "      <th>avg_rating</th>\n",
       "    </tr>\n",
       "  </thead>\n",
       "  <tbody>\n",
       "    <tr>\n",
       "      <th>0</th>\n",
       "      <td>1</td>\n",
       "      <td>Liquid Air Show</td>\n",
       "      <td>All About Crustaceans</td>\n",
       "      <td>Card Tricks</td>\n",
       "      <td>Atlanta Ballet</td>\n",
       "      <td>Beatles</td>\n",
       "      <td>Improv</td>\n",
       "      <td>10</td>\n",
       "      <td>7.516434</td>\n",
       "    </tr>\n",
       "    <tr>\n",
       "      <th>1</th>\n",
       "      <td>2</td>\n",
       "      <td>Liquid Air Show</td>\n",
       "      <td>All About Crustaceans</td>\n",
       "      <td>Card Tricks</td>\n",
       "      <td>Atlanta Ballet</td>\n",
       "      <td>Beatles</td>\n",
       "      <td>Improv</td>\n",
       "      <td>20</td>\n",
       "      <td>7.392987</td>\n",
       "    </tr>\n",
       "    <tr>\n",
       "      <th>2</th>\n",
       "      <td>3</td>\n",
       "      <td>Liquid Air Show</td>\n",
       "      <td>All About Crustaceans</td>\n",
       "      <td>Card Tricks</td>\n",
       "      <td>Atlanta Ballet</td>\n",
       "      <td>Beatles</td>\n",
       "      <td>Improv</td>\n",
       "      <td>30</td>\n",
       "      <td>8.921361</td>\n",
       "    </tr>\n",
       "    <tr>\n",
       "      <th>3</th>\n",
       "      <td>4</td>\n",
       "      <td>Liquid Air Show</td>\n",
       "      <td>All About Crustaceans</td>\n",
       "      <td>Card Tricks</td>\n",
       "      <td>Atlanta Ballet</td>\n",
       "      <td>Beatles</td>\n",
       "      <td>Slapstick</td>\n",
       "      <td>10</td>\n",
       "      <td>7.726377</td>\n",
       "    </tr>\n",
       "    <tr>\n",
       "      <th>4</th>\n",
       "      <td>5</td>\n",
       "      <td>Liquid Air Show</td>\n",
       "      <td>All About Crustaceans</td>\n",
       "      <td>Card Tricks</td>\n",
       "      <td>Atlanta Ballet</td>\n",
       "      <td>Beatles</td>\n",
       "      <td>Slapstick</td>\n",
       "      <td>20</td>\n",
       "      <td>9.659494</td>\n",
       "    </tr>\n",
       "  </tbody>\n",
       "</table>\n",
       "</div>"
      ],
      "text/plain": [
       "   bundleID     live_science            live_nature   live_magic  \\\n",
       "0         1  Liquid Air Show  All About Crustaceans  Card Tricks   \n",
       "1         2  Liquid Air Show  All About Crustaceans  Card Tricks   \n",
       "2         3  Liquid Air Show  All About Crustaceans  Card Tricks   \n",
       "3         4  Liquid Air Show  All About Crustaceans  Card Tricks   \n",
       "4         5  Liquid Air Show  All About Crustaceans  Card Tricks   \n",
       "\n",
       "    dance_troupes sing_styles comedy_styles  show_length  avg_rating  \n",
       "0  Atlanta Ballet     Beatles        Improv           10    7.516434  \n",
       "1  Atlanta Ballet     Beatles        Improv           20    7.392987  \n",
       "2  Atlanta Ballet     Beatles        Improv           30    8.921361  \n",
       "3  Atlanta Ballet     Beatles     Slapstick           10    7.726377  \n",
       "4  Atlanta Ballet     Beatles     Slapstick           20    9.659494  "
      ]
     },
     "execution_count": 21,
     "metadata": {},
     "output_type": "execute_result"
    }
   ],
   "source": [
    "entertainment=pd.read_csv('/Users/luoyayuan/Desktop/Class Slides/654/assignment2/entertainment.csv')\n",
    "entertainment.info()\n",
    "entertainment.head()"
   ]
  },
  {
   "cell_type": "markdown",
   "id": "1379c52a",
   "metadata": {},
   "source": [
    "Question-B: Based on the descriptions shown above, which of your variables are numeric, and which are categorical? (The standard you should use when answering this is that something that is both represented by a number, and for which that number has valid mathematical meaning, is numeric)."
   ]
  },
  {
   "cell_type": "markdown",
   "id": "08d67dd7",
   "metadata": {},
   "source": [
    "Show length and average rating are numeric while the rest of the other variables are categorical. The bundleID is categorical because we cannot say bundleID1 plus bundleID2 equals bundleID3. It is meaningless and does not have mathmatical effect."
   ]
  },
  {
   "cell_type": "markdown",
   "id": "4f51b099",
   "metadata": {},
   "source": [
    "Question-C: After first removing the bundleID variable, use the pandas get_dummies() function in order to prepare the remaining variables for use in a linear model. Inside this function, include this argument: drop_first = True. Doing this will save us from the multicollinearity problem that would make our model unreliable. Be sure to dummify ALL of your input variables, even the numeric ones.\n",
    "Why should the numeric input variables based on this survey data be dummified?"
   ]
  },
  {
   "cell_type": "code",
   "execution_count": 28,
   "id": "d4de1719",
   "metadata": {},
   "outputs": [
    {
     "name": "stderr",
     "output_type": "stream",
     "text": [
      "/var/folders/69/sjzrfpp90kb586qq0vrpgyjw0000gn/T/ipykernel_4975/1087855472.py:1: FutureWarning: In a future version of pandas all arguments of DataFrame.drop except for the argument 'labels' will be keyword-only\n",
      "  entertainment.drop('bundleID',1,inplace=True)\n"
     ]
    }
   ],
   "source": [
    "entertainment.drop('bundleID',1,inplace=True)"
   ]
  },
  {
   "cell_type": "code",
   "execution_count": 29,
   "id": "0734b885",
   "metadata": {},
   "outputs": [
    {
     "data": {
      "text/html": [
       "<div>\n",
       "<style scoped>\n",
       "    .dataframe tbody tr th:only-of-type {\n",
       "        vertical-align: middle;\n",
       "    }\n",
       "\n",
       "    .dataframe tbody tr th {\n",
       "        vertical-align: top;\n",
       "    }\n",
       "\n",
       "    .dataframe thead th {\n",
       "        text-align: right;\n",
       "    }\n",
       "</style>\n",
       "<table border=\"1\" class=\"dataframe\">\n",
       "  <thead>\n",
       "    <tr style=\"text-align: right;\">\n",
       "      <th></th>\n",
       "      <th>live_science</th>\n",
       "      <th>live_nature</th>\n",
       "      <th>live_magic</th>\n",
       "      <th>dance_troupes</th>\n",
       "      <th>sing_styles</th>\n",
       "      <th>comedy_styles</th>\n",
       "      <th>show_length</th>\n",
       "      <th>avg_rating</th>\n",
       "    </tr>\n",
       "  </thead>\n",
       "  <tbody>\n",
       "    <tr>\n",
       "      <th>0</th>\n",
       "      <td>Liquid Air Show</td>\n",
       "      <td>All About Crustaceans</td>\n",
       "      <td>Card Tricks</td>\n",
       "      <td>Atlanta Ballet</td>\n",
       "      <td>Beatles</td>\n",
       "      <td>Improv</td>\n",
       "      <td>10</td>\n",
       "      <td>7.516434</td>\n",
       "    </tr>\n",
       "    <tr>\n",
       "      <th>1</th>\n",
       "      <td>Liquid Air Show</td>\n",
       "      <td>All About Crustaceans</td>\n",
       "      <td>Card Tricks</td>\n",
       "      <td>Atlanta Ballet</td>\n",
       "      <td>Beatles</td>\n",
       "      <td>Improv</td>\n",
       "      <td>20</td>\n",
       "      <td>7.392987</td>\n",
       "    </tr>\n",
       "    <tr>\n",
       "      <th>2</th>\n",
       "      <td>Liquid Air Show</td>\n",
       "      <td>All About Crustaceans</td>\n",
       "      <td>Card Tricks</td>\n",
       "      <td>Atlanta Ballet</td>\n",
       "      <td>Beatles</td>\n",
       "      <td>Improv</td>\n",
       "      <td>30</td>\n",
       "      <td>8.921361</td>\n",
       "    </tr>\n",
       "    <tr>\n",
       "      <th>3</th>\n",
       "      <td>Liquid Air Show</td>\n",
       "      <td>All About Crustaceans</td>\n",
       "      <td>Card Tricks</td>\n",
       "      <td>Atlanta Ballet</td>\n",
       "      <td>Beatles</td>\n",
       "      <td>Slapstick</td>\n",
       "      <td>10</td>\n",
       "      <td>7.726377</td>\n",
       "    </tr>\n",
       "    <tr>\n",
       "      <th>4</th>\n",
       "      <td>Liquid Air Show</td>\n",
       "      <td>All About Crustaceans</td>\n",
       "      <td>Card Tricks</td>\n",
       "      <td>Atlanta Ballet</td>\n",
       "      <td>Beatles</td>\n",
       "      <td>Slapstick</td>\n",
       "      <td>20</td>\n",
       "      <td>9.659494</td>\n",
       "    </tr>\n",
       "  </tbody>\n",
       "</table>\n",
       "</div>"
      ],
      "text/plain": [
       "      live_science            live_nature   live_magic   dance_troupes  \\\n",
       "0  Liquid Air Show  All About Crustaceans  Card Tricks  Atlanta Ballet   \n",
       "1  Liquid Air Show  All About Crustaceans  Card Tricks  Atlanta Ballet   \n",
       "2  Liquid Air Show  All About Crustaceans  Card Tricks  Atlanta Ballet   \n",
       "3  Liquid Air Show  All About Crustaceans  Card Tricks  Atlanta Ballet   \n",
       "4  Liquid Air Show  All About Crustaceans  Card Tricks  Atlanta Ballet   \n",
       "\n",
       "  sing_styles comedy_styles  show_length  avg_rating  \n",
       "0     Beatles        Improv           10    7.516434  \n",
       "1     Beatles        Improv           20    7.392987  \n",
       "2     Beatles        Improv           30    8.921361  \n",
       "3     Beatles     Slapstick           10    7.726377  \n",
       "4     Beatles     Slapstick           20    9.659494  "
      ]
     },
     "execution_count": 29,
     "metadata": {},
     "output_type": "execute_result"
    }
   ],
   "source": [
    "entertainment.head()"
   ]
  },
  {
   "cell_type": "code",
   "execution_count": 30,
   "id": "8a756be7",
   "metadata": {},
   "outputs": [
    {
     "data": {
      "text/plain": [
       "False"
      ]
     },
     "execution_count": 30,
     "metadata": {},
     "output_type": "execute_result"
    }
   ],
   "source": [
    "entertainment.isnull().values.any()"
   ]
  },
  {
   "cell_type": "code",
   "execution_count": 45,
   "id": "86e74235",
   "metadata": {},
   "outputs": [],
   "source": [
    "entertainment2=pd.get_dummies(entertainment,drop_first=True, \n",
    "                              columns=['live_science','live_nature','live_magic',\n",
    "                                       'dance_troupes','sing_styles','comedy_styles','show_length'])"
   ]
  },
  {
   "cell_type": "code",
   "execution_count": 46,
   "id": "93102d3f",
   "metadata": {},
   "outputs": [
    {
     "data": {
      "text/html": [
       "<div>\n",
       "<style scoped>\n",
       "    .dataframe tbody tr th:only-of-type {\n",
       "        vertical-align: middle;\n",
       "    }\n",
       "\n",
       "    .dataframe tbody tr th {\n",
       "        vertical-align: top;\n",
       "    }\n",
       "\n",
       "    .dataframe thead th {\n",
       "        text-align: right;\n",
       "    }\n",
       "</style>\n",
       "<table border=\"1\" class=\"dataframe\">\n",
       "  <thead>\n",
       "    <tr style=\"text-align: right;\">\n",
       "      <th></th>\n",
       "      <th>avg_rating</th>\n",
       "      <th>live_science_Liquid Air Show</th>\n",
       "      <th>live_science_Science of Fireworks</th>\n",
       "      <th>live_nature_Fun With Vipers and Cobras</th>\n",
       "      <th>live_nature_Wide World of Canines</th>\n",
       "      <th>live_magic_Mind Reader</th>\n",
       "      <th>dance_troupes_Celtic Folk Dance</th>\n",
       "      <th>dance_troupes_Hip-Hop Fusion</th>\n",
       "      <th>dance_troupes_Salsa Vida</th>\n",
       "      <th>sing_styles_Italian Opera</th>\n",
       "      <th>sing_styles_Open Mic</th>\n",
       "      <th>sing_styles_Wiggles</th>\n",
       "      <th>comedy_styles_Open Mic</th>\n",
       "      <th>comedy_styles_Slapstick</th>\n",
       "      <th>show_length_20</th>\n",
       "      <th>show_length_30</th>\n",
       "    </tr>\n",
       "  </thead>\n",
       "  <tbody>\n",
       "    <tr>\n",
       "      <th>0</th>\n",
       "      <td>7.516434</td>\n",
       "      <td>1</td>\n",
       "      <td>0</td>\n",
       "      <td>0</td>\n",
       "      <td>0</td>\n",
       "      <td>0</td>\n",
       "      <td>0</td>\n",
       "      <td>0</td>\n",
       "      <td>0</td>\n",
       "      <td>0</td>\n",
       "      <td>0</td>\n",
       "      <td>0</td>\n",
       "      <td>0</td>\n",
       "      <td>0</td>\n",
       "      <td>0</td>\n",
       "      <td>0</td>\n",
       "    </tr>\n",
       "    <tr>\n",
       "      <th>1</th>\n",
       "      <td>7.392987</td>\n",
       "      <td>1</td>\n",
       "      <td>0</td>\n",
       "      <td>0</td>\n",
       "      <td>0</td>\n",
       "      <td>0</td>\n",
       "      <td>0</td>\n",
       "      <td>0</td>\n",
       "      <td>0</td>\n",
       "      <td>0</td>\n",
       "      <td>0</td>\n",
       "      <td>0</td>\n",
       "      <td>0</td>\n",
       "      <td>0</td>\n",
       "      <td>1</td>\n",
       "      <td>0</td>\n",
       "    </tr>\n",
       "    <tr>\n",
       "      <th>2</th>\n",
       "      <td>8.921361</td>\n",
       "      <td>1</td>\n",
       "      <td>0</td>\n",
       "      <td>0</td>\n",
       "      <td>0</td>\n",
       "      <td>0</td>\n",
       "      <td>0</td>\n",
       "      <td>0</td>\n",
       "      <td>0</td>\n",
       "      <td>0</td>\n",
       "      <td>0</td>\n",
       "      <td>0</td>\n",
       "      <td>0</td>\n",
       "      <td>0</td>\n",
       "      <td>0</td>\n",
       "      <td>1</td>\n",
       "    </tr>\n",
       "    <tr>\n",
       "      <th>3</th>\n",
       "      <td>7.726377</td>\n",
       "      <td>1</td>\n",
       "      <td>0</td>\n",
       "      <td>0</td>\n",
       "      <td>0</td>\n",
       "      <td>0</td>\n",
       "      <td>0</td>\n",
       "      <td>0</td>\n",
       "      <td>0</td>\n",
       "      <td>0</td>\n",
       "      <td>0</td>\n",
       "      <td>0</td>\n",
       "      <td>0</td>\n",
       "      <td>1</td>\n",
       "      <td>0</td>\n",
       "      <td>0</td>\n",
       "    </tr>\n",
       "    <tr>\n",
       "      <th>4</th>\n",
       "      <td>9.659494</td>\n",
       "      <td>1</td>\n",
       "      <td>0</td>\n",
       "      <td>0</td>\n",
       "      <td>0</td>\n",
       "      <td>0</td>\n",
       "      <td>0</td>\n",
       "      <td>0</td>\n",
       "      <td>0</td>\n",
       "      <td>0</td>\n",
       "      <td>0</td>\n",
       "      <td>0</td>\n",
       "      <td>0</td>\n",
       "      <td>1</td>\n",
       "      <td>1</td>\n",
       "      <td>0</td>\n",
       "    </tr>\n",
       "  </tbody>\n",
       "</table>\n",
       "</div>"
      ],
      "text/plain": [
       "   avg_rating  live_science_Liquid Air Show  \\\n",
       "0    7.516434                             1   \n",
       "1    7.392987                             1   \n",
       "2    8.921361                             1   \n",
       "3    7.726377                             1   \n",
       "4    9.659494                             1   \n",
       "\n",
       "   live_science_Science of Fireworks  live_nature_Fun With Vipers and Cobras  \\\n",
       "0                                  0                                       0   \n",
       "1                                  0                                       0   \n",
       "2                                  0                                       0   \n",
       "3                                  0                                       0   \n",
       "4                                  0                                       0   \n",
       "\n",
       "   live_nature_Wide World of Canines  live_magic_Mind Reader  \\\n",
       "0                                  0                       0   \n",
       "1                                  0                       0   \n",
       "2                                  0                       0   \n",
       "3                                  0                       0   \n",
       "4                                  0                       0   \n",
       "\n",
       "   dance_troupes_Celtic Folk Dance  dance_troupes_Hip-Hop Fusion  \\\n",
       "0                                0                             0   \n",
       "1                                0                             0   \n",
       "2                                0                             0   \n",
       "3                                0                             0   \n",
       "4                                0                             0   \n",
       "\n",
       "   dance_troupes_Salsa Vida  sing_styles_Italian Opera  sing_styles_Open Mic  \\\n",
       "0                         0                          0                     0   \n",
       "1                         0                          0                     0   \n",
       "2                         0                          0                     0   \n",
       "3                         0                          0                     0   \n",
       "4                         0                          0                     0   \n",
       "\n",
       "   sing_styles_Wiggles  comedy_styles_Open Mic  comedy_styles_Slapstick  \\\n",
       "0                    0                       0                        0   \n",
       "1                    0                       0                        0   \n",
       "2                    0                       0                        0   \n",
       "3                    0                       0                        1   \n",
       "4                    0                       0                        1   \n",
       "\n",
       "   show_length_20  show_length_30  \n",
       "0               0               0  \n",
       "1               1               0  \n",
       "2               0               1  \n",
       "3               0               0  \n",
       "4               1               0  "
      ]
     },
     "execution_count": 46,
     "metadata": {},
     "output_type": "execute_result"
    }
   ],
   "source": [
    "entertainment2.head()"
   ]
  },
  {
   "cell_type": "markdown",
   "id": "b899b5e1",
   "metadata": {},
   "source": [
    "Here we should dummify the numeric variable 'show_length' because this numeric variable acts in categorical nature. As we can see above in entertainment table ,show length only has 3 changes: 10, 20, 30."
   ]
  },
  {
   "cell_type": "markdown",
   "id": "9dbb6d68",
   "metadata": {},
   "source": [
    "Question-D: Build a linear model with your data, using the average rating as the outcome variable, and with all of your other variables as inputs."
   ]
  },
  {
   "cell_type": "code",
   "execution_count": 47,
   "id": "0da206d9",
   "metadata": {},
   "outputs": [
    {
     "data": {
      "text/html": [
       "<div>\n",
       "<style scoped>\n",
       "    .dataframe tbody tr th:only-of-type {\n",
       "        vertical-align: middle;\n",
       "    }\n",
       "\n",
       "    .dataframe tbody tr th {\n",
       "        vertical-align: top;\n",
       "    }\n",
       "\n",
       "    .dataframe thead th {\n",
       "        text-align: right;\n",
       "    }\n",
       "</style>\n",
       "<table border=\"1\" class=\"dataframe\">\n",
       "  <thead>\n",
       "    <tr style=\"text-align: right;\">\n",
       "      <th></th>\n",
       "      <th>live_science</th>\n",
       "      <th>live_nature</th>\n",
       "      <th>live_magic</th>\n",
       "      <th>dance_troupes</th>\n",
       "      <th>sing_styles</th>\n",
       "      <th>comedy_styles</th>\n",
       "      <th>show_length</th>\n",
       "      <th>avg_rating</th>\n",
       "    </tr>\n",
       "  </thead>\n",
       "  <tbody>\n",
       "    <tr>\n",
       "      <th>79</th>\n",
       "      <td>Liquid Air Show</td>\n",
       "      <td>All About Crustaceans</td>\n",
       "      <td>Card Tricks</td>\n",
       "      <td>Salsa Vida</td>\n",
       "      <td>Beatles</td>\n",
       "      <td>Open Mic</td>\n",
       "      <td>20</td>\n",
       "      <td>9.986481</td>\n",
       "    </tr>\n",
       "    <tr>\n",
       "      <th>95</th>\n",
       "      <td>Liquid Air Show</td>\n",
       "      <td>All About Crustaceans</td>\n",
       "      <td>Card Tricks</td>\n",
       "      <td>Salsa Vida</td>\n",
       "      <td>Italian Opera</td>\n",
       "      <td>Slapstick</td>\n",
       "      <td>30</td>\n",
       "      <td>9.971483</td>\n",
       "    </tr>\n",
       "    <tr>\n",
       "      <th>124</th>\n",
       "      <td>Liquid Air Show</td>\n",
       "      <td>All About Crustaceans</td>\n",
       "      <td>Card Tricks</td>\n",
       "      <td>Celtic Folk Dance</td>\n",
       "      <td>Wiggles</td>\n",
       "      <td>Open Mic</td>\n",
       "      <td>20</td>\n",
       "      <td>9.961208</td>\n",
       "    </tr>\n",
       "    <tr>\n",
       "      <th>1119</th>\n",
       "      <td>Science of Fireworks</td>\n",
       "      <td>All About Crustaceans</td>\n",
       "      <td>Mind Reader</td>\n",
       "      <td>Celtic Folk Dance</td>\n",
       "      <td>Beatles</td>\n",
       "      <td>Slapstick</td>\n",
       "      <td>10</td>\n",
       "      <td>9.948701</td>\n",
       "    </tr>\n",
       "    <tr>\n",
       "      <th>328</th>\n",
       "      <td>Liquid Air Show</td>\n",
       "      <td>Wide World of Canines</td>\n",
       "      <td>Card Tricks</td>\n",
       "      <td>Hip-Hop Fusion</td>\n",
       "      <td>Beatles</td>\n",
       "      <td>Slapstick</td>\n",
       "      <td>20</td>\n",
       "      <td>9.940039</td>\n",
       "    </tr>\n",
       "    <tr>\n",
       "      <th>...</th>\n",
       "      <td>...</td>\n",
       "      <td>...</td>\n",
       "      <td>...</td>\n",
       "      <td>...</td>\n",
       "      <td>...</td>\n",
       "      <td>...</td>\n",
       "      <td>...</td>\n",
       "      <td>...</td>\n",
       "    </tr>\n",
       "    <tr>\n",
       "      <th>1109</th>\n",
       "      <td>Science of Fireworks</td>\n",
       "      <td>All About Crustaceans</td>\n",
       "      <td>Mind Reader</td>\n",
       "      <td>Salsa Vida</td>\n",
       "      <td>Open Mic</td>\n",
       "      <td>Improv</td>\n",
       "      <td>30</td>\n",
       "      <td>0.144726</td>\n",
       "    </tr>\n",
       "    <tr>\n",
       "      <th>681</th>\n",
       "      <td>Liquid Air Show</td>\n",
       "      <td>Fun With Vipers and Cobras</td>\n",
       "      <td>Card Tricks</td>\n",
       "      <td>Salsa Vida</td>\n",
       "      <td>Open Mic</td>\n",
       "      <td>Open Mic</td>\n",
       "      <td>10</td>\n",
       "      <td>0.121504</td>\n",
       "    </tr>\n",
       "    <tr>\n",
       "      <th>1439</th>\n",
       "      <td>Science of Fireworks</td>\n",
       "      <td>Wide World of Canines</td>\n",
       "      <td>Mind Reader</td>\n",
       "      <td>Celtic Folk Dance</td>\n",
       "      <td>Open Mic</td>\n",
       "      <td>Open Mic</td>\n",
       "      <td>30</td>\n",
       "      <td>0.109742</td>\n",
       "    </tr>\n",
       "    <tr>\n",
       "      <th>1446</th>\n",
       "      <td>Science of Fireworks</td>\n",
       "      <td>Fun With Vipers and Cobras</td>\n",
       "      <td>Card Tricks</td>\n",
       "      <td>Atlanta Ballet</td>\n",
       "      <td>Beatles</td>\n",
       "      <td>Open Mic</td>\n",
       "      <td>10</td>\n",
       "      <td>0.086412</td>\n",
       "    </tr>\n",
       "    <tr>\n",
       "      <th>1528</th>\n",
       "      <td>Science of Fireworks</td>\n",
       "      <td>Fun With Vipers and Cobras</td>\n",
       "      <td>Card Tricks</td>\n",
       "      <td>Salsa Vida</td>\n",
       "      <td>Wiggles</td>\n",
       "      <td>Open Mic</td>\n",
       "      <td>20</td>\n",
       "      <td>0.024006</td>\n",
       "    </tr>\n",
       "  </tbody>\n",
       "</table>\n",
       "<p>2592 rows × 8 columns</p>\n",
       "</div>"
      ],
      "text/plain": [
       "              live_science                 live_nature   live_magic  \\\n",
       "79         Liquid Air Show       All About Crustaceans  Card Tricks   \n",
       "95         Liquid Air Show       All About Crustaceans  Card Tricks   \n",
       "124        Liquid Air Show       All About Crustaceans  Card Tricks   \n",
       "1119  Science of Fireworks       All About Crustaceans  Mind Reader   \n",
       "328        Liquid Air Show       Wide World of Canines  Card Tricks   \n",
       "...                    ...                         ...          ...   \n",
       "1109  Science of Fireworks       All About Crustaceans  Mind Reader   \n",
       "681        Liquid Air Show  Fun With Vipers and Cobras  Card Tricks   \n",
       "1439  Science of Fireworks       Wide World of Canines  Mind Reader   \n",
       "1446  Science of Fireworks  Fun With Vipers and Cobras  Card Tricks   \n",
       "1528  Science of Fireworks  Fun With Vipers and Cobras  Card Tricks   \n",
       "\n",
       "          dance_troupes    sing_styles comedy_styles  show_length  avg_rating  \n",
       "79           Salsa Vida        Beatles      Open Mic           20    9.986481  \n",
       "95           Salsa Vida  Italian Opera     Slapstick           30    9.971483  \n",
       "124   Celtic Folk Dance        Wiggles      Open Mic           20    9.961208  \n",
       "1119  Celtic Folk Dance        Beatles     Slapstick           10    9.948701  \n",
       "328      Hip-Hop Fusion        Beatles     Slapstick           20    9.940039  \n",
       "...                 ...            ...           ...          ...         ...  \n",
       "1109         Salsa Vida       Open Mic        Improv           30    0.144726  \n",
       "681          Salsa Vida       Open Mic      Open Mic           10    0.121504  \n",
       "1439  Celtic Folk Dance       Open Mic      Open Mic           30    0.109742  \n",
       "1446     Atlanta Ballet        Beatles      Open Mic           10    0.086412  \n",
       "1528         Salsa Vida        Wiggles      Open Mic           20    0.024006  \n",
       "\n",
       "[2592 rows x 8 columns]"
      ]
     },
     "execution_count": 47,
     "metadata": {},
     "output_type": "execute_result"
    }
   ],
   "source": [
    "entertainment.sort_values(by=['avg_rating'],ascending=False)"
   ]
  },
  {
   "cell_type": "code",
   "execution_count": 54,
   "id": "76049ee6",
   "metadata": {},
   "outputs": [
    {
     "data": {
      "text/plain": [
       "Index(['avg_rating', 'live_science_Liquid Air Show',\n",
       "       'live_science_Science of Fireworks',\n",
       "       'live_nature_Fun With Vipers and Cobras',\n",
       "       'live_nature_Wide World of Canines', 'live_magic_Mind Reader',\n",
       "       'dance_troupes_Celtic Folk Dance', 'dance_troupes_Hip-Hop Fusion',\n",
       "       'dance_troupes_Salsa Vida', 'sing_styles_Italian Opera',\n",
       "       'sing_styles_Open Mic', 'sing_styles_Wiggles', 'comedy_styles_Open Mic',\n",
       "       'comedy_styles_Slapstick', 'show_length_20', 'show_length_30'],\n",
       "      dtype='object')"
      ]
     },
     "execution_count": 54,
     "metadata": {},
     "output_type": "execute_result"
    }
   ],
   "source": [
    "entertainment2.columns"
   ]
  },
  {
   "cell_type": "code",
   "execution_count": 55,
   "id": "42280520",
   "metadata": {},
   "outputs": [],
   "source": [
    "x=entertainment2[['show_length_20','show_length_30','live_science_Liquid Air Show',\n",
    "       'live_science_Science of Fireworks',\n",
    "       'live_nature_Fun With Vipers and Cobras',\n",
    "       'live_nature_Wide World of Canines', 'live_magic_Mind Reader',\n",
    "       'dance_troupes_Celtic Folk Dance', 'dance_troupes_Hip-Hop Fusion',\n",
    "       'dance_troupes_Salsa Vida', 'sing_styles_Italian Opera',\n",
    "       'sing_styles_Open Mic', 'sing_styles_Wiggles', 'comedy_styles_Open Mic',\n",
    "       'comedy_styles_Slapstick']]\n",
    "y=entertainment2['avg_rating']"
   ]
  },
  {
   "cell_type": "code",
   "execution_count": 56,
   "id": "7bbfb1d6",
   "metadata": {},
   "outputs": [
    {
     "data": {
      "text/plain": [
       "LinearRegression()"
      ]
     },
     "execution_count": 56,
     "metadata": {},
     "output_type": "execute_result"
    }
   ],
   "source": [
    "from sklearn.linear_model import LinearRegression\n",
    "from sklearn import metrics\n",
    "regressor=LinearRegression()\n",
    "regressor.fit(x,y)"
   ]
  },
  {
   "cell_type": "markdown",
   "id": "c70103df",
   "metadata": {},
   "source": [
    "Question-E: Display the coefficient values of your model inputs"
   ]
  },
  {
   "cell_type": "code",
   "execution_count": 57,
   "id": "36367998",
   "metadata": {},
   "outputs": [
    {
     "data": {
      "text/plain": [
       "6.2443442158046905"
      ]
     },
     "execution_count": 57,
     "metadata": {},
     "output_type": "execute_result"
    }
   ],
   "source": [
    "regressor.intercept_"
   ]
  },
  {
   "cell_type": "code",
   "execution_count": 53,
   "id": "93d54bc0",
   "metadata": {},
   "outputs": [
    {
     "data": {
      "text/html": [
       "<div>\n",
       "<style scoped>\n",
       "    .dataframe tbody tr th:only-of-type {\n",
       "        vertical-align: middle;\n",
       "    }\n",
       "\n",
       "    .dataframe tbody tr th {\n",
       "        vertical-align: top;\n",
       "    }\n",
       "\n",
       "    .dataframe thead th {\n",
       "        text-align: right;\n",
       "    }\n",
       "</style>\n",
       "<table border=\"1\" class=\"dataframe\">\n",
       "  <thead>\n",
       "    <tr style=\"text-align: right;\">\n",
       "      <th></th>\n",
       "      <th>coefficient</th>\n",
       "    </tr>\n",
       "  </thead>\n",
       "  <tbody>\n",
       "    <tr>\n",
       "      <th>show_length_20</th>\n",
       "      <td>0.513810</td>\n",
       "    </tr>\n",
       "    <tr>\n",
       "      <th>show_length_30</th>\n",
       "      <td>-0.081301</td>\n",
       "    </tr>\n",
       "    <tr>\n",
       "      <th>live_science_Liquid Air Show</th>\n",
       "      <td>0.119588</td>\n",
       "    </tr>\n",
       "    <tr>\n",
       "      <th>live_science_Science of Fireworks</th>\n",
       "      <td>-0.716544</td>\n",
       "    </tr>\n",
       "    <tr>\n",
       "      <th>live_nature_Fun With Vipers and Cobras</th>\n",
       "      <td>-2.308140</td>\n",
       "    </tr>\n",
       "    <tr>\n",
       "      <th>live_nature_Wide World of Canines</th>\n",
       "      <td>-0.909696</td>\n",
       "    </tr>\n",
       "    <tr>\n",
       "      <th>live_magic_Mind Reader</th>\n",
       "      <td>-0.198544</td>\n",
       "    </tr>\n",
       "    <tr>\n",
       "      <th>dance_troupes_Celtic Folk Dance</th>\n",
       "      <td>0.262085</td>\n",
       "    </tr>\n",
       "    <tr>\n",
       "      <th>dance_troupes_Hip-Hop Fusion</th>\n",
       "      <td>0.700387</td>\n",
       "    </tr>\n",
       "    <tr>\n",
       "      <th>dance_troupes_Salsa Vida</th>\n",
       "      <td>0.233955</td>\n",
       "    </tr>\n",
       "    <tr>\n",
       "      <th>sing_styles_Italian Opera</th>\n",
       "      <td>-0.376198</td>\n",
       "    </tr>\n",
       "    <tr>\n",
       "      <th>sing_styles_Open Mic</th>\n",
       "      <td>-1.240667</td>\n",
       "    </tr>\n",
       "    <tr>\n",
       "      <th>sing_styles_Wiggles</th>\n",
       "      <td>0.397732</td>\n",
       "    </tr>\n",
       "    <tr>\n",
       "      <th>comedy_styles_Open Mic</th>\n",
       "      <td>-0.316567</td>\n",
       "    </tr>\n",
       "    <tr>\n",
       "      <th>comedy_styles_Slapstick</th>\n",
       "      <td>0.120984</td>\n",
       "    </tr>\n",
       "  </tbody>\n",
       "</table>\n",
       "</div>"
      ],
      "text/plain": [
       "                                        coefficient\n",
       "show_length_20                             0.513810\n",
       "show_length_30                            -0.081301\n",
       "live_science_Liquid Air Show               0.119588\n",
       "live_science_Science of Fireworks         -0.716544\n",
       "live_nature_Fun With Vipers and Cobras    -2.308140\n",
       "live_nature_Wide World of Canines         -0.909696\n",
       "live_magic_Mind Reader                    -0.198544\n",
       "dance_troupes_Celtic Folk Dance            0.262085\n",
       "dance_troupes_Hip-Hop Fusion               0.700387\n",
       "dance_troupes_Salsa Vida                   0.233955\n",
       "sing_styles_Italian Opera                 -0.376198\n",
       "sing_styles_Open Mic                      -1.240667\n",
       "sing_styles_Wiggles                        0.397732\n",
       "comedy_styles_Open Mic                    -0.316567\n",
       "comedy_styles_Slapstick                    0.120984"
      ]
     },
     "execution_count": 53,
     "metadata": {},
     "output_type": "execute_result"
    }
   ],
   "source": [
    "coef_df=pd.DataFrame(regressor.coef_,x.columns,columns=['coefficient'])\n",
    "coef_df"
   ]
  },
  {
   "cell_type": "markdown",
   "id": "f18e8a89",
   "metadata": {},
   "source": [
    "Question-F: Write a paragraph or two for Lobster Land management about what your model is showing you.What other insights can you draw from this? Is there anything else you would want to consider before simply recommending that Lobster Land implement the ‘most popular’ options? Remember, Lobster Land hired you as a consultant --don’t be afraid to show some creativity here."
   ]
  },
  {
   "cell_type": "markdown",
   "id": "6ebca445",
   "metadata": {},
   "source": [
    "Since we use drop_first = True to remove the multicollinearity problem, the model does not show all the predictors. From the coefficient values of my model,the overall feedback of dance troupes are popular among customers since all the coeffients are positive. However, the live nature shows are not so welcomed since the coeffients are negative.It is a good signal for lobster land to think about change the show style and creat innovate attractions.Show length is better to be set within 30 minutes. Too long to be tired for tourists.\n",
    "Not only recommend Lobster Land to implement the ‘most popular’ options, but also it is better to do some adjustment for unwelcomed activities."
   ]
  },
  {
   "cell_type": "markdown",
   "id": "a231134b",
   "metadata": {},
   "source": [
    "Part III: Wildcard: Marketing & Segments\n",
    "\n",
    "Find ANY advertisement…ANYWHERE. As you walk around in your daily life, you might look for an ad on the side of the T, on a bus stop, on a poster, etc. Alternatively, you could use an advertisement that you encounter while browsing the web.\n",
    "a. Take a picture of the ad that you see (if it’s in the ‘real world’). Or, if the ad you select is online, take a screenshot from your phone or your laptop to capture this advertisement.\n",
    "b. Write ONE thoughtful paragraph that addresses the issue of segmentation. What consumer segment is your ad targeting? What makes you think this? What types of consumers are in the segment? Are you part of the segment? Or,\n",
    "alternatively, is your ad an undifferentiated (mass market) ad? Finally, what is your opinion of this ad – is it effective? You can embed your image, along with your paragraph write-up, in a Markdown cell in Jupyter Notebook. Alternatively, you could upload your image and paragraph in a separate file, such as a Word doc. The ad can be in any language – but if it’s not in English, please translate."
   ]
  },
  {
   "cell_type": "code",
   "execution_count": 20,
   "id": "06a293c9",
   "metadata": {},
   "outputs": [
    {
     "data": {
      "image/png": "[encoded data removed]",
      "text/plain": [
       "<Figure size 432x288 with 1 Axes>"
      ]
     },
     "metadata": {
      "needs_background": "light"
     },
     "output_type": "display_data"
    }
   ],
   "source": [
    "from PIL import Image\n",
    "myimage=Image.open('/Users/luoyayuan/Desktop/ad.png');\n",
    "plt.imshow(myimage);"
   ]
  },
  {
   "cell_type": "markdown",
   "id": "01e56e15",
   "metadata": {},
   "source": [
    "  This is an ad I took in the clothing store UrbanOutfitter. The purpose is to attract more new customers to become the brand's membership by offering a 10% discount when they pay at the cashier. I am definitely in the segment since I never bought new cloths here before in the US. I'd love to become a membership because with a 10% discount I can save nearly $20 on my total consumption and the registration is very simple only by downloading the UO app and providing the email address, date of birth to the cashier. \n",
    "  \n",
    "  I think this is an effective ad because it is hung on the exact position where customers facing when checking out at the cashier. When I waited in line paying the bill, I heard several customers in front of me asking about the discount and they all love to become a membership. \n",
    "  \n",
    "  From my point of view the reason behind giving a discount is that when more customers become their membership, they could do membership management by collecting more membership data. For example, sending email about activities or new clothes they can check the cliking rate to judge those \"active memberships\" and target them to do more specified activities. Also, becoming the member they need to download the app. Some people may spend some time on looking through the clothes on app. To some extent, the app may generate desire to buy the clothes."
   ]
  }
 ],
 "metadata": {
  "kernelspec": {
   "display_name": "Python 3 (ipykernel)",
   "language": "python",
   "name": "python3"
  },
  "language_info": {
   "codemirror_mode": {
    "name": "ipython",
    "version": 3
   },
   "file_extension": ".py",
   "mimetype": "text/x-python",
   "name": "python",
   "nbconvert_exporter": "python",
   "pygments_lexer": "ipython3",
   "version": "3.9.7"
  }
 },
 "nbformat": 4,
 "nbformat_minor": 5
}
