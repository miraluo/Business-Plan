{
 "cells": [
  {
   "cell_type": "markdown",
   "id": "938e2e95",
   "metadata": {},
   "source": [
    "# Part I:A/BTesting Sales Promotion Strategies (4 points)"
   ]
  },
  {
   "cell_type": "code",
   "execution_count": 1,
   "id": "68f9bb53",
   "metadata": {},
   "outputs": [],
   "source": [
    "import pandas as pd\n",
    "import numpy as np\n",
    "import matplotlib.pyplot as plt\n",
    "%matplotlib inline\n",
    "import seaborn as sns"
   ]
  },
  {
   "cell_type": "code",
   "execution_count": 2,
   "id": "1aedc9fe",
   "metadata": {},
   "outputs": [
    {
     "data": {
      "text/html": [
       "<div>\n",
       "<style scoped>\n",
       "    .dataframe tbody tr th:only-of-type {\n",
       "        vertical-align: middle;\n",
       "    }\n",
       "\n",
       "    .dataframe tbody tr th {\n",
       "        vertical-align: top;\n",
       "    }\n",
       "\n",
       "    .dataframe thead th {\n",
       "        text-align: right;\n",
       "    }\n",
       "</style>\n",
       "<table border=\"1\" class=\"dataframe\">\n",
       "  <thead>\n",
       "    <tr style=\"text-align: right;\">\n",
       "      <th></th>\n",
       "      <th>MarketID</th>\n",
       "      <th>MarketSize</th>\n",
       "      <th>LocationID</th>\n",
       "      <th>AgeOfStore</th>\n",
       "      <th>Promotion</th>\n",
       "      <th>week</th>\n",
       "      <th>SalesInThousands</th>\n",
       "    </tr>\n",
       "  </thead>\n",
       "  <tbody>\n",
       "    <tr>\n",
       "      <th>0</th>\n",
       "      <td>1</td>\n",
       "      <td>Medium</td>\n",
       "      <td>1</td>\n",
       "      <td>4</td>\n",
       "      <td>3</td>\n",
       "      <td>1</td>\n",
       "      <td>33.73</td>\n",
       "    </tr>\n",
       "    <tr>\n",
       "      <th>1</th>\n",
       "      <td>1</td>\n",
       "      <td>Medium</td>\n",
       "      <td>1</td>\n",
       "      <td>4</td>\n",
       "      <td>3</td>\n",
       "      <td>2</td>\n",
       "      <td>35.67</td>\n",
       "    </tr>\n",
       "    <tr>\n",
       "      <th>2</th>\n",
       "      <td>1</td>\n",
       "      <td>Medium</td>\n",
       "      <td>1</td>\n",
       "      <td>4</td>\n",
       "      <td>3</td>\n",
       "      <td>3</td>\n",
       "      <td>29.03</td>\n",
       "    </tr>\n",
       "    <tr>\n",
       "      <th>3</th>\n",
       "      <td>1</td>\n",
       "      <td>Medium</td>\n",
       "      <td>1</td>\n",
       "      <td>4</td>\n",
       "      <td>3</td>\n",
       "      <td>4</td>\n",
       "      <td>39.25</td>\n",
       "    </tr>\n",
       "    <tr>\n",
       "      <th>4</th>\n",
       "      <td>1</td>\n",
       "      <td>Medium</td>\n",
       "      <td>2</td>\n",
       "      <td>5</td>\n",
       "      <td>2</td>\n",
       "      <td>1</td>\n",
       "      <td>27.81</td>\n",
       "    </tr>\n",
       "  </tbody>\n",
       "</table>\n",
       "</div>"
      ],
      "text/plain": [
       "   MarketID MarketSize  LocationID  AgeOfStore  Promotion  week  \\\n",
       "0         1     Medium           1           4          3     1   \n",
       "1         1     Medium           1           4          3     2   \n",
       "2         1     Medium           1           4          3     3   \n",
       "3         1     Medium           1           4          3     4   \n",
       "4         1     Medium           2           5          2     1   \n",
       "\n",
       "   SalesInThousands  \n",
       "0             33.73  \n",
       "1             35.67  \n",
       "2             29.03  \n",
       "3             39.25  \n",
       "4             27.81  "
      ]
     },
     "execution_count": 2,
     "metadata": {},
     "output_type": "execute_result"
    }
   ],
   "source": [
    "campaign=pd.read_csv('/Users/luoyayuan/Desktop/Class Slides/654/assignment4/campaign_data.csv')\n",
    "campaign.head()"
   ]
  },
  {
   "cell_type": "code",
   "execution_count": 3,
   "id": "95f2c1a9",
   "metadata": {},
   "outputs": [
    {
     "data": {
      "text/plain": [
       "MarketID            0\n",
       "MarketSize          0\n",
       "LocationID          0\n",
       "AgeOfStore          0\n",
       "Promotion           0\n",
       "week                0\n",
       "SalesInThousands    0\n",
       "dtype: int64"
      ]
     },
     "execution_count": 3,
     "metadata": {},
     "output_type": "execute_result"
    }
   ],
   "source": [
    "campaign.isnull().sum()"
   ]
  },
  {
   "cell_type": "code",
   "execution_count": 4,
   "id": "502af4e5",
   "metadata": {},
   "outputs": [
    {
     "name": "stdout",
     "output_type": "stream",
     "text": [
      "<class 'pandas.core.frame.DataFrame'>\n",
      "RangeIndex: 548 entries, 0 to 547\n",
      "Data columns (total 7 columns):\n",
      " #   Column            Non-Null Count  Dtype  \n",
      "---  ------            --------------  -----  \n",
      " 0   MarketID          548 non-null    int64  \n",
      " 1   MarketSize        548 non-null    object \n",
      " 2   LocationID        548 non-null    int64  \n",
      " 3   AgeOfStore        548 non-null    int64  \n",
      " 4   Promotion         548 non-null    int64  \n",
      " 5   week              548 non-null    int64  \n",
      " 6   SalesInThousands  548 non-null    float64\n",
      "dtypes: float64(1), int64(5), object(1)\n",
      "memory usage: 30.1+ KB\n"
     ]
    }
   ],
   "source": [
    "campaign.info()"
   ]
  },
  {
   "cell_type": "markdown",
   "id": "7f17fe0e",
   "metadata": {},
   "source": [
    "Question A: Generate a barplot to show the average SalesInThousands values, separated by the different promotion types."
   ]
  },
  {
   "cell_type": "code",
   "execution_count": 5,
   "id": "ba620903",
   "metadata": {},
   "outputs": [
    {
     "data": {
      "text/plain": [
       "3    188\n",
       "2    188\n",
       "1    172\n",
       "Name: Promotion, dtype: int64"
      ]
     },
     "execution_count": 5,
     "metadata": {},
     "output_type": "execute_result"
    }
   ],
   "source": [
    "number=campaign['Promotion'].value_counts()\n",
    "number"
   ]
  },
  {
   "cell_type": "code",
   "execution_count": 6,
   "id": "d189a685",
   "metadata": {},
   "outputs": [
    {
     "data": {
      "text/plain": [
       "Promotion\n",
       "1     9993.03\n",
       "2     8897.93\n",
       "3    10408.52\n",
       "Name: SalesInThousands, dtype: float64"
      ]
     },
     "execution_count": 6,
     "metadata": {},
     "output_type": "execute_result"
    }
   ],
   "source": [
    "total=campaign.groupby(by='Promotion')['SalesInThousands'].sum()\n",
    "total"
   ]
  },
  {
   "cell_type": "code",
   "execution_count": 7,
   "id": "acc708e9",
   "metadata": {},
   "outputs": [
    {
     "data": {
      "text/plain": [
       "1    58.099012\n",
       "2    47.329415\n",
       "3    55.364468\n",
       "dtype: float64"
      ]
     },
     "execution_count": 7,
     "metadata": {},
     "output_type": "execute_result"
    }
   ],
   "source": [
    "average=total/number\n",
    "average"
   ]
  },
  {
   "cell_type": "code",
   "execution_count": 8,
   "id": "1f4e0125",
   "metadata": {},
   "outputs": [
    {
     "data": {
      "text/html": [
       "<div>\n",
       "<style scoped>\n",
       "    .dataframe tbody tr th:only-of-type {\n",
       "        vertical-align: middle;\n",
       "    }\n",
       "\n",
       "    .dataframe tbody tr th {\n",
       "        vertical-align: top;\n",
       "    }\n",
       "\n",
       "    .dataframe thead th {\n",
       "        text-align: right;\n",
       "    }\n",
       "</style>\n",
       "<table border=\"1\" class=\"dataframe\">\n",
       "  <thead>\n",
       "    <tr style=\"text-align: right;\">\n",
       "      <th></th>\n",
       "      <th>Promotion</th>\n",
       "      <th>Average Sales amount</th>\n",
       "    </tr>\n",
       "  </thead>\n",
       "  <tbody>\n",
       "    <tr>\n",
       "      <th>0</th>\n",
       "      <td>1</td>\n",
       "      <td>58.099012</td>\n",
       "    </tr>\n",
       "    <tr>\n",
       "      <th>1</th>\n",
       "      <td>2</td>\n",
       "      <td>47.329415</td>\n",
       "    </tr>\n",
       "    <tr>\n",
       "      <th>2</th>\n",
       "      <td>3</td>\n",
       "      <td>55.364468</td>\n",
       "    </tr>\n",
       "  </tbody>\n",
       "</table>\n",
       "</div>"
      ],
      "text/plain": [
       "   Promotion  Average Sales amount\n",
       "0          1             58.099012\n",
       "1          2             47.329415\n",
       "2          3             55.364468"
      ]
     },
     "execution_count": 8,
     "metadata": {},
     "output_type": "execute_result"
    }
   ],
   "source": [
    "data=[[1,58.099012],[2,47.329415],[3,55.364468]]\n",
    "df = pd.DataFrame(data, columns = ['Promotion', 'Average Sales amount'])\n",
    "df"
   ]
  },
  {
   "cell_type": "code",
   "execution_count": 9,
   "id": "6fe3fab7",
   "metadata": {},
   "outputs": [
    {
     "data": {
      "image/png": "[encoded data removed]",
      "text/plain": [
       "<Figure size 432x288 with 1 Axes>"
      ]
     },
     "metadata": {
      "needs_background": "light"
     },
     "output_type": "display_data"
    }
   ],
   "source": [
    "sns.barplot(x='Promotion',y='Average Sales amount',palette='rocket',ci=None,data=df);\n",
    "plt.title('Average Sales amount of three types of promotions');"
   ]
  },
  {
   "cell_type": "markdown",
   "id": "604b5859",
   "metadata": {},
   "source": [
    "This barplot shows 3 types of promotions' average sales amount.Promotion 1 with the highest average sales amount while promotion 2 with the lowest average sales amount. Thus promotion 1 wins from this metric."
   ]
  },
  {
   "cell_type": "markdown",
   "id": "c6a21666",
   "metadata": {},
   "source": [
    "Question B: You want to make sure that the promotions were evenly-balanced across time. Create another barplot -- this time, build a barplot that shows the number of instances in which each of the promotions was held, along one of your axes. Convert the ‘week’ variable to a factor first, and include it in your plot as well.\n"
   ]
  },
  {
   "cell_type": "code",
   "execution_count": 10,
   "id": "36a45de0",
   "metadata": {},
   "outputs": [],
   "source": [
    "campaign['week']=campaign['week'].astype(object)"
   ]
  },
  {
   "cell_type": "code",
   "execution_count": 11,
   "id": "bfe5702d",
   "metadata": {},
   "outputs": [
    {
     "name": "stdout",
     "output_type": "stream",
     "text": [
      "<class 'pandas.core.frame.DataFrame'>\n",
      "RangeIndex: 548 entries, 0 to 547\n",
      "Data columns (total 7 columns):\n",
      " #   Column            Non-Null Count  Dtype  \n",
      "---  ------            --------------  -----  \n",
      " 0   MarketID          548 non-null    int64  \n",
      " 1   MarketSize        548 non-null    object \n",
      " 2   LocationID        548 non-null    int64  \n",
      " 3   AgeOfStore        548 non-null    int64  \n",
      " 4   Promotion         548 non-null    int64  \n",
      " 5   week              548 non-null    object \n",
      " 6   SalesInThousands  548 non-null    float64\n",
      "dtypes: float64(1), int64(4), object(2)\n",
      "memory usage: 30.1+ KB\n"
     ]
    }
   ],
   "source": [
    "campaign.info()"
   ]
  },
  {
   "cell_type": "code",
   "execution_count": 12,
   "id": "9437d0c1",
   "metadata": {},
   "outputs": [
    {
     "name": "stderr",
     "output_type": "stream",
     "text": [
      "/var/folders/69/sjzrfpp90kb586qq0vrpgyjw0000gn/T/ipykernel_1090/1112777980.py:1: UserWarning: Pandas doesn't allow columns to be created via a new attribute name - see https://pandas.pydata.org/pandas-docs/stable/indexing.html#attribute-access\n",
      "  campaign.df=campaign.groupby(by='week')['Promotion'].value_counts()\n"
     ]
    },
    {
     "data": {
      "text/plain": [
       "week  Promotion\n",
       "1     2            47\n",
       "      3            47\n",
       "      1            43\n",
       "2     2            47\n",
       "      3            47\n",
       "      1            43\n",
       "3     2            47\n",
       "      3            47\n",
       "      1            43\n",
       "4     2            47\n",
       "      3            47\n",
       "      1            43\n",
       "Name: Promotion, dtype: int64"
      ]
     },
     "execution_count": 12,
     "metadata": {},
     "output_type": "execute_result"
    }
   ],
   "source": [
    "campaign.df=campaign.groupby(by='week')['Promotion'].value_counts()\n",
    "campaign.df"
   ]
  },
  {
   "cell_type": "code",
   "execution_count": 13,
   "id": "e08fc031",
   "metadata": {},
   "outputs": [
    {
     "data": {
      "image/png": "[encoded data removed]",
      "text/plain": [
       "<Figure size 432x288 with 1 Axes>"
      ]
     },
     "metadata": {
      "needs_background": "light"
     },
     "output_type": "display_data"
    }
   ],
   "source": [
    "sns.countplot(x='Promotion',hue='week',data=campaign);"
   ]
  },
  {
   "cell_type": "markdown",
   "id": "f90e33a6",
   "metadata": {},
   "source": [
    "This barplot shows detailed promotion types' average sales number in each week. I do not think ‘week’ variable is a confounding variable in the experiment since the total number of promotions are the same in each week and the factor of week is not associated both with the average sales amount (dependent variable) and with the factor promotions being studied (independent variable)."
   ]
  },
  {
   "cell_type": "markdown",
   "id": "688b23d1",
   "metadata": {},
   "source": [
    "Question C:Next, generate some summary stats here -- group the observations by ‘Promotion’ and then describe the store ages"
   ]
  },
  {
   "cell_type": "code",
   "execution_count": 14,
   "id": "1e450228",
   "metadata": {},
   "outputs": [
    {
     "data": {
      "text/plain": [
       "Promotion  AgeOfStore\n",
       "1          1             24\n",
       "           6             20\n",
       "           3             16\n",
       "           4             16\n",
       "           8             12\n",
       "           12            12\n",
       "           13            12\n",
       "           2              8\n",
       "           5              8\n",
       "           9              8\n",
       "           18             8\n",
       "           7              4\n",
       "           11             4\n",
       "           15             4\n",
       "           19             4\n",
       "           22             4\n",
       "           24             4\n",
       "           27             4\n",
       "2          1             36\n",
       "           7             24\n",
       "           10            16\n",
       "           3             12\n",
       "           4             12\n",
       "           5             12\n",
       "           9             12\n",
       "           2              8\n",
       "           8              8\n",
       "           13             8\n",
       "           14             8\n",
       "           19             8\n",
       "           6              4\n",
       "           12             4\n",
       "           15             4\n",
       "           23             4\n",
       "           25             4\n",
       "           28             4\n",
       "3          5             24\n",
       "           1             20\n",
       "           8             20\n",
       "           4             16\n",
       "           6             12\n",
       "           7             12\n",
       "           11            12\n",
       "           9              8\n",
       "           10             8\n",
       "           12             8\n",
       "           19             8\n",
       "           22             8\n",
       "           24             8\n",
       "           2              4\n",
       "           3              4\n",
       "           14             4\n",
       "           17             4\n",
       "           20             4\n",
       "           23             4\n",
       "Name: AgeOfStore, dtype: int64"
      ]
     },
     "execution_count": 14,
     "metadata": {},
     "output_type": "execute_result"
    }
   ],
   "source": [
    "campaign.groupby(by='Promotion')['AgeOfStore'].value_counts()"
   ]
  },
  {
   "cell_type": "code",
   "execution_count": 15,
   "id": "3047ebf8",
   "metadata": {},
   "outputs": [
    {
     "data": {
      "image/png": "[encoded data removed]",
      "text/plain": [
       "<Figure size 648x216 with 3 Axes>"
      ]
     },
     "metadata": {
      "needs_background": "light"
     },
     "output_type": "display_data"
    }
   ],
   "source": [
    "g = sns.FacetGrid(campaign, col=\"Promotion\",margin_titles=True)\n",
    "bins = np.linspace(1,28,18)\n",
    "g.map(plt.hist, \"AgeOfStore\",color=\"steelblue\", bins=bins);\n",
    "#g.ylabel('Number of stores');??"
   ]
  },
  {
   "cell_type": "markdown",
   "id": "2e095f6a",
   "metadata": {},
   "source": [
    "As we can see in the facetgrid comparing 3 different promotions, the x-axis shows different ages of stores while the y-axis counts the quantity of each age stores. The three promotion campaigns are overall new stores. Campaign promotion 2 has larger difference among store ages with the highest number of 36 of 1-year age store and lowest of 4 while campaign promotion 3 are more evenly-balanced with the highest of 24 and lowest 4. "
   ]
  },
  {
   "cell_type": "markdown",
   "id": "f898cd29",
   "metadata": {},
   "source": [
    "Question D. Using an appropriate statistical test for each comparison, compare every possible promotion (Promotion 1 vs. Promotion 2, Promotion 2 vs. Promotion 3, and Promotion 1 vs. Promotion 3) to see which one is most effective at generating sales."
   ]
  },
  {
   "cell_type": "code",
   "execution_count": 16,
   "id": "b158e98e",
   "metadata": {},
   "outputs": [
    {
     "data": {
      "text/plain": [
       "(548, 7)"
      ]
     },
     "execution_count": 16,
     "metadata": {},
     "output_type": "execute_result"
    }
   ],
   "source": [
    "campaign.shape"
   ]
  },
  {
   "cell_type": "code",
   "execution_count": 17,
   "id": "1ea85e71",
   "metadata": {},
   "outputs": [
    {
     "data": {
      "text/plain": [
       "NormaltestResult(statistic=48.47978622544174, pvalue=2.9699434440135903e-11)"
      ]
     },
     "execution_count": 17,
     "metadata": {},
     "output_type": "execute_result"
    }
   ],
   "source": [
    "from scipy import stats\n",
    "stats.normaltest(campaign['SalesInThousands'])"
   ]
  },
  {
   "cell_type": "code",
   "execution_count": 18,
   "id": "b2cce00a",
   "metadata": {},
   "outputs": [
    {
     "data": {
      "text/plain": [
       "KstestResult(statistic=0.12005749431512436, pvalue=2.43219556834565e-07)"
      ]
     },
     "execution_count": 18,
     "metadata": {},
     "output_type": "execute_result"
    }
   ],
   "source": [
    "std=campaign['SalesInThousands'].std()\n",
    "m=campaign['SalesInThousands'].mean()\n",
    "stats.kstest(campaign['SalesInThousands'],'norm',(m,std))"
   ]
  },
  {
   "cell_type": "code",
   "execution_count": 19,
   "id": "434478cf",
   "metadata": {},
   "outputs": [
    {
     "data": {
      "image/png": "[encoded data removed]",
      "text/plain": [
       "<Figure size 432x288 with 1 Axes>"
      ]
     },
     "metadata": {
      "needs_background": "light"
     },
     "output_type": "display_data"
    }
   ],
   "source": [
    "sns.histplot(x='SalesInThousands',data=campaign);"
   ]
  },
  {
   "cell_type": "markdown",
   "id": "b8be6003",
   "metadata": {},
   "source": [
    "Variable Sales in thousands is not normally distributed. I did normal test and kstest that all show p value less than 0.05. Also I drew a histgram of sales that is a little bit skewed."
   ]
  },
  {
   "cell_type": "code",
   "execution_count": 20,
   "id": "4406d015",
   "metadata": {},
   "outputs": [
    {
     "data": {
      "text/html": [
       "<div>\n",
       "<style scoped>\n",
       "    .dataframe tbody tr th:only-of-type {\n",
       "        vertical-align: middle;\n",
       "    }\n",
       "\n",
       "    .dataframe tbody tr th {\n",
       "        vertical-align: top;\n",
       "    }\n",
       "\n",
       "    .dataframe thead tr th {\n",
       "        text-align: left;\n",
       "    }\n",
       "\n",
       "    .dataframe thead tr:last-of-type th {\n",
       "        text-align: right;\n",
       "    }\n",
       "</style>\n",
       "<table border=\"1\" class=\"dataframe\">\n",
       "  <thead>\n",
       "    <tr>\n",
       "      <th></th>\n",
       "      <th colspan=\"8\" halign=\"left\">SalesInThousands</th>\n",
       "    </tr>\n",
       "    <tr>\n",
       "      <th></th>\n",
       "      <th>count</th>\n",
       "      <th>mean</th>\n",
       "      <th>std</th>\n",
       "      <th>min</th>\n",
       "      <th>25%</th>\n",
       "      <th>50%</th>\n",
       "      <th>75%</th>\n",
       "      <th>max</th>\n",
       "    </tr>\n",
       "    <tr>\n",
       "      <th>Promotion</th>\n",
       "      <th></th>\n",
       "      <th></th>\n",
       "      <th></th>\n",
       "      <th></th>\n",
       "      <th></th>\n",
       "      <th></th>\n",
       "      <th></th>\n",
       "      <th></th>\n",
       "    </tr>\n",
       "  </thead>\n",
       "  <tbody>\n",
       "    <tr>\n",
       "      <th>1</th>\n",
       "      <td>172.0</td>\n",
       "      <td>58.099012</td>\n",
       "      <td>16.553782</td>\n",
       "      <td>30.81</td>\n",
       "      <td>46.3525</td>\n",
       "      <td>55.385</td>\n",
       "      <td>63.6175</td>\n",
       "      <td>99.65</td>\n",
       "    </tr>\n",
       "    <tr>\n",
       "      <th>2</th>\n",
       "      <td>188.0</td>\n",
       "      <td>47.329415</td>\n",
       "      <td>15.108955</td>\n",
       "      <td>17.34</td>\n",
       "      <td>38.1700</td>\n",
       "      <td>45.385</td>\n",
       "      <td>51.7450</td>\n",
       "      <td>88.64</td>\n",
       "    </tr>\n",
       "    <tr>\n",
       "      <th>3</th>\n",
       "      <td>188.0</td>\n",
       "      <td>55.364468</td>\n",
       "      <td>16.766231</td>\n",
       "      <td>22.18</td>\n",
       "      <td>44.1975</td>\n",
       "      <td>51.165</td>\n",
       "      <td>61.7325</td>\n",
       "      <td>96.48</td>\n",
       "    </tr>\n",
       "  </tbody>\n",
       "</table>\n",
       "</div>"
      ],
      "text/plain": [
       "          SalesInThousands                                                \\\n",
       "                     count       mean        std    min      25%     50%   \n",
       "Promotion                                                                  \n",
       "1                    172.0  58.099012  16.553782  30.81  46.3525  55.385   \n",
       "2                    188.0  47.329415  15.108955  17.34  38.1700  45.385   \n",
       "3                    188.0  55.364468  16.766231  22.18  44.1975  51.165   \n",
       "\n",
       "                           \n",
       "               75%    max  \n",
       "Promotion                  \n",
       "1          63.6175  99.65  \n",
       "2          51.7450  88.64  \n",
       "3          61.7325  96.48  "
      ]
     },
     "execution_count": 20,
     "metadata": {},
     "output_type": "execute_result"
    }
   ],
   "source": [
    "#campaign.describe()\n",
    "#campaign['Promotion'].value_counts()\n",
    "campaign.groupby('Promotion').describe()[['SalesInThousands']]"
   ]
  },
  {
   "cell_type": "code",
   "execution_count": 65,
   "id": "19eb6d9e",
   "metadata": {},
   "outputs": [
    {
     "name": "stdout",
     "output_type": "stream",
     "text": [
      "6.42752867090748 4.2903687179871785e-10\n"
     ]
    }
   ],
   "source": [
    "from scipy import stats\n",
    "t1,p1=stats.ttest_ind(campaign.loc[campaign['Promotion']==1,'SalesInThousands'].values,\n",
    "                    campaign.loc[campaign['Promotion']==2,'SalesInThousands'].values,equal_var=False)\n",
    "print(t1,p1)"
   ]
  },
  {
   "cell_type": "code",
   "execution_count": 66,
   "id": "d2cbc71a",
   "metadata": {},
   "outputs": [
    {
     "name": "stdout",
     "output_type": "stream",
     "text": [
      "1.5560224307758634 0.12059147742229478\n"
     ]
    }
   ],
   "source": [
    "from scipy import stats\n",
    "t2,p2=stats.ttest_ind(campaign.loc[campaign['Promotion']==1,'SalesInThousands'].values,\n",
    "                    campaign.loc[campaign['Promotion']==3,'SalesInThousands'].values,equal_var=False)\n",
    "print(t2,p2)"
   ]
  },
  {
   "cell_type": "code",
   "execution_count": 67,
   "id": "3deaf443",
   "metadata": {},
   "outputs": [
    {
     "name": "stdout",
     "output_type": "stream",
     "text": [
      "-4.88139271089348 1.5692733176039892e-06\n"
     ]
    }
   ],
   "source": [
    "from scipy import stats\n",
    "t3,p3=stats.ttest_ind(campaign.loc[campaign['Promotion']==2,'SalesInThousands'].values,\n",
    "                    campaign.loc[campaign['Promotion']==3,'SalesInThousands'].values,equal_var=False)\n",
    "print(t3,p3)"
   ]
  },
  {
   "cell_type": "markdown",
   "id": "55086574",
   "metadata": {},
   "source": [
    "My null hypothesis is that different campaign promotions' sales have no clear differences and they bring the same sales.My first comparison's t-statistic is 6.43 and p-value is very small. So we can reject the null hypothesis. My second comparison's t-statistic is 1.56 and p-value is 0.12. P-value is over alpha 0.05 and we fail to reject the null hypothesis.My third comparison's t-statistic is -4.88 and p-value is very small.So we can reject the null hypothesis.\n",
    "Thus we can say promotion 1 to 3 and promotion 2 to 3 have more difference. I will recommend promotion 1 to the lobster land. "
   ]
  },
  {
   "cell_type": "markdown",
   "id": "480cef9f",
   "metadata": {},
   "source": [
    " # Part II:A/BTestingTwoAppVersions (5 points)"
   ]
  },
  {
   "cell_type": "code",
   "execution_count": 30,
   "id": "7195c3e4",
   "metadata": {},
   "outputs": [
    {
     "data": {
      "text/html": [
       "<div>\n",
       "<style scoped>\n",
       "    .dataframe tbody tr th:only-of-type {\n",
       "        vertical-align: middle;\n",
       "    }\n",
       "\n",
       "    .dataframe tbody tr th {\n",
       "        vertical-align: top;\n",
       "    }\n",
       "\n",
       "    .dataframe thead th {\n",
       "        text-align: right;\n",
       "    }\n",
       "</style>\n",
       "<table border=\"1\" class=\"dataframe\">\n",
       "  <thead>\n",
       "    <tr style=\"text-align: right;\">\n",
       "      <th></th>\n",
       "      <th>userid</th>\n",
       "      <th>version</th>\n",
       "      <th>sum_gamerounds</th>\n",
       "      <th>retention_1</th>\n",
       "      <th>retention_7</th>\n",
       "      <th>user_spend</th>\n",
       "    </tr>\n",
       "  </thead>\n",
       "  <tbody>\n",
       "    <tr>\n",
       "      <th>0</th>\n",
       "      <td>1</td>\n",
       "      <td>Gulf of Maine</td>\n",
       "      <td>3</td>\n",
       "      <td>False</td>\n",
       "      <td>False</td>\n",
       "      <td>17.09</td>\n",
       "    </tr>\n",
       "    <tr>\n",
       "      <th>1</th>\n",
       "      <td>2</td>\n",
       "      <td>Gulf of Maine</td>\n",
       "      <td>38</td>\n",
       "      <td>True</td>\n",
       "      <td>False</td>\n",
       "      <td>15.30</td>\n",
       "    </tr>\n",
       "    <tr>\n",
       "      <th>2</th>\n",
       "      <td>7</td>\n",
       "      <td>Gulf of Maine</td>\n",
       "      <td>0</td>\n",
       "      <td>False</td>\n",
       "      <td>False</td>\n",
       "      <td>13.67</td>\n",
       "    </tr>\n",
       "    <tr>\n",
       "      <th>3</th>\n",
       "      <td>12</td>\n",
       "      <td>Gulf of Maine</td>\n",
       "      <td>0</td>\n",
       "      <td>False</td>\n",
       "      <td>False</td>\n",
       "      <td>16.92</td>\n",
       "    </tr>\n",
       "    <tr>\n",
       "      <th>4</th>\n",
       "      <td>14</td>\n",
       "      <td>Gulf of Maine</td>\n",
       "      <td>39</td>\n",
       "      <td>True</td>\n",
       "      <td>False</td>\n",
       "      <td>8.42</td>\n",
       "    </tr>\n",
       "  </tbody>\n",
       "</table>\n",
       "</div>"
      ],
      "text/plain": [
       "   userid        version  sum_gamerounds  retention_1  retention_7  user_spend\n",
       "0       1  Gulf of Maine               3        False        False       17.09\n",
       "1       2  Gulf of Maine              38         True        False       15.30\n",
       "2       7  Gulf of Maine               0        False        False       13.67\n",
       "3      12  Gulf of Maine               0        False        False       16.92\n",
       "4      14  Gulf of Maine              39         True        False        8.42"
      ]
     },
     "execution_count": 30,
     "metadata": {},
     "output_type": "execute_result"
    }
   ],
   "source": [
    "lobster_run=pd.read_csv('/Users/luoyayuan/Desktop/Class Slides/654/assignment4/lobster_run.csv')\n",
    "lobster_run.head()"
   ]
  },
  {
   "cell_type": "markdown",
   "id": "2116ed83",
   "metadata": {},
   "source": [
    "A. Generate a histogram to view the user_spend variable."
   ]
  },
  {
   "cell_type": "code",
   "execution_count": 31,
   "id": "08aa01e7",
   "metadata": {},
   "outputs": [
    {
     "data": {
      "image/png": "[encoded data removed]",
      "text/plain": [
       "<Figure size 432x288 with 1 Axes>"
      ]
     },
     "metadata": {
      "needs_background": "light"
     },
     "output_type": "display_data"
    }
   ],
   "source": [
    "sns.histplot(x='user_spend',bins=40,data=lobster_run);"
   ]
  },
  {
   "cell_type": "markdown",
   "id": "2d88fff9",
   "metadata": {},
   "source": [
    "This histogram seems to be normally distributed. User spending range within 5 to 25 and most people spend about 15."
   ]
  },
  {
   "cell_type": "markdown",
   "id": "a4cde898",
   "metadata": {},
   "source": [
    "B. Generate another histogram that depicts user_spend, but this time, use version as a color or hue variable."
   ]
  },
  {
   "cell_type": "code",
   "execution_count": 32,
   "id": "d2fb92ca",
   "metadata": {},
   "outputs": [
    {
     "data": {
      "image/png": "[encoded data removed]",
      "text/plain": [
       "<Figure size 432x288 with 1 Axes>"
      ]
     },
     "metadata": {
      "needs_background": "light"
     },
     "output_type": "display_data"
    }
   ],
   "source": [
    "sns.histplot(x='user_spend',bins=40,hue='version',data=lobster_run);"
   ]
  },
  {
   "cell_type": "markdown",
   "id": "70e015d7",
   "metadata": {},
   "source": [
    "The histogram shows the quantities of two versions' spending. Mostly these two versions overlap and there is no clear distinction. However, North Atlantic has little more numbers of user spending. "
   ]
  },
  {
   "cell_type": "markdown",
   "id": "7966c980",
   "metadata": {},
   "source": [
    "C. Conduct a statistical test to check whether the user_spend variable is normally distributed.\n",
    "a. What is your test’s null hypothesis?\n",
    "b. Based on the p-value that you see as a result, what can you say about the\n",
    "distribution of this variable?"
   ]
  },
  {
   "cell_type": "code",
   "execution_count": 33,
   "id": "feb02be0",
   "metadata": {},
   "outputs": [
    {
     "data": {
      "text/plain": [
       "NormaltestResult(statistic=0.23395589442055797, pvalue=0.8896048112149306)"
      ]
     },
     "execution_count": 33,
     "metadata": {},
     "output_type": "execute_result"
    }
   ],
   "source": [
    "#from scipy import stats\n",
    "stats.normaltest(lobster_run['user_spend'])"
   ]
  },
  {
   "cell_type": "code",
   "execution_count": 34,
   "id": "71e35c57",
   "metadata": {},
   "outputs": [
    {
     "data": {
      "text/plain": [
       "KstestResult(statistic=0.0032224506325975177, pvalue=0.3055352702580256)"
      ]
     },
     "execution_count": 34,
     "metadata": {},
     "output_type": "execute_result"
    }
   ],
   "source": [
    "std1=lobster_run['user_spend'].std()\n",
    "m1=lobster_run['user_spend'].mean()\n",
    "stats.kstest(lobster_run['user_spend'],'norm',(m1,std1))"
   ]
  },
  {
   "cell_type": "markdown",
   "id": "665d7911",
   "metadata": {},
   "source": [
    "My null hypothesis is that variable user_spend is normally distributed. Both my normal test and kstest showed that the P-values are 0.89 and 0.31,which are all over 0.05. So we will not reject the null hypothesis. And my distribution of this variable user_spend is normally distributed."
   ]
  },
  {
   "cell_type": "markdown",
   "id": "200eb70c",
   "metadata": {},
   "source": [
    "D. Next, conduct an appropriate statistical test to check whether version has a significant impact on user spending. You can use any alpha value that you prefer to use for the significance threshold."
   ]
  },
  {
   "cell_type": "code",
   "execution_count": 35,
   "id": "a5e06b71",
   "metadata": {},
   "outputs": [
    {
     "name": "stdout",
     "output_type": "stream",
     "text": [
      "<class 'pandas.core.frame.DataFrame'>\n",
      "RangeIndex: 90189 entries, 0 to 90188\n",
      "Data columns (total 6 columns):\n",
      " #   Column          Non-Null Count  Dtype  \n",
      "---  ------          --------------  -----  \n",
      " 0   userid          90189 non-null  int64  \n",
      " 1   version         90189 non-null  object \n",
      " 2   sum_gamerounds  90189 non-null  int64  \n",
      " 3   retention_1     90189 non-null  bool   \n",
      " 4   retention_7     90189 non-null  bool   \n",
      " 5   user_spend      90189 non-null  float64\n",
      "dtypes: bool(2), float64(1), int64(2), object(1)\n",
      "memory usage: 2.9+ MB\n"
     ]
    }
   ],
   "source": [
    "lobster_run.info()"
   ]
  },
  {
   "cell_type": "code",
   "execution_count": 50,
   "id": "6e5a22b5",
   "metadata": {},
   "outputs": [
    {
     "name": "stdout",
     "output_type": "stream",
     "text": [
      "1.5874056946017774 0.11242429738514634\n"
     ]
    }
   ],
   "source": [
    "t4,p4=stats.ttest_ind(lobster_run.loc[lobster_run['version']=='Gulf of Maine','user_spend'].values,\n",
    "                      lobster_run.loc[lobster_run['version']=='North Atlantic','user_spend'].values,equal_var=False)\n",
    "print(t4,p4)"
   ]
  },
  {
   "cell_type": "markdown",
   "id": "bc5f46b3",
   "metadata": {},
   "source": [
    "My null hypothesis is that Gulf of Maine version = North Atlantic version. I set the alpha value 10%. The P-value is 0.112, which is greater than the alpha value we set. So we can say that we cannot reject the null hypothesis."
   ]
  },
  {
   "cell_type": "markdown",
   "id": "f892841c",
   "metadata": {},
   "source": [
    "E. Next, generate some summary stats here -- group the observations by ‘version’ and then compare the retention_1 and the retention_7 outcomes"
   ]
  },
  {
   "cell_type": "code",
   "execution_count": 39,
   "id": "84fd5b60",
   "metadata": {},
   "outputs": [
    {
     "data": {
      "text/plain": [
       "version         retention_1\n",
       "Gulf of Maine   False          24666\n",
       "                True           20034\n",
       "North Atlantic  False          25370\n",
       "                True           20119\n",
       "Name: retention_1, dtype: int64"
      ]
     },
     "execution_count": 39,
     "metadata": {},
     "output_type": "execute_result"
    }
   ],
   "source": [
    "lobster_run.groupby(by='version')['retention_1'].value_counts()"
   ]
  },
  {
   "cell_type": "code",
   "execution_count": 40,
   "id": "43813ce1",
   "metadata": {},
   "outputs": [
    {
     "data": {
      "text/plain": [
       "version         retention_7\n",
       "Gulf of Maine   False          35956\n",
       "                True            8744\n",
       "North Atlantic  False          37210\n",
       "                True            8279\n",
       "Name: retention_7, dtype: int64"
      ]
     },
     "execution_count": 40,
     "metadata": {},
     "output_type": "execute_result"
    }
   ],
   "source": [
    "lobster_run.groupby(by='version')['retention_7'].value_counts()"
   ]
  },
  {
   "cell_type": "markdown",
   "id": "6a01a9b9",
   "metadata": {},
   "source": [
    "the total number is not evenly-balanced and need some adjustment.\n",
    "From the above two calculations, the first one shows that different versions have little effect on retention_1. This shows that in both versions, the engagement after one day does not reflect a significant gap.\n",
    "The second one shows that Gulf of Maine version has a positive effect on retention_7. This is because Gulf of Maine version has a larger True number and a smaller False number. This suggests that users who open Gulf of Maine are more likely to be engaged in the game seven days after downloading it."
   ]
  },
  {
   "cell_type": "markdown",
   "id": "0e24237f",
   "metadata": {},
   "source": [
    "F. Using an appropriate statistical test, compare the retention_1 outcomes for the two app versions."
   ]
  },
  {
   "cell_type": "code",
   "execution_count": 58,
   "id": "10a23f91",
   "metadata": {},
   "outputs": [
    {
     "data": {
      "text/plain": [
       "North Atlantic    0.504374\n",
       "Gulf of Maine     0.495626\n",
       "Name: version, dtype: float64"
      ]
     },
     "execution_count": 58,
     "metadata": {},
     "output_type": "execute_result"
    }
   ],
   "source": [
    "pd.value_counts(lobster_run['version'],normalize=True)"
   ]
  },
  {
   "cell_type": "code",
   "execution_count": 59,
   "id": "8d264695",
   "metadata": {},
   "outputs": [
    {
     "data": {
      "text/plain": [
       "False    50036\n",
       "True     40153\n",
       "Name: retention_1, dtype: int64"
      ]
     },
     "execution_count": 59,
     "metadata": {},
     "output_type": "execute_result"
    }
   ],
   "source": [
    "pd.value_counts(lobster_run['retention_1'])"
   ]
  },
  {
   "cell_type": "code",
   "execution_count": 60,
   "id": "c5c6d52c",
   "metadata": {},
   "outputs": [
    {
     "name": "stdout",
     "output_type": "stream",
     "text": [
      "20252.129222 19900.870778\n"
     ]
    }
   ],
   "source": [
    "north_expected1=40153*0.504374\n",
    "gulf_expected1=40153*0.495626\n",
    "print(north_expected1,gulf_expected1)"
   ]
  },
  {
   "cell_type": "code",
   "execution_count": 61,
   "id": "7c382a9d",
   "metadata": {},
   "outputs": [
    {
     "name": "stderr",
     "output_type": "stream",
     "text": [
      "/var/folders/69/sjzrfpp90kb586qq0vrpgyjw0000gn/T/ipykernel_1090/2828127528.py:2: DeprecationWarning: scipy.array is deprecated and will be removed in SciPy 2.0.0, use numpy.array instead\n",
      "  observed_values= scipy.array([20119,20034])\n",
      "/var/folders/69/sjzrfpp90kb586qq0vrpgyjw0000gn/T/ipykernel_1090/2828127528.py:3: DeprecationWarning: scipy.array is deprecated and will be removed in SciPy 2.0.0, use numpy.array instead\n",
      "  expected_values = scipy.array([20252.129222,19900.870778])\n"
     ]
    },
    {
     "data": {
      "text/plain": [
       "Power_divergenceResult(statistic=1.7657207362746923, pvalue=0.18391255949974217)"
      ]
     },
     "execution_count": 61,
     "metadata": {},
     "output_type": "execute_result"
    }
   ],
   "source": [
    "from scipy.stats import chisquare\n",
    "observed_values= scipy.array([20119,20034])\n",
    "expected_values = scipy.array([20252.129222,19900.870778])\n",
    "chisquare(observed_values, expected_values)"
   ]
  },
  {
   "cell_type": "markdown",
   "id": "ae5e0062",
   "metadata": {},
   "source": [
    "My null hypothesis is that there is no huge data differences in engagement between the two versions one day after download. The P-value is greater than the usual alpha value of 0.05. Thus we can reject the null hypothesis. Unlike previous conclusions made by just looking at the data, chisquare's p-value tells us that there are data differences in engagement between the two versions one day after download. Since the more these values diverge from each other, the higher the chi square score, the more likely it is to be significant, so different versions are related to the retension of one day after download. \n"
   ]
  },
  {
   "cell_type": "markdown",
   "id": "c0e7a1d8",
   "metadata": {},
   "source": [
    "G. Using an appropriate statistical test, compare the retention_7 outcomes for the two app versions"
   ]
  },
  {
   "cell_type": "code",
   "execution_count": 62,
   "id": "217a9630",
   "metadata": {},
   "outputs": [
    {
     "data": {
      "text/plain": [
       "False    73166\n",
       "True     17023\n",
       "Name: retention_7, dtype: int64"
      ]
     },
     "execution_count": 62,
     "metadata": {},
     "output_type": "execute_result"
    }
   ],
   "source": [
    "pd.value_counts(lobster_run['retention_7'])"
   ]
  },
  {
   "cell_type": "code",
   "execution_count": 63,
   "id": "40cf2158",
   "metadata": {},
   "outputs": [
    {
     "name": "stdout",
     "output_type": "stream",
     "text": [
      "8585.958602 8437.041398\n"
     ]
    }
   ],
   "source": [
    "north_expected7=17023*0.504374\n",
    "gulf_expected7=17023*0.495626\n",
    "print(north_expected7,gulf_expected7)"
   ]
  },
  {
   "cell_type": "code",
   "execution_count": 64,
   "id": "bf3db1f8",
   "metadata": {},
   "outputs": [
    {
     "name": "stderr",
     "output_type": "stream",
     "text": [
      "/var/folders/69/sjzrfpp90kb586qq0vrpgyjw0000gn/T/ipykernel_1090/949536146.py:2: DeprecationWarning: scipy.array is deprecated and will be removed in SciPy 2.0.0, use numpy.array instead\n",
      "  observed_values= scipy.array([8279,8744])\n",
      "/var/folders/69/sjzrfpp90kb586qq0vrpgyjw0000gn/T/ipykernel_1090/949536146.py:3: DeprecationWarning: scipy.array is deprecated and will be removed in SciPy 2.0.0, use numpy.array instead\n",
      "  expected_values = scipy.array([8585.958602,8437.041398])\n"
     ]
    },
    {
     "data": {
      "text/plain": [
       "Power_divergenceResult(statistic=22.141994851507874, pvalue=2.532096033395736e-06)"
      ]
     },
     "execution_count": 64,
     "metadata": {},
     "output_type": "execute_result"
    }
   ],
   "source": [
    "from scipy.stats import chisquare\n",
    "observed_values= scipy.array([8279,8744])\n",
    "expected_values = scipy.array([8585.958602,8437.041398])\n",
    "chisquare(observed_values, expected_values)"
   ]
  },
  {
   "cell_type": "markdown",
   "id": "d39d20c6",
   "metadata": {},
   "source": [
    "According to the chisquare above, the P-value is so low that we can reject the null hypothesis. In the same way as the conclusions drawn from previous observations of the data, chisquare's p-value tells us that there is a data difference between the two versions in terms of engagement seven days after download."
   ]
  },
  {
   "cell_type": "markdown",
   "id": "2c5e0d2c",
   "metadata": {},
   "source": [
    "H. Write a couple sentences of thoughts and/or recommendations for Lobster Land based on the overall results that you have found from the Super Lobster Run data and the statistical tests."
   ]
  },
  {
   "cell_type": "markdown",
   "id": "d427d2f0",
   "metadata": {},
   "source": [
    "In this A/B test, the user showed higher retaintion rate one days after the download in North Atlantic version. So I recommend using the North Atlantic version to extent the download rate and may increase the user spending."
   ]
  },
  {
   "cell_type": "markdown",
   "id": "1e72929f",
   "metadata": {},
   "source": [
    "# Part III: Wildcard (1 point)"
   ]
  },
  {
   "cell_type": "code",
   "execution_count": 68,
   "id": "bcfcd98b",
   "metadata": {},
   "outputs": [
    {
     "data": {
      "image/png": "[encoded data removed]",
      "text/plain": [
       "<Figure size 432x288 with 1 Axes>"
      ]
     },
     "metadata": {
      "needs_background": "light"
     },
     "output_type": "display_data"
    }
   ],
   "source": [
    "from PIL import Image\n",
    "myimage=Image.open('/Users/luoyayuan/Desktop/word.png');\n",
    "plt.imshow(myimage);"
   ]
  },
  {
   "cell_type": "markdown",
   "id": "d62ce5c5",
   "metadata": {},
   "source": [
    "I show my favorite brunch restaurant in downtown Boston called Cafe Bonjour. Wordclouds are graphical representations of Word frequency that give greater prominence to Words that appear more frequently in my review text. The larger the Word in the visual the more common the Word was in the the reviews of yelp.And here the most frequent one is food. It makes sense that when we review the comments of others, they all recommend what they like and give their personal experience. We roughly know that this restaurant serves european favored food that has positive judges.We reviewer when seeing these wordsclouds and we want to give a try to this restaurant."
   ]
  }
 ],
 "metadata": {
  "kernelspec": {
   "display_name": "Python 3 (ipykernel)",
   "language": "python",
   "name": "python3"
  },
  "language_info": {
   "codemirror_mode": {
    "name": "ipython",
    "version": 3
   },
   "file_extension": ".py",
   "mimetype": "text/x-python",
   "name": "python",
   "nbconvert_exporter": "python",
   "pygments_lexer": "ipython3",
   "version": "3.9.7"
  }
 },
 "nbformat": 4,
 "nbformat_minor": 5
}
