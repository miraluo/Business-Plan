{
 "cells": [
  {
   "cell_type": "markdown",
   "id": "b0aaf497",
   "metadata": {},
   "source": [
    "# Part I: Working with Time Series Data"
   ]
  },
  {
   "cell_type": "markdown",
   "id": "dbbeaff7",
   "metadata": {},
   "source": [
    "I choose Amazon that trades on the Nasdaq.Its ticker symbol is AMZN."
   ]
  },
  {
   "cell_type": "code",
   "execution_count": 1,
   "id": "ce40d984",
   "metadata": {},
   "outputs": [],
   "source": [
    "import pandas as pd\n",
    "import seaborn as sns\n",
    "import numpy as np\n",
    "import matplotlib.pyplot as plt"
   ]
  },
  {
   "cell_type": "code",
   "execution_count": 2,
   "id": "199a6cc7",
   "metadata": {},
   "outputs": [
    {
     "data": {
      "text/html": [
       "<div>\n",
       "<style scoped>\n",
       "    .dataframe tbody tr th:only-of-type {\n",
       "        vertical-align: middle;\n",
       "    }\n",
       "\n",
       "    .dataframe tbody tr th {\n",
       "        vertical-align: top;\n",
       "    }\n",
       "\n",
       "    .dataframe thead th {\n",
       "        text-align: right;\n",
       "    }\n",
       "</style>\n",
       "<table border=\"1\" class=\"dataframe\">\n",
       "  <thead>\n",
       "    <tr style=\"text-align: right;\">\n",
       "      <th></th>\n",
       "      <th>Open</th>\n",
       "      <th>High</th>\n",
       "      <th>Low</th>\n",
       "      <th>Close</th>\n",
       "      <th>Adj Close</th>\n",
       "      <th>Volume</th>\n",
       "    </tr>\n",
       "    <tr>\n",
       "      <th>Date</th>\n",
       "      <th></th>\n",
       "      <th></th>\n",
       "      <th></th>\n",
       "      <th></th>\n",
       "      <th></th>\n",
       "      <th></th>\n",
       "    </tr>\n",
       "  </thead>\n",
       "  <tbody>\n",
       "    <tr>\n",
       "      <th>2021-04-22</th>\n",
       "      <td>3371.679932</td>\n",
       "      <td>3372.870117</td>\n",
       "      <td>3301.449951</td>\n",
       "      <td>3309.040039</td>\n",
       "      <td>3309.040039</td>\n",
       "      <td>2580600</td>\n",
       "    </tr>\n",
       "    <tr>\n",
       "      <th>2021-04-23</th>\n",
       "      <td>3319.100098</td>\n",
       "      <td>3375.000000</td>\n",
       "      <td>3308.500000</td>\n",
       "      <td>3340.879883</td>\n",
       "      <td>3340.879883</td>\n",
       "      <td>3192800</td>\n",
       "    </tr>\n",
       "    <tr>\n",
       "      <th>2021-04-26</th>\n",
       "      <td>3348.000000</td>\n",
       "      <td>3428.449951</td>\n",
       "      <td>3330.939941</td>\n",
       "      <td>3409.000000</td>\n",
       "      <td>3409.000000</td>\n",
       "      <td>4880700</td>\n",
       "    </tr>\n",
       "    <tr>\n",
       "      <th>2021-04-27</th>\n",
       "      <td>3443.469971</td>\n",
       "      <td>3460.000000</td>\n",
       "      <td>3398.010010</td>\n",
       "      <td>3417.429932</td>\n",
       "      <td>3417.429932</td>\n",
       "      <td>3827100</td>\n",
       "    </tr>\n",
       "    <tr>\n",
       "      <th>2021-04-28</th>\n",
       "      <td>3434.800049</td>\n",
       "      <td>3489.879883</td>\n",
       "      <td>3425.000000</td>\n",
       "      <td>3458.500000</td>\n",
       "      <td>3458.500000</td>\n",
       "      <td>4631900</td>\n",
       "    </tr>\n",
       "  </tbody>\n",
       "</table>\n",
       "</div>"
      ],
      "text/plain": [
       "                   Open         High          Low        Close    Adj Close  \\\n",
       "Date                                                                          \n",
       "2021-04-22  3371.679932  3372.870117  3301.449951  3309.040039  3309.040039   \n",
       "2021-04-23  3319.100098  3375.000000  3308.500000  3340.879883  3340.879883   \n",
       "2021-04-26  3348.000000  3428.449951  3330.939941  3409.000000  3409.000000   \n",
       "2021-04-27  3443.469971  3460.000000  3398.010010  3417.429932  3417.429932   \n",
       "2021-04-28  3434.800049  3489.879883  3425.000000  3458.500000  3458.500000   \n",
       "\n",
       "             Volume  \n",
       "Date                 \n",
       "2021-04-22  2580600  \n",
       "2021-04-23  3192800  \n",
       "2021-04-26  4880700  \n",
       "2021-04-27  3827100  \n",
       "2021-04-28  4631900  "
      ]
     },
     "execution_count": 2,
     "metadata": {},
     "output_type": "execute_result"
    }
   ],
   "source": [
    "AMZN=pd.read_csv('/Users/luoyayuan/Desktop/AMZN.csv',index_col='Date',parse_dates=True)\n",
    "AMZN.head()"
   ]
  },
  {
   "cell_type": "code",
   "execution_count": 3,
   "id": "9b59099c",
   "metadata": {},
   "outputs": [
    {
     "name": "stdout",
     "output_type": "stream",
     "text": [
      "<class 'pandas.core.frame.DataFrame'>\n",
      "DatetimeIndex: 253 entries, 2021-04-22 to 2022-04-21\n",
      "Data columns (total 6 columns):\n",
      " #   Column     Non-Null Count  Dtype  \n",
      "---  ------     --------------  -----  \n",
      " 0   Open       253 non-null    float64\n",
      " 1   High       253 non-null    float64\n",
      " 2   Low        253 non-null    float64\n",
      " 3   Close      253 non-null    float64\n",
      " 4   Adj Close  253 non-null    float64\n",
      " 5   Volume     253 non-null    int64  \n",
      "dtypes: float64(5), int64(1)\n",
      "memory usage: 13.8 KB\n"
     ]
    }
   ],
   "source": [
    "AMZN.info()"
   ]
  },
  {
   "cell_type": "markdown",
   "id": "cf99b3f8",
   "metadata": {},
   "source": [
    "This dataset is indexed by time values. As we can see in the first several rows of the dataset, the index is organized by date."
   ]
  },
  {
   "cell_type": "code",
   "execution_count": 4,
   "id": "ff1982ef",
   "metadata": {},
   "outputs": [
    {
     "name": "stdout",
     "output_type": "stream",
     "text": [
      "2022-04-21 00:00:00\n",
      "2021-04-22 00:00:00\n",
      "252\n",
      "0\n"
     ]
    }
   ],
   "source": [
    "print(AMZN.index.max())\n",
    "print(AMZN.index.min())\n",
    "print(AMZN.index.argmax())\n",
    "print(AMZN.index.argmin())"
   ]
  },
  {
   "cell_type": "markdown",
   "id": "0fecacd2",
   "metadata": {},
   "source": [
    "index.max returns the maximum values of the index\n",
    "\n",
    "index.min returns the minimum values of the index\n",
    "\n",
    "index.argmax returns the indices of the maximum values along an axis\n",
    "\n",
    "index.argmin returns the indices of the minimum values along an axis"
   ]
  },
  {
   "cell_type": "code",
   "execution_count": 5,
   "id": "e50d22cb",
   "metadata": {},
   "outputs": [
    {
     "data": {
      "image/png": "[encoded data removed]",
      "text/plain": [
       "<Figure size 432x288 with 1 Axes>"
      ]
     },
     "metadata": {
      "needs_background": "light"
     },
     "output_type": "display_data"
    }
   ],
   "source": [
    "plt.plot(AMZN);"
   ]
  },
  {
   "cell_type": "markdown",
   "id": "5cd6b9ae",
   "metadata": {},
   "source": [
    "This graph shows the changing trend from 2021-04 to 2022-04. It is challenging to interpret because it's hard to tell what the y-axis represents.  All the data is crammed together.We need to define what we want to show changing with the time and give them labels to audiences."
   ]
  },
  {
   "cell_type": "code",
   "execution_count": 17,
   "id": "08cde07f",
   "metadata": {},
   "outputs": [
    {
     "data": {
      "image/png": "[encoded data removed]",
      "text/plain": [
       "<Figure size 432x288 with 1 Axes>"
      ]
     },
     "metadata": {
      "needs_background": "light"
     },
     "output_type": "display_data"
    }
   ],
   "source": [
    "plt.plot(AMZN.Close);\n",
    "plt.title('Close Price Changing Trend');\n",
    "plt.xlabel('Date Time');\n",
    "plt.ylabel('Close Price');"
   ]
  },
  {
   "cell_type": "markdown",
   "id": "222eca5c",
   "metadata": {},
   "source": [
    "This graph shows the close prices' date time changing trend.It is easier to interpret because the y-axis represents close price and it's more specific. "
   ]
  },
  {
   "cell_type": "code",
   "execution_count": 7,
   "id": "de1d5c19",
   "metadata": {},
   "outputs": [
    {
     "data": {
      "image/png": "[encoded data removed]",
      "text/plain": [
       "<Figure size 432x288 with 1 Axes>"
      ]
     },
     "metadata": {
      "needs_background": "light"
     },
     "output_type": "display_data"
    }
   ],
   "source": [
    "plt.plot(AMZN.Volume);\n",
    "plt.title('Volume Changing Trend');\n",
    "plt.xlabel('Date Time');\n",
    "plt.ylabel('Volume');"
   ]
  },
  {
   "cell_type": "markdown",
   "id": "6a6a2dd7",
   "metadata": {},
   "source": [
    "This graph shows the volume' date time changing trend.There is no seasonality nor stability. We can tell that there are two peaks respectively in 2021-08 and 2022-02 generating high trading amount. "
   ]
  },
  {
   "cell_type": "markdown",
   "id": "1e0dd43d",
   "metadata": {},
   "source": [
    "### Plotting a subset of your data"
   ]
  },
  {
   "cell_type": "markdown",
   "id": "ec6a10d2",
   "metadata": {},
   "source": [
    "#### i. Using a slice operation, plot the daily ‘Close’ variable from your dataset for any one-month period of your choice.\n",
    "\n",
    "#### ii. Now, show the plot you drew with the previous step, but with a new figsize, line color, and style."
   ]
  },
  {
   "cell_type": "code",
   "execution_count": 8,
   "id": "c5aa6fe0",
   "metadata": {},
   "outputs": [
    {
     "data": {
      "text/html": [
       "<div>\n",
       "<style scoped>\n",
       "    .dataframe tbody tr th:only-of-type {\n",
       "        vertical-align: middle;\n",
       "    }\n",
       "\n",
       "    .dataframe tbody tr th {\n",
       "        vertical-align: top;\n",
       "    }\n",
       "\n",
       "    .dataframe thead th {\n",
       "        text-align: right;\n",
       "    }\n",
       "</style>\n",
       "<table border=\"1\" class=\"dataframe\">\n",
       "  <thead>\n",
       "    <tr style=\"text-align: right;\">\n",
       "      <th></th>\n",
       "      <th>Close</th>\n",
       "    </tr>\n",
       "    <tr>\n",
       "      <th>Date</th>\n",
       "      <th></th>\n",
       "    </tr>\n",
       "  </thead>\n",
       "  <tbody>\n",
       "    <tr>\n",
       "      <th>2022-01-03</th>\n",
       "      <td>3408.090088</td>\n",
       "    </tr>\n",
       "    <tr>\n",
       "      <th>2022-01-04</th>\n",
       "      <td>3350.439941</td>\n",
       "    </tr>\n",
       "    <tr>\n",
       "      <th>2022-01-05</th>\n",
       "      <td>3287.139893</td>\n",
       "    </tr>\n",
       "    <tr>\n",
       "      <th>2022-01-06</th>\n",
       "      <td>3265.080078</td>\n",
       "    </tr>\n",
       "    <tr>\n",
       "      <th>2022-01-07</th>\n",
       "      <td>3251.080078</td>\n",
       "    </tr>\n",
       "    <tr>\n",
       "      <th>2022-01-10</th>\n",
       "      <td>3229.719971</td>\n",
       "    </tr>\n",
       "    <tr>\n",
       "      <th>2022-01-11</th>\n",
       "      <td>3307.239990</td>\n",
       "    </tr>\n",
       "    <tr>\n",
       "      <th>2022-01-12</th>\n",
       "      <td>3304.139893</td>\n",
       "    </tr>\n",
       "    <tr>\n",
       "      <th>2022-01-13</th>\n",
       "      <td>3224.280029</td>\n",
       "    </tr>\n",
       "    <tr>\n",
       "      <th>2022-01-14</th>\n",
       "      <td>3242.760010</td>\n",
       "    </tr>\n",
       "    <tr>\n",
       "      <th>2022-01-18</th>\n",
       "      <td>3178.350098</td>\n",
       "    </tr>\n",
       "    <tr>\n",
       "      <th>2022-01-19</th>\n",
       "      <td>3125.979980</td>\n",
       "    </tr>\n",
       "    <tr>\n",
       "      <th>2022-01-20</th>\n",
       "      <td>3033.350098</td>\n",
       "    </tr>\n",
       "    <tr>\n",
       "      <th>2022-01-21</th>\n",
       "      <td>2852.860107</td>\n",
       "    </tr>\n",
       "    <tr>\n",
       "      <th>2022-01-24</th>\n",
       "      <td>2890.879883</td>\n",
       "    </tr>\n",
       "    <tr>\n",
       "      <th>2022-01-25</th>\n",
       "      <td>2799.719971</td>\n",
       "    </tr>\n",
       "    <tr>\n",
       "      <th>2022-01-26</th>\n",
       "      <td>2777.449951</td>\n",
       "    </tr>\n",
       "    <tr>\n",
       "      <th>2022-01-27</th>\n",
       "      <td>2792.750000</td>\n",
       "    </tr>\n",
       "    <tr>\n",
       "      <th>2022-01-28</th>\n",
       "      <td>2879.560059</td>\n",
       "    </tr>\n",
       "    <tr>\n",
       "      <th>2022-01-31</th>\n",
       "      <td>2991.469971</td>\n",
       "    </tr>\n",
       "  </tbody>\n",
       "</table>\n",
       "</div>"
      ],
      "text/plain": [
       "                  Close\n",
       "Date                   \n",
       "2022-01-03  3408.090088\n",
       "2022-01-04  3350.439941\n",
       "2022-01-05  3287.139893\n",
       "2022-01-06  3265.080078\n",
       "2022-01-07  3251.080078\n",
       "2022-01-10  3229.719971\n",
       "2022-01-11  3307.239990\n",
       "2022-01-12  3304.139893\n",
       "2022-01-13  3224.280029\n",
       "2022-01-14  3242.760010\n",
       "2022-01-18  3178.350098\n",
       "2022-01-19  3125.979980\n",
       "2022-01-20  3033.350098\n",
       "2022-01-21  2852.860107\n",
       "2022-01-24  2890.879883\n",
       "2022-01-25  2799.719971\n",
       "2022-01-26  2777.449951\n",
       "2022-01-27  2792.750000\n",
       "2022-01-28  2879.560059\n",
       "2022-01-31  2991.469971"
      ]
     },
     "execution_count": 8,
     "metadata": {},
     "output_type": "execute_result"
    }
   ],
   "source": [
    "AMZN_JAN=AMZN.loc['2022-01-01':'2022-01-31','Close']\n",
    "AMZN_JAN=pd.DataFrame(AMZN_JAN)\n",
    "AMZN_JAN"
   ]
  },
  {
   "cell_type": "code",
   "execution_count": 9,
   "id": "035022a8",
   "metadata": {},
   "outputs": [
    {
     "data": {
      "image/png": "[encoded data removed]",
      "text/plain": [
       "<Figure size 432x288 with 1 Axes>"
      ]
     },
     "metadata": {
      "needs_background": "light"
     },
     "output_type": "display_data"
    }
   ],
   "source": [
    "plt.plot(AMZN_JAN);\n",
    "plt.title('Close Price Changing in 2022 January');\n",
    "plt.xlabel('Date Time');\n",
    "plt.ylabel('Close Price');"
   ]
  },
  {
   "cell_type": "code",
   "execution_count": 10,
   "id": "948718fe",
   "metadata": {},
   "outputs": [
    {
     "data": {
      "image/png": "[encoded data removed]",
      "text/plain": [
       "<Figure size 1152x360 with 1 Axes>"
      ]
     },
     "metadata": {
      "needs_background": "light"
     },
     "output_type": "display_data"
    }
   ],
   "source": [
    "plt.figure(figsize=(16,5))\n",
    "plt.rc('lines', linewidth=4, linestyle='-.')\n",
    "plt.plot(AMZN_JAN,color='pink');\n",
    "plt.title('Close Price Changing in 2022 January');\n",
    "plt.xlabel('Date Time');\n",
    "plt.ylabel('Close Price');"
   ]
  },
  {
   "cell_type": "markdown",
   "id": "cbcc5709",
   "metadata": {},
   "source": [
    "The two graphs above show the pictures of the closing price in different size and color. The second one show a more readable graph bacause of larger size."
   ]
  },
  {
   "cell_type": "markdown",
   "id": "58a1a61c",
   "metadata": {},
   "source": [
    "#### Next, we will try something called resampling.\n",
    "#### a. Resample your time series so that its values are based on one-month time periods’ mean values, rather than daily periods."
   ]
  },
  {
   "cell_type": "code",
   "execution_count": 18,
   "id": "23a592fe",
   "metadata": {},
   "outputs": [
    {
     "data": {
      "image/png": "[encoded data removed]",
      "text/plain": [
       "<Figure size 1152x360 with 1 Axes>"
      ]
     },
     "metadata": {
      "needs_background": "light"
     },
     "output_type": "display_data"
    }
   ],
   "source": [
    "AMZN.resample('M').mean().plot(figsize=(16,5));\n",
    "plt.title('Changing by month');\n",
    "plt.xlabel('Date Time');"
   ]
  },
  {
   "cell_type": "markdown",
   "id": "6768688c",
   "metadata": {},
   "source": [
    "Resampling involves changing the frequency of our time series observations. Two types of resampling are: Upsampling: Where we increase the frequency of the samples, such as from minutes to seconds. Downsampling: Where we decrease the frequency of the samples, such as from days to months.By resampling we adjusted the measure calculating ranges and we can be more aware of the output. \n",
    "\n",
    "For example, A company selling different types of shoes in its chain stores. After first 6 months of sales data, they want to make a mid-year summary. They called previous years' data that only contains the first half of the year since they want to compare within the same time period and this is the downsampling in months. When the company wants to make a strategy respectively in each month to set the targeting reaching goal, we may do upsampling because we want to look at each day's detailed sales outcome in each month."
   ]
  },
  {
   "cell_type": "markdown",
   "id": "a3f9d6b5",
   "metadata": {},
   "source": [
    "# Part 2: marketing mix modeling with an interaction term"
   ]
  },
  {
   "cell_type": "code",
   "execution_count": 20,
   "id": "20630bb3",
   "metadata": {},
   "outputs": [
    {
     "data": {
      "text/html": [
       "<div>\n",
       "<style scoped>\n",
       "    .dataframe tbody tr th:only-of-type {\n",
       "        vertical-align: middle;\n",
       "    }\n",
       "\n",
       "    .dataframe tbody tr th {\n",
       "        vertical-align: top;\n",
       "    }\n",
       "\n",
       "    .dataframe thead th {\n",
       "        text-align: right;\n",
       "    }\n",
       "</style>\n",
       "<table border=\"1\" class=\"dataframe\">\n",
       "  <thead>\n",
       "    <tr style=\"text-align: right;\">\n",
       "      <th></th>\n",
       "      <th>Web</th>\n",
       "      <th>Bus_Stop</th>\n",
       "      <th>Newspaper</th>\n",
       "      <th>Sales</th>\n",
       "    </tr>\n",
       "  </thead>\n",
       "  <tbody>\n",
       "    <tr>\n",
       "      <th>0</th>\n",
       "      <td>230.1</td>\n",
       "      <td>37.8</td>\n",
       "      <td>69.2</td>\n",
       "      <td>22.1</td>\n",
       "    </tr>\n",
       "    <tr>\n",
       "      <th>1</th>\n",
       "      <td>44.5</td>\n",
       "      <td>39.3</td>\n",
       "      <td>45.1</td>\n",
       "      <td>10.4</td>\n",
       "    </tr>\n",
       "    <tr>\n",
       "      <th>2</th>\n",
       "      <td>17.2</td>\n",
       "      <td>45.9</td>\n",
       "      <td>69.3</td>\n",
       "      <td>12.0</td>\n",
       "    </tr>\n",
       "    <tr>\n",
       "      <th>3</th>\n",
       "      <td>151.5</td>\n",
       "      <td>41.3</td>\n",
       "      <td>58.5</td>\n",
       "      <td>16.5</td>\n",
       "    </tr>\n",
       "    <tr>\n",
       "      <th>4</th>\n",
       "      <td>180.8</td>\n",
       "      <td>10.8</td>\n",
       "      <td>58.4</td>\n",
       "      <td>17.9</td>\n",
       "    </tr>\n",
       "  </tbody>\n",
       "</table>\n",
       "</div>"
      ],
      "text/plain": [
       "     Web  Bus_Stop  Newspaper  Sales\n",
       "0  230.1      37.8       69.2   22.1\n",
       "1   44.5      39.3       45.1   10.4\n",
       "2   17.2      45.9       69.3   12.0\n",
       "3  151.5      41.3       58.5   16.5\n",
       "4  180.8      10.8       58.4   17.9"
      ]
     },
     "execution_count": 20,
     "metadata": {},
     "output_type": "execute_result"
    }
   ],
   "source": [
    "ads=pd.read_csv('/Users/luoyayuan/Desktop/schwab_ads.csv')\n",
    "ads.head()"
   ]
  },
  {
   "cell_type": "code",
   "execution_count": 21,
   "id": "fd850717",
   "metadata": {},
   "outputs": [
    {
     "name": "stdout",
     "output_type": "stream",
     "text": [
      "<class 'pandas.core.frame.DataFrame'>\n",
      "RangeIndex: 200 entries, 0 to 199\n",
      "Data columns (total 4 columns):\n",
      " #   Column     Non-Null Count  Dtype  \n",
      "---  ------     --------------  -----  \n",
      " 0   Web        200 non-null    float64\n",
      " 1   Bus_Stop   200 non-null    float64\n",
      " 2   Newspaper  200 non-null    float64\n",
      " 3   Sales      200 non-null    float64\n",
      "dtypes: float64(4)\n",
      "memory usage: 6.4 KB\n"
     ]
    }
   ],
   "source": [
    "ads.info()"
   ]
  },
  {
   "cell_type": "code",
   "execution_count": 28,
   "id": "11b67da9",
   "metadata": {},
   "outputs": [
    {
     "data": {
      "text/html": [
       "<div>\n",
       "<style scoped>\n",
       "    .dataframe tbody tr th:only-of-type {\n",
       "        vertical-align: middle;\n",
       "    }\n",
       "\n",
       "    .dataframe tbody tr th {\n",
       "        vertical-align: top;\n",
       "    }\n",
       "\n",
       "    .dataframe thead th {\n",
       "        text-align: right;\n",
       "    }\n",
       "</style>\n",
       "<table border=\"1\" class=\"dataframe\">\n",
       "  <thead>\n",
       "    <tr style=\"text-align: right;\">\n",
       "      <th></th>\n",
       "      <th>Web</th>\n",
       "      <th>Bus_Stop</th>\n",
       "      <th>Newspaper</th>\n",
       "      <th>Sales</th>\n",
       "      <th>total_spending</th>\n",
       "    </tr>\n",
       "  </thead>\n",
       "  <tbody>\n",
       "    <tr>\n",
       "      <th>0</th>\n",
       "      <td>230.1</td>\n",
       "      <td>37.8</td>\n",
       "      <td>69.2</td>\n",
       "      <td>22.1</td>\n",
       "      <td>337.1</td>\n",
       "    </tr>\n",
       "    <tr>\n",
       "      <th>1</th>\n",
       "      <td>44.5</td>\n",
       "      <td>39.3</td>\n",
       "      <td>45.1</td>\n",
       "      <td>10.4</td>\n",
       "      <td>128.9</td>\n",
       "    </tr>\n",
       "    <tr>\n",
       "      <th>2</th>\n",
       "      <td>17.2</td>\n",
       "      <td>45.9</td>\n",
       "      <td>69.3</td>\n",
       "      <td>12.0</td>\n",
       "      <td>132.4</td>\n",
       "    </tr>\n",
       "    <tr>\n",
       "      <th>3</th>\n",
       "      <td>151.5</td>\n",
       "      <td>41.3</td>\n",
       "      <td>58.5</td>\n",
       "      <td>16.5</td>\n",
       "      <td>251.3</td>\n",
       "    </tr>\n",
       "    <tr>\n",
       "      <th>4</th>\n",
       "      <td>180.8</td>\n",
       "      <td>10.8</td>\n",
       "      <td>58.4</td>\n",
       "      <td>17.9</td>\n",
       "      <td>250.0</td>\n",
       "    </tr>\n",
       "  </tbody>\n",
       "</table>\n",
       "</div>"
      ],
      "text/plain": [
       "     Web  Bus_Stop  Newspaper  Sales  total_spending\n",
       "0  230.1      37.8       69.2   22.1           337.1\n",
       "1   44.5      39.3       45.1   10.4           128.9\n",
       "2   17.2      45.9       69.3   12.0           132.4\n",
       "3  151.5      41.3       58.5   16.5           251.3\n",
       "4  180.8      10.8       58.4   17.9           250.0"
      ]
     },
     "execution_count": 28,
     "metadata": {},
     "output_type": "execute_result"
    }
   ],
   "source": [
    "ads1=ads.assign(total_spending=ads.Web+ads.Bus_Stop+ads.Newspaper)\n",
    "ads1.head()"
   ]
  },
  {
   "cell_type": "code",
   "execution_count": 29,
   "id": "918e5a98",
   "metadata": {},
   "outputs": [
    {
     "data": {
      "text/plain": [
       "0.9249170062499313"
      ]
     },
     "execution_count": 29,
     "metadata": {},
     "output_type": "execute_result"
    }
   ],
   "source": [
    "ads1['total_spending'].corr(ads1['Sales'])"
   ]
  },
  {
   "cell_type": "markdown",
   "id": "d993fa13",
   "metadata": {},
   "source": [
    "The correlation of total spending and sales is 0.92,which shows a high correlated relationship."
   ]
  },
  {
   "cell_type": "code",
   "execution_count": 39,
   "id": "66d18d93",
   "metadata": {},
   "outputs": [
    {
     "data": {
      "text/html": [
       "<div>\n",
       "<style scoped>\n",
       "    .dataframe tbody tr th:only-of-type {\n",
       "        vertical-align: middle;\n",
       "    }\n",
       "\n",
       "    .dataframe tbody tr th {\n",
       "        vertical-align: top;\n",
       "    }\n",
       "\n",
       "    .dataframe thead th {\n",
       "        text-align: right;\n",
       "    }\n",
       "</style>\n",
       "<table border=\"1\" class=\"dataframe\">\n",
       "  <thead>\n",
       "    <tr style=\"text-align: right;\">\n",
       "      <th></th>\n",
       "      <th>Web</th>\n",
       "      <th>Bus_Stop</th>\n",
       "      <th>Newspaper</th>\n",
       "    </tr>\n",
       "  </thead>\n",
       "  <tbody>\n",
       "    <tr>\n",
       "      <th>Web</th>\n",
       "      <td>1.000000</td>\n",
       "      <td>0.054809</td>\n",
       "      <td>0.056648</td>\n",
       "    </tr>\n",
       "    <tr>\n",
       "      <th>Bus_Stop</th>\n",
       "      <td>0.054809</td>\n",
       "      <td>1.000000</td>\n",
       "      <td>0.354104</td>\n",
       "    </tr>\n",
       "    <tr>\n",
       "      <th>Newspaper</th>\n",
       "      <td>0.056648</td>\n",
       "      <td>0.354104</td>\n",
       "      <td>1.000000</td>\n",
       "    </tr>\n",
       "  </tbody>\n",
       "</table>\n",
       "</div>"
      ],
      "text/plain": [
       "                Web  Bus_Stop  Newspaper\n",
       "Web        1.000000  0.054809   0.056648\n",
       "Bus_Stop   0.054809  1.000000   0.354104\n",
       "Newspaper  0.056648  0.354104   1.000000"
      ]
     },
     "execution_count": 39,
     "metadata": {},
     "output_type": "execute_result"
    }
   ],
   "source": [
    "ads2=ads1.iloc[:,0:3]\n",
    "ads2.corr()"
   ]
  },
  {
   "cell_type": "markdown",
   "id": "2e9c8a53",
   "metadata": {},
   "source": [
    "These three variables are not highly correlated, thus it will not cause big problems when creating models."
   ]
  },
  {
   "cell_type": "code",
   "execution_count": 40,
   "id": "0f51ac39",
   "metadata": {},
   "outputs": [],
   "source": [
    "import statsmodels.api as sm\n",
    "import statsmodels.formula.api as smf\n",
    "from statsmodels.formula.api import ols"
   ]
  },
  {
   "cell_type": "code",
   "execution_count": 42,
   "id": "00a5b067",
   "metadata": {},
   "outputs": [
    {
     "data": {
      "text/html": [
       "<table class=\"simpletable\">\n",
       "<caption>OLS Regression Results</caption>\n",
       "<tr>\n",
       "  <th>Dep. Variable:</th>          <td>Sales</td>      <th>  R-squared:         </th> <td>   0.903</td>\n",
       "</tr>\n",
       "<tr>\n",
       "  <th>Model:</th>                   <td>OLS</td>       <th>  Adj. R-squared:    </th> <td>   0.901</td>\n",
       "</tr>\n",
       "<tr>\n",
       "  <th>Method:</th>             <td>Least Squares</td>  <th>  F-statistic:       </th> <td>   605.4</td>\n",
       "</tr>\n",
       "<tr>\n",
       "  <th>Date:</th>             <td>Sun, 24 Apr 2022</td> <th>  Prob (F-statistic):</th> <td>8.13e-99</td>\n",
       "</tr>\n",
       "<tr>\n",
       "  <th>Time:</th>                 <td>15:37:37</td>     <th>  Log-Likelihood:    </th> <td> -383.34</td>\n",
       "</tr>\n",
       "<tr>\n",
       "  <th>No. Observations:</th>      <td>   200</td>      <th>  AIC:               </th> <td>   774.7</td>\n",
       "</tr>\n",
       "<tr>\n",
       "  <th>Df Residuals:</th>          <td>   196</td>      <th>  BIC:               </th> <td>   787.9</td>\n",
       "</tr>\n",
       "<tr>\n",
       "  <th>Df Model:</th>              <td>     3</td>      <th>                     </th>     <td> </td>   \n",
       "</tr>\n",
       "<tr>\n",
       "  <th>Covariance Type:</th>      <td>nonrobust</td>    <th>                     </th>     <td> </td>   \n",
       "</tr>\n",
       "</table>\n",
       "<table class=\"simpletable\">\n",
       "<tr>\n",
       "      <td></td>         <th>coef</th>     <th>std err</th>      <th>t</th>      <th>P>|t|</th>  <th>[0.025</th>    <th>0.975]</th>  \n",
       "</tr>\n",
       "<tr>\n",
       "  <th>Intercept</th> <td>    4.6251</td> <td>    0.308</td> <td>   15.041</td> <td> 0.000</td> <td>    4.019</td> <td>    5.232</td>\n",
       "</tr>\n",
       "<tr>\n",
       "  <th>Web</th>       <td>    0.0544</td> <td>    0.001</td> <td>   39.592</td> <td> 0.000</td> <td>    0.052</td> <td>    0.057</td>\n",
       "</tr>\n",
       "<tr>\n",
       "  <th>Bus_Stop</th>  <td>    0.1070</td> <td>    0.008</td> <td>   12.604</td> <td> 0.000</td> <td>    0.090</td> <td>    0.124</td>\n",
       "</tr>\n",
       "<tr>\n",
       "  <th>Newspaper</th> <td>    0.0003</td> <td>    0.006</td> <td>    0.058</td> <td> 0.954</td> <td>   -0.011</td> <td>    0.012</td>\n",
       "</tr>\n",
       "</table>\n",
       "<table class=\"simpletable\">\n",
       "<tr>\n",
       "  <th>Omnibus:</th>       <td>16.081</td> <th>  Durbin-Watson:     </th> <td>   2.251</td>\n",
       "</tr>\n",
       "<tr>\n",
       "  <th>Prob(Omnibus):</th> <td> 0.000</td> <th>  Jarque-Bera (JB):  </th> <td>  27.655</td>\n",
       "</tr>\n",
       "<tr>\n",
       "  <th>Skew:</th>          <td>-0.431</td> <th>  Prob(JB):          </th> <td>9.88e-07</td>\n",
       "</tr>\n",
       "<tr>\n",
       "  <th>Kurtosis:</th>      <td> 4.605</td> <th>  Cond. No.          </th> <td>    454.</td>\n",
       "</tr>\n",
       "</table><br/><br/>Notes:<br/>[1] Standard Errors assume that the covariance matrix of the errors is correctly specified."
      ],
      "text/plain": [
       "<class 'statsmodels.iolib.summary.Summary'>\n",
       "\"\"\"\n",
       "                            OLS Regression Results                            \n",
       "==============================================================================\n",
       "Dep. Variable:                  Sales   R-squared:                       0.903\n",
       "Model:                            OLS   Adj. R-squared:                  0.901\n",
       "Method:                 Least Squares   F-statistic:                     605.4\n",
       "Date:                Sun, 24 Apr 2022   Prob (F-statistic):           8.13e-99\n",
       "Time:                        15:37:37   Log-Likelihood:                -383.34\n",
       "No. Observations:                 200   AIC:                             774.7\n",
       "Df Residuals:                     196   BIC:                             787.9\n",
       "Df Model:                           3                                         \n",
       "Covariance Type:            nonrobust                                         \n",
       "==============================================================================\n",
       "                 coef    std err          t      P>|t|      [0.025      0.975]\n",
       "------------------------------------------------------------------------------\n",
       "Intercept      4.6251      0.308     15.041      0.000       4.019       5.232\n",
       "Web            0.0544      0.001     39.592      0.000       0.052       0.057\n",
       "Bus_Stop       0.1070      0.008     12.604      0.000       0.090       0.124\n",
       "Newspaper      0.0003      0.006      0.058      0.954      -0.011       0.012\n",
       "==============================================================================\n",
       "Omnibus:                       16.081   Durbin-Watson:                   2.251\n",
       "Prob(Omnibus):                  0.000   Jarque-Bera (JB):               27.655\n",
       "Skew:                          -0.431   Prob(JB):                     9.88e-07\n",
       "Kurtosis:                       4.605   Cond. No.                         454.\n",
       "==============================================================================\n",
       "\n",
       "Notes:\n",
       "[1] Standard Errors assume that the covariance matrix of the errors is correctly specified.\n",
       "\"\"\""
      ]
     },
     "execution_count": 42,
     "metadata": {},
     "output_type": "execute_result"
    }
   ],
   "source": [
    "model=ols(formula='Sales~Web+Bus_Stop+Newspaper',data=ads)\n",
    "model.fit().summary()"
   ]
  },
  {
   "cell_type": "markdown",
   "id": "f1536b5e",
   "metadata": {},
   "source": [
    "The p-value of the F-Statistic for this model is 8.13e-99, which suggests this model is reasonable.\n",
    "\n",
    "The p-values for Web and Bus_Stop are 0.000 and the p-value of Newspaper is 0.954, which suggests this parameter has a small effect in this model and is not suitable as a valid parameter."
   ]
  },
  {
   "cell_type": "code",
   "execution_count": 43,
   "id": "4ac39bf1",
   "metadata": {},
   "outputs": [
    {
     "data": {
      "text/html": [
       "<table class=\"simpletable\">\n",
       "<caption>OLS Regression Results</caption>\n",
       "<tr>\n",
       "  <th>Dep. Variable:</th>          <td>Sales</td>      <th>  R-squared:         </th> <td>   0.914</td> \n",
       "</tr>\n",
       "<tr>\n",
       "  <th>Model:</th>                   <td>OLS</td>       <th>  Adj. R-squared:    </th> <td>   0.913</td> \n",
       "</tr>\n",
       "<tr>\n",
       "  <th>Method:</th>             <td>Least Squares</td>  <th>  F-statistic:       </th> <td>   694.7</td> \n",
       "</tr>\n",
       "<tr>\n",
       "  <th>Date:</th>             <td>Sun, 24 Apr 2022</td> <th>  Prob (F-statistic):</th> <td>3.90e-104</td>\n",
       "</tr>\n",
       "<tr>\n",
       "  <th>Time:</th>                 <td>15:40:55</td>     <th>  Log-Likelihood:    </th> <td> -370.83</td> \n",
       "</tr>\n",
       "<tr>\n",
       "  <th>No. Observations:</th>      <td>   200</td>      <th>  AIC:               </th> <td>   749.7</td> \n",
       "</tr>\n",
       "<tr>\n",
       "  <th>Df Residuals:</th>          <td>   196</td>      <th>  BIC:               </th> <td>   762.9</td> \n",
       "</tr>\n",
       "<tr>\n",
       "  <th>Df Model:</th>              <td>     3</td>      <th>                     </th>     <td> </td>    \n",
       "</tr>\n",
       "<tr>\n",
       "  <th>Covariance Type:</th>      <td>nonrobust</td>    <th>                     </th>     <td> </td>    \n",
       "</tr>\n",
       "</table>\n",
       "<table class=\"simpletable\">\n",
       "<tr>\n",
       "        <td></td>          <th>coef</th>     <th>std err</th>      <th>t</th>      <th>P>|t|</th>  <th>[0.025</th>    <th>0.975]</th>  \n",
       "</tr>\n",
       "<tr>\n",
       "  <th>Intercept</th>    <td>    6.1926</td> <td>    0.410</td> <td>   15.101</td> <td> 0.000</td> <td>    5.384</td> <td>    7.001</td>\n",
       "</tr>\n",
       "<tr>\n",
       "  <th>Web</th>          <td>    0.0436</td> <td>    0.002</td> <td>   17.512</td> <td> 0.000</td> <td>    0.039</td> <td>    0.048</td>\n",
       "</tr>\n",
       "<tr>\n",
       "  <th>Bus_Stop</th>     <td>    0.0423</td> <td>    0.015</td> <td>    2.869</td> <td> 0.005</td> <td>    0.013</td> <td>    0.071</td>\n",
       "</tr>\n",
       "<tr>\n",
       "  <th>Web:Bus_Stop</th> <td>    0.0004</td> <td> 8.67e-05</td> <td>    5.110</td> <td> 0.000</td> <td>    0.000</td> <td>    0.001</td>\n",
       "</tr>\n",
       "</table>\n",
       "<table class=\"simpletable\">\n",
       "<tr>\n",
       "  <th>Omnibus:</th>       <td> 8.006</td> <th>  Durbin-Watson:     </th> <td>   2.295</td>\n",
       "</tr>\n",
       "<tr>\n",
       "  <th>Prob(Omnibus):</th> <td> 0.018</td> <th>  Jarque-Bera (JB):  </th> <td>  10.847</td>\n",
       "</tr>\n",
       "<tr>\n",
       "  <th>Skew:</th>          <td>-0.258</td> <th>  Prob(JB):          </th> <td> 0.00441</td>\n",
       "</tr>\n",
       "<tr>\n",
       "  <th>Kurtosis:</th>      <td> 4.017</td> <th>  Cond. No.          </th> <td>1.80e+04</td>\n",
       "</tr>\n",
       "</table><br/><br/>Notes:<br/>[1] Standard Errors assume that the covariance matrix of the errors is correctly specified.<br/>[2] The condition number is large, 1.8e+04. This might indicate that there are<br/>strong multicollinearity or other numerical problems."
      ],
      "text/plain": [
       "<class 'statsmodels.iolib.summary.Summary'>\n",
       "\"\"\"\n",
       "                            OLS Regression Results                            \n",
       "==============================================================================\n",
       "Dep. Variable:                  Sales   R-squared:                       0.914\n",
       "Model:                            OLS   Adj. R-squared:                  0.913\n",
       "Method:                 Least Squares   F-statistic:                     694.7\n",
       "Date:                Sun, 24 Apr 2022   Prob (F-statistic):          3.90e-104\n",
       "Time:                        15:40:55   Log-Likelihood:                -370.83\n",
       "No. Observations:                 200   AIC:                             749.7\n",
       "Df Residuals:                     196   BIC:                             762.9\n",
       "Df Model:                           3                                         \n",
       "Covariance Type:            nonrobust                                         \n",
       "================================================================================\n",
       "                   coef    std err          t      P>|t|      [0.025      0.975]\n",
       "--------------------------------------------------------------------------------\n",
       "Intercept        6.1926      0.410     15.101      0.000       5.384       7.001\n",
       "Web              0.0436      0.002     17.512      0.000       0.039       0.048\n",
       "Bus_Stop         0.0423      0.015      2.869      0.005       0.013       0.071\n",
       "Web:Bus_Stop     0.0004   8.67e-05      5.110      0.000       0.000       0.001\n",
       "==============================================================================\n",
       "Omnibus:                        8.006   Durbin-Watson:                   2.295\n",
       "Prob(Omnibus):                  0.018   Jarque-Bera (JB):               10.847\n",
       "Skew:                          -0.258   Prob(JB):                      0.00441\n",
       "Kurtosis:                       4.017   Cond. No.                     1.80e+04\n",
       "==============================================================================\n",
       "\n",
       "Notes:\n",
       "[1] Standard Errors assume that the covariance matrix of the errors is correctly specified.\n",
       "[2] The condition number is large, 1.8e+04. This might indicate that there are\n",
       "strong multicollinearity or other numerical problems.\n",
       "\"\"\""
      ]
     },
     "execution_count": 43,
     "metadata": {},
     "output_type": "execute_result"
    }
   ],
   "source": [
    "model2=ols(formula='Sales~Web+Bus_Stop+Web:Bus_Stop',data=ads)\n",
    "model2.fit().summary()"
   ]
  },
  {
   "cell_type": "markdown",
   "id": "3885835e",
   "metadata": {},
   "source": [
    "The p-values for each of these predictors are very low, all lower than 0.05. This is a more reasonable model."
   ]
  },
  {
   "cell_type": "markdown",
   "id": "2d4ff508",
   "metadata": {},
   "source": [
    "#### Demonstrate what your model would predict for a marketer using 100 units of web ad spending and 100 units of bus stop ad spending. What sales outcome should this marketer expect to see?"
   ]
  },
  {
   "cell_type": "code",
   "execution_count": 44,
   "id": "a3caab03",
   "metadata": {},
   "outputs": [
    {
     "data": {
      "text/plain": [
       "18.7826"
      ]
     },
     "execution_count": 44,
     "metadata": {},
     "output_type": "execute_result"
    }
   ],
   "source": [
    "sales=6.1926+0.0436*100+0.0423*100+0.0004*100*100\n",
    "sales"
   ]
  },
  {
   "cell_type": "markdown",
   "id": "6f21a22b",
   "metadata": {},
   "source": [
    "Using 100 units of web ad spending and 100 units of bus stop ad spending, my model will return 18.7826 for sales.\n",
    "\n",
    "In this model, the coefficient between Bus_Stop and Web is small. This means that the ads at bus stop and the ads on websites could reach different customer group. The interaction between them then is low. Thus spending money on bus stop ads and website ads will affect different groups of customer and worth it to some extent."
   ]
  },
  {
   "cell_type": "markdown",
   "id": "c5e040e4",
   "metadata": {},
   "source": [
    "#### In a 3-5 sentence paragraph describe what you found (or invented). What are the variables that make up this interaction? Is the effect of their interaction on the outcome positive, or negative? How do you feel about the interaction? Does it make sense to you? Or does it surprise you?"
   ]
  },
  {
   "cell_type": "markdown",
   "id": "07633f7e",
   "metadata": {},
   "source": [
    "Interaction occurs when an independent variable has a different effect on the outcome depending on the values of another independent variable. If term is statistically significant (associated with a p-value < 0.05), then we can use it.\n",
    "\n",
    "For example, we want to know about the height of a shrub based on the amount of bacteria in the soil and whether the shrub is located in partial or full sun. The condition of sun and bacteria are independent variables to dependent variable of height.One possibility is that in full sun plants with more bacteria in the soil tend to be taller. But in partial sun plants with more bacteria in the soil are shorter. Another is that plants with more bacteria in the soil tend to be taller in both full and partial sun. But the relationship is much more dramatic in full than in partial sun. Knowing the interaction helps us consider situations more wisely and fully."
   ]
  }
 ],
 "metadata": {
  "kernelspec": {
   "display_name": "Python 3 (ipykernel)",
   "language": "python",
   "name": "python3"
  },
  "language_info": {
   "codemirror_mode": {
    "name": "ipython",
    "version": 3
   },
   "file_extension": ".py",
   "mimetype": "text/x-python",
   "name": "python",
   "nbconvert_exporter": "python",
   "pygments_lexer": "ipython3",
   "version": "3.9.7"
  }
 },
 "nbformat": 4,
 "nbformat_minor": 5
}
