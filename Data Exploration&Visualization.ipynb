{
 "cells": [
  {
   "cell_type": "code",
   "execution_count": 1,
   "id": "37f790b2",
   "metadata": {},
   "outputs": [],
   "source": [
    "import pandas as pd\n",
    "import seaborn as sns\n",
    "import numpy as py\n",
    "import matplotlib.pyplot as plt\n",
    "%matplotlib inline"
   ]
  },
  {
   "cell_type": "markdown",
   "id": "b057ac82",
   "metadata": {},
   "source": [
    "Question 1-A: Call the head() function on this dataframe and look at your results"
   ]
  },
  {
   "cell_type": "code",
   "execution_count": 2,
   "id": "7b523032",
   "metadata": {
    "scrolled": false
   },
   "outputs": [
    {
     "data": {
      "text/html": [
       "<div>\n",
       "<style scoped>\n",
       "    .dataframe tbody tr th:only-of-type {\n",
       "        vertical-align: middle;\n",
       "    }\n",
       "\n",
       "    .dataframe tbody tr th {\n",
       "        vertical-align: top;\n",
       "    }\n",
       "\n",
       "    .dataframe thead th {\n",
       "        text-align: right;\n",
       "    }\n",
       "</style>\n",
       "<table border=\"1\" class=\"dataframe\">\n",
       "  <thead>\n",
       "    <tr style=\"text-align: right;\">\n",
       "      <th></th>\n",
       "      <th>visitor</th>\n",
       "      <th>day_pass</th>\n",
       "      <th>season_ticket</th>\n",
       "      <th>domestic</th>\n",
       "      <th>state</th>\n",
       "      <th>country</th>\n",
       "      <th>gender</th>\n",
       "      <th>age</th>\n",
       "      <th>maine_res</th>\n",
       "      <th>stay_four</th>\n",
       "      <th>payment_method</th>\n",
       "      <th>ice_cream_purch</th>\n",
       "      <th>ice_cream_flavor</th>\n",
       "      <th>sky_chair</th>\n",
       "      <th>ferris_wheel</th>\n",
       "      <th>lobster_claw</th>\n",
       "      <th>lobster_junior</th>\n",
       "      <th>merch_spend</th>\n",
       "      <th>lobsterama_spend</th>\n",
       "    </tr>\n",
       "  </thead>\n",
       "  <tbody>\n",
       "    <tr>\n",
       "      <th>0</th>\n",
       "      <td>1</td>\n",
       "      <td>1</td>\n",
       "      <td>No</td>\n",
       "      <td>1</td>\n",
       "      <td>NY</td>\n",
       "      <td>USA</td>\n",
       "      <td>0</td>\n",
       "      <td>32</td>\n",
       "      <td>No</td>\n",
       "      <td>1</td>\n",
       "      <td>0</td>\n",
       "      <td>1</td>\n",
       "      <td>Vanilla</td>\n",
       "      <td>1</td>\n",
       "      <td>0</td>\n",
       "      <td>0</td>\n",
       "      <td>1</td>\n",
       "      <td>34.529611</td>\n",
       "      <td>24.95</td>\n",
       "    </tr>\n",
       "    <tr>\n",
       "      <th>1</th>\n",
       "      <td>2</td>\n",
       "      <td>0</td>\n",
       "      <td>Yes</td>\n",
       "      <td>1</td>\n",
       "      <td>Other</td>\n",
       "      <td>USA</td>\n",
       "      <td>1</td>\n",
       "      <td>43</td>\n",
       "      <td>No</td>\n",
       "      <td>1</td>\n",
       "      <td>0</td>\n",
       "      <td>1</td>\n",
       "      <td>Chocolate</td>\n",
       "      <td>0</td>\n",
       "      <td>0</td>\n",
       "      <td>1</td>\n",
       "      <td>0</td>\n",
       "      <td>23.811135</td>\n",
       "      <td>16.58</td>\n",
       "    </tr>\n",
       "    <tr>\n",
       "      <th>2</th>\n",
       "      <td>3</td>\n",
       "      <td>1</td>\n",
       "      <td>No</td>\n",
       "      <td>1</td>\n",
       "      <td>ME</td>\n",
       "      <td>USA</td>\n",
       "      <td>1</td>\n",
       "      <td>28</td>\n",
       "      <td>Yes</td>\n",
       "      <td>1</td>\n",
       "      <td>0</td>\n",
       "      <td>0</td>\n",
       "      <td>None</td>\n",
       "      <td>1</td>\n",
       "      <td>1</td>\n",
       "      <td>0</td>\n",
       "      <td>1</td>\n",
       "      <td>49.231936</td>\n",
       "      <td>29.94</td>\n",
       "    </tr>\n",
       "    <tr>\n",
       "      <th>3</th>\n",
       "      <td>4</td>\n",
       "      <td>0</td>\n",
       "      <td>Yes</td>\n",
       "      <td>1</td>\n",
       "      <td>NH</td>\n",
       "      <td>USA</td>\n",
       "      <td>1</td>\n",
       "      <td>35</td>\n",
       "      <td>No</td>\n",
       "      <td>0</td>\n",
       "      <td>0</td>\n",
       "      <td>0</td>\n",
       "      <td>None</td>\n",
       "      <td>0</td>\n",
       "      <td>1</td>\n",
       "      <td>1</td>\n",
       "      <td>0</td>\n",
       "      <td>55.508722</td>\n",
       "      <td>49.95</td>\n",
       "    </tr>\n",
       "    <tr>\n",
       "      <th>4</th>\n",
       "      <td>5</td>\n",
       "      <td>1</td>\n",
       "      <td>No</td>\n",
       "      <td>0</td>\n",
       "      <td>NaN</td>\n",
       "      <td>MEX</td>\n",
       "      <td>1</td>\n",
       "      <td>44</td>\n",
       "      <td>No</td>\n",
       "      <td>1</td>\n",
       "      <td>0</td>\n",
       "      <td>1</td>\n",
       "      <td>Vanilla</td>\n",
       "      <td>0</td>\n",
       "      <td>1</td>\n",
       "      <td>0</td>\n",
       "      <td>0</td>\n",
       "      <td>61.019885</td>\n",
       "      <td>36.62</td>\n",
       "    </tr>\n",
       "  </tbody>\n",
       "</table>\n",
       "</div>"
      ],
      "text/plain": [
       "   visitor  day_pass season_ticket  domestic  state country  gender  age  \\\n",
       "0        1         1            No         1     NY     USA       0   32   \n",
       "1        2         0           Yes         1  Other     USA       1   43   \n",
       "2        3         1            No         1     ME     USA       1   28   \n",
       "3        4         0           Yes         1     NH     USA       1   35   \n",
       "4        5         1            No         0    NaN     MEX       1   44   \n",
       "\n",
       "  maine_res  stay_four  payment_method  ice_cream_purch ice_cream_flavor  \\\n",
       "0        No          1               0                1          Vanilla   \n",
       "1        No          1               0                1        Chocolate   \n",
       "2       Yes          1               0                0             None   \n",
       "3        No          0               0                0             None   \n",
       "4        No          1               0                1          Vanilla   \n",
       "\n",
       "   sky_chair  ferris_wheel  lobster_claw  lobster_junior  merch_spend  \\\n",
       "0          1             0             0               1    34.529611   \n",
       "1          0             0             1               0    23.811135   \n",
       "2          1             1             0               1    49.231936   \n",
       "3          0             1             1               0    55.508722   \n",
       "4          0             1             0               0    61.019885   \n",
       "\n",
       "   lobsterama_spend  \n",
       "0             24.95  \n",
       "1             16.58  \n",
       "2             29.94  \n",
       "3             49.95  \n",
       "4             36.62  "
      ]
     },
     "execution_count": 2,
     "metadata": {},
     "output_type": "execute_result"
    }
   ],
   "source": [
    "july4=pd.read_csv(\"july4_snapshot.csv\")\n",
    "july4.head()"
   ]
  },
  {
   "cell_type": "markdown",
   "id": "42fdff9f",
   "metadata": {},
   "source": [
    "Question 1-B: How many rows of the dataset are visible in Jupyter now?\n",
    "5 rows are visible in jupyter now"
   ]
  },
  {
   "cell_type": "markdown",
   "id": "e6faa8e3",
   "metadata": {},
   "source": [
    "Question 1-C: Take a look at the dataset’s shape attribute.\n",
    "a. How many rows, and how many columns, are in this entire dataframe?"
   ]
  },
  {
   "cell_type": "code",
   "execution_count": 3,
   "id": "8e0cedda",
   "metadata": {},
   "outputs": [
    {
     "name": "stdout",
     "output_type": "stream",
     "text": [
      "<class 'pandas.core.frame.DataFrame'>\n",
      "RangeIndex: 5216 entries, 0 to 5215\n",
      "Data columns (total 19 columns):\n",
      " #   Column            Non-Null Count  Dtype  \n",
      "---  ------            --------------  -----  \n",
      " 0   visitor           5216 non-null   int64  \n",
      " 1   day_pass          5216 non-null   int64  \n",
      " 2   season_ticket     5216 non-null   object \n",
      " 3   domestic          5216 non-null   int64  \n",
      " 4   state             4127 non-null   object \n",
      " 5   country           5160 non-null   object \n",
      " 6   gender            5216 non-null   int64  \n",
      " 7   age               5216 non-null   int64  \n",
      " 8   maine_res         5216 non-null   object \n",
      " 9   stay_four         5216 non-null   int64  \n",
      " 10  payment_method    5216 non-null   int64  \n",
      " 11  ice_cream_purch   5216 non-null   int64  \n",
      " 12  ice_cream_flavor  5216 non-null   object \n",
      " 13  sky_chair         5216 non-null   int64  \n",
      " 14  ferris_wheel      5216 non-null   int64  \n",
      " 15  lobster_claw      5216 non-null   int64  \n",
      " 16  lobster_junior    5216 non-null   int64  \n",
      " 17  merch_spend       5216 non-null   float64\n",
      " 18  lobsterama_spend  5216 non-null   float64\n",
      "dtypes: float64(2), int64(12), object(5)\n",
      "memory usage: 774.4+ KB\n"
     ]
    }
   ],
   "source": [
    "july4.info()"
   ]
  },
  {
   "cell_type": "markdown",
   "id": "d7840981",
   "metadata": {},
   "source": [
    "5216 rows and 19 columns"
   ]
  },
  {
   "cell_type": "markdown",
   "id": "2a6fff7a",
   "metadata": {},
   "source": [
    "Question 1-D: Read the dataset description, and take a look at the variables in the dataset.\n",
    "a. Which of your variables should be seen as categorical, and which ones should be seen as numeric?\n",
    "\n",
    "\n",
    "As seen above, visitors, age,merch_spend,lobsterama_spend should been as numeric, the rest of other variables should be seen as categorical."
   ]
  },
  {
   "cell_type": "markdown",
   "id": "163b499c",
   "metadata": {},
   "source": [
    "Question 1-E: Lobsterland has two monetary-related variables in this dataset. One of them has too many decimal places! This was caused by an issue with Lobster Land’s software system. Using Python, round that variable’s values to just two digits."
   ]
  },
  {
   "cell_type": "code",
   "execution_count": 4,
   "id": "e71a328d",
   "metadata": {},
   "outputs": [
    {
     "data": {
      "text/html": [
       "<div>\n",
       "<style scoped>\n",
       "    .dataframe tbody tr th:only-of-type {\n",
       "        vertical-align: middle;\n",
       "    }\n",
       "\n",
       "    .dataframe tbody tr th {\n",
       "        vertical-align: top;\n",
       "    }\n",
       "\n",
       "    .dataframe thead th {\n",
       "        text-align: right;\n",
       "    }\n",
       "</style>\n",
       "<table border=\"1\" class=\"dataframe\">\n",
       "  <thead>\n",
       "    <tr style=\"text-align: right;\">\n",
       "      <th></th>\n",
       "      <th>visitor</th>\n",
       "      <th>day_pass</th>\n",
       "      <th>season_ticket</th>\n",
       "      <th>domestic</th>\n",
       "      <th>state</th>\n",
       "      <th>country</th>\n",
       "      <th>gender</th>\n",
       "      <th>age</th>\n",
       "      <th>maine_res</th>\n",
       "      <th>stay_four</th>\n",
       "      <th>payment_method</th>\n",
       "      <th>ice_cream_purch</th>\n",
       "      <th>ice_cream_flavor</th>\n",
       "      <th>sky_chair</th>\n",
       "      <th>ferris_wheel</th>\n",
       "      <th>lobster_claw</th>\n",
       "      <th>lobster_junior</th>\n",
       "      <th>merch_spend</th>\n",
       "      <th>lobsterama_spend</th>\n",
       "    </tr>\n",
       "  </thead>\n",
       "  <tbody>\n",
       "    <tr>\n",
       "      <th>0</th>\n",
       "      <td>1</td>\n",
       "      <td>1</td>\n",
       "      <td>No</td>\n",
       "      <td>1</td>\n",
       "      <td>NY</td>\n",
       "      <td>USA</td>\n",
       "      <td>0</td>\n",
       "      <td>32</td>\n",
       "      <td>No</td>\n",
       "      <td>1</td>\n",
       "      <td>0</td>\n",
       "      <td>1</td>\n",
       "      <td>Vanilla</td>\n",
       "      <td>1</td>\n",
       "      <td>0</td>\n",
       "      <td>0</td>\n",
       "      <td>1</td>\n",
       "      <td>34.53</td>\n",
       "      <td>24.95</td>\n",
       "    </tr>\n",
       "    <tr>\n",
       "      <th>1</th>\n",
       "      <td>2</td>\n",
       "      <td>0</td>\n",
       "      <td>Yes</td>\n",
       "      <td>1</td>\n",
       "      <td>Other</td>\n",
       "      <td>USA</td>\n",
       "      <td>1</td>\n",
       "      <td>43</td>\n",
       "      <td>No</td>\n",
       "      <td>1</td>\n",
       "      <td>0</td>\n",
       "      <td>1</td>\n",
       "      <td>Chocolate</td>\n",
       "      <td>0</td>\n",
       "      <td>0</td>\n",
       "      <td>1</td>\n",
       "      <td>0</td>\n",
       "      <td>23.81</td>\n",
       "      <td>16.58</td>\n",
       "    </tr>\n",
       "    <tr>\n",
       "      <th>2</th>\n",
       "      <td>3</td>\n",
       "      <td>1</td>\n",
       "      <td>No</td>\n",
       "      <td>1</td>\n",
       "      <td>ME</td>\n",
       "      <td>USA</td>\n",
       "      <td>1</td>\n",
       "      <td>28</td>\n",
       "      <td>Yes</td>\n",
       "      <td>1</td>\n",
       "      <td>0</td>\n",
       "      <td>0</td>\n",
       "      <td>None</td>\n",
       "      <td>1</td>\n",
       "      <td>1</td>\n",
       "      <td>0</td>\n",
       "      <td>1</td>\n",
       "      <td>49.23</td>\n",
       "      <td>29.94</td>\n",
       "    </tr>\n",
       "    <tr>\n",
       "      <th>3</th>\n",
       "      <td>4</td>\n",
       "      <td>0</td>\n",
       "      <td>Yes</td>\n",
       "      <td>1</td>\n",
       "      <td>NH</td>\n",
       "      <td>USA</td>\n",
       "      <td>1</td>\n",
       "      <td>35</td>\n",
       "      <td>No</td>\n",
       "      <td>0</td>\n",
       "      <td>0</td>\n",
       "      <td>0</td>\n",
       "      <td>None</td>\n",
       "      <td>0</td>\n",
       "      <td>1</td>\n",
       "      <td>1</td>\n",
       "      <td>0</td>\n",
       "      <td>55.51</td>\n",
       "      <td>49.95</td>\n",
       "    </tr>\n",
       "    <tr>\n",
       "      <th>4</th>\n",
       "      <td>5</td>\n",
       "      <td>1</td>\n",
       "      <td>No</td>\n",
       "      <td>0</td>\n",
       "      <td>NaN</td>\n",
       "      <td>MEX</td>\n",
       "      <td>1</td>\n",
       "      <td>44</td>\n",
       "      <td>No</td>\n",
       "      <td>1</td>\n",
       "      <td>0</td>\n",
       "      <td>1</td>\n",
       "      <td>Vanilla</td>\n",
       "      <td>0</td>\n",
       "      <td>1</td>\n",
       "      <td>0</td>\n",
       "      <td>0</td>\n",
       "      <td>61.02</td>\n",
       "      <td>36.62</td>\n",
       "    </tr>\n",
       "  </tbody>\n",
       "</table>\n",
       "</div>"
      ],
      "text/plain": [
       "   visitor  day_pass season_ticket  domestic  state country  gender  age  \\\n",
       "0        1         1            No         1     NY     USA       0   32   \n",
       "1        2         0           Yes         1  Other     USA       1   43   \n",
       "2        3         1            No         1     ME     USA       1   28   \n",
       "3        4         0           Yes         1     NH     USA       1   35   \n",
       "4        5         1            No         0    NaN     MEX       1   44   \n",
       "\n",
       "  maine_res  stay_four  payment_method  ice_cream_purch ice_cream_flavor  \\\n",
       "0        No          1               0                1          Vanilla   \n",
       "1        No          1               0                1        Chocolate   \n",
       "2       Yes          1               0                0             None   \n",
       "3        No          0               0                0             None   \n",
       "4        No          1               0                1          Vanilla   \n",
       "\n",
       "   sky_chair  ferris_wheel  lobster_claw  lobster_junior  merch_spend  \\\n",
       "0          1             0             0               1        34.53   \n",
       "1          0             0             1               0        23.81   \n",
       "2          1             1             0               1        49.23   \n",
       "3          0             1             1               0        55.51   \n",
       "4          0             1             0               0        61.02   \n",
       "\n",
       "   lobsterama_spend  \n",
       "0             24.95  \n",
       "1             16.58  \n",
       "2             29.94  \n",
       "3             49.95  \n",
       "4             36.62  "
      ]
     },
     "execution_count": 4,
     "metadata": {},
     "output_type": "execute_result"
    }
   ],
   "source": [
    "merch_spend1=july4.merch_spend.round(2)\n",
    "july4[\"merch_spend\"]=merch_spend1\n",
    "july4.head()"
   ]
  },
  {
   "cell_type": "markdown",
   "id": "82dcbd0f",
   "metadata": {},
   "source": [
    "Question 1-F:Are there any missing values in this dataset? If so, how many total values are missing? "
   ]
  },
  {
   "cell_type": "code",
   "execution_count": 5,
   "id": "8bf3f0d9",
   "metadata": {},
   "outputs": [
    {
     "data": {
      "text/plain": [
       "visitor                0\n",
       "day_pass               0\n",
       "season_ticket          0\n",
       "domestic               0\n",
       "state               1089\n",
       "country               56\n",
       "gender                 0\n",
       "age                    0\n",
       "maine_res              0\n",
       "stay_four              0\n",
       "payment_method         0\n",
       "ice_cream_purch        0\n",
       "ice_cream_flavor       0\n",
       "sky_chair              0\n",
       "ferris_wheel           0\n",
       "lobster_claw           0\n",
       "lobster_junior         0\n",
       "merch_spend            0\n",
       "lobsterama_spend       0\n",
       "dtype: int64"
      ]
     },
     "execution_count": 5,
     "metadata": {},
     "output_type": "execute_result"
    }
   ],
   "source": [
    "july4.isnull().sum()\n",
    "#july4.isnull()"
   ]
  },
  {
   "cell_type": "markdown",
   "id": "bc1dbf5e",
   "metadata": {},
   "source": [
    "1089+56=1145/ There are total missing values in this dataset."
   ]
  },
  {
   "cell_type": "markdown",
   "id": "c4c960d8",
   "metadata": {},
   "source": [
    "Question 1-F: a:Make a separate subset of the dataframe that only includes the rows that have NaN values for ‘state’. What important thing do they all have in common, which helps to explain why there are NaN values for these rows?"
   ]
  },
  {
   "cell_type": "code",
   "execution_count": 6,
   "id": "e7fe6e14",
   "metadata": {},
   "outputs": [],
   "source": [
    "pd.set_option('display.max.rows',None) "
   ]
  },
  {
   "cell_type": "code",
   "execution_count": 7,
   "id": "c93dfe2a",
   "metadata": {},
   "outputs": [
    {
     "name": "stdout",
     "output_type": "stream",
     "text": [
      "<class 'pandas.core.frame.DataFrame'>\n",
      "Int64Index: 1089 entries, 4 to 5212\n",
      "Data columns (total 19 columns):\n",
      " #   Column            Non-Null Count  Dtype  \n",
      "---  ------            --------------  -----  \n",
      " 0   visitor           1089 non-null   int64  \n",
      " 1   day_pass          1089 non-null   int64  \n",
      " 2   season_ticket     1089 non-null   object \n",
      " 3   domestic          1089 non-null   int64  \n",
      " 4   state             0 non-null      object \n",
      " 5   country           1033 non-null   object \n",
      " 6   gender            1089 non-null   int64  \n",
      " 7   age               1089 non-null   int64  \n",
      " 8   maine_res         1089 non-null   object \n",
      " 9   stay_four         1089 non-null   int64  \n",
      " 10  payment_method    1089 non-null   int64  \n",
      " 11  ice_cream_purch   1089 non-null   int64  \n",
      " 12  ice_cream_flavor  1089 non-null   object \n",
      " 13  sky_chair         1089 non-null   int64  \n",
      " 14  ferris_wheel      1089 non-null   int64  \n",
      " 15  lobster_claw      1089 non-null   int64  \n",
      " 16  lobster_junior    1089 non-null   int64  \n",
      " 17  merch_spend       1089 non-null   float64\n",
      " 18  lobsterama_spend  1089 non-null   float64\n",
      "dtypes: float64(2), int64(12), object(5)\n",
      "memory usage: 170.2+ KB\n"
     ]
    },
    {
     "data": {
      "text/html": [
       "<div>\n",
       "<style scoped>\n",
       "    .dataframe tbody tr th:only-of-type {\n",
       "        vertical-align: middle;\n",
       "    }\n",
       "\n",
       "    .dataframe tbody tr th {\n",
       "        vertical-align: top;\n",
       "    }\n",
       "\n",
       "    .dataframe thead th {\n",
       "        text-align: right;\n",
       "    }\n",
       "</style>\n",
       "<table border=\"1\" class=\"dataframe\">\n",
       "  <thead>\n",
       "    <tr style=\"text-align: right;\">\n",
       "      <th></th>\n",
       "      <th>visitor</th>\n",
       "      <th>day_pass</th>\n",
       "      <th>season_ticket</th>\n",
       "      <th>domestic</th>\n",
       "      <th>state</th>\n",
       "      <th>country</th>\n",
       "      <th>gender</th>\n",
       "      <th>age</th>\n",
       "      <th>maine_res</th>\n",
       "      <th>stay_four</th>\n",
       "      <th>payment_method</th>\n",
       "      <th>ice_cream_purch</th>\n",
       "      <th>ice_cream_flavor</th>\n",
       "      <th>sky_chair</th>\n",
       "      <th>ferris_wheel</th>\n",
       "      <th>lobster_claw</th>\n",
       "      <th>lobster_junior</th>\n",
       "      <th>merch_spend</th>\n",
       "      <th>lobsterama_spend</th>\n",
       "    </tr>\n",
       "  </thead>\n",
       "  <tbody>\n",
       "    <tr>\n",
       "      <th>4</th>\n",
       "      <td>5</td>\n",
       "      <td>1</td>\n",
       "      <td>No</td>\n",
       "      <td>0</td>\n",
       "      <td>NaN</td>\n",
       "      <td>MEX</td>\n",
       "      <td>1</td>\n",
       "      <td>44</td>\n",
       "      <td>No</td>\n",
       "      <td>1</td>\n",
       "      <td>0</td>\n",
       "      <td>1</td>\n",
       "      <td>Vanilla</td>\n",
       "      <td>0</td>\n",
       "      <td>1</td>\n",
       "      <td>0</td>\n",
       "      <td>0</td>\n",
       "      <td>61.02</td>\n",
       "      <td>36.62</td>\n",
       "    </tr>\n",
       "    <tr>\n",
       "      <th>10</th>\n",
       "      <td>11</td>\n",
       "      <td>1</td>\n",
       "      <td>No</td>\n",
       "      <td>0</td>\n",
       "      <td>NaN</td>\n",
       "      <td>CAN</td>\n",
       "      <td>1</td>\n",
       "      <td>37</td>\n",
       "      <td>No</td>\n",
       "      <td>1</td>\n",
       "      <td>0</td>\n",
       "      <td>1</td>\n",
       "      <td>Vanilla</td>\n",
       "      <td>0</td>\n",
       "      <td>0</td>\n",
       "      <td>0</td>\n",
       "      <td>0</td>\n",
       "      <td>67.39</td>\n",
       "      <td>35.51</td>\n",
       "    </tr>\n",
       "    <tr>\n",
       "      <th>12</th>\n",
       "      <td>13</td>\n",
       "      <td>1</td>\n",
       "      <td>No</td>\n",
       "      <td>0</td>\n",
       "      <td>NaN</td>\n",
       "      <td>CHN</td>\n",
       "      <td>1</td>\n",
       "      <td>38</td>\n",
       "      <td>No</td>\n",
       "      <td>1</td>\n",
       "      <td>0</td>\n",
       "      <td>0</td>\n",
       "      <td>None</td>\n",
       "      <td>1</td>\n",
       "      <td>1</td>\n",
       "      <td>1</td>\n",
       "      <td>1</td>\n",
       "      <td>58.12</td>\n",
       "      <td>30.27</td>\n",
       "    </tr>\n",
       "    <tr>\n",
       "      <th>14</th>\n",
       "      <td>15</td>\n",
       "      <td>1</td>\n",
       "      <td>No</td>\n",
       "      <td>0</td>\n",
       "      <td>NaN</td>\n",
       "      <td>BRA</td>\n",
       "      <td>1</td>\n",
       "      <td>40</td>\n",
       "      <td>No</td>\n",
       "      <td>1</td>\n",
       "      <td>0</td>\n",
       "      <td>1</td>\n",
       "      <td>Vanilla</td>\n",
       "      <td>1</td>\n",
       "      <td>1</td>\n",
       "      <td>1</td>\n",
       "      <td>0</td>\n",
       "      <td>49.35</td>\n",
       "      <td>28.40</td>\n",
       "    </tr>\n",
       "    <tr>\n",
       "      <th>17</th>\n",
       "      <td>18</td>\n",
       "      <td>1</td>\n",
       "      <td>No</td>\n",
       "      <td>0</td>\n",
       "      <td>NaN</td>\n",
       "      <td>CAN</td>\n",
       "      <td>0</td>\n",
       "      <td>31</td>\n",
       "      <td>No</td>\n",
       "      <td>1</td>\n",
       "      <td>0</td>\n",
       "      <td>1</td>\n",
       "      <td>Chocolate</td>\n",
       "      <td>1</td>\n",
       "      <td>0</td>\n",
       "      <td>1</td>\n",
       "      <td>1</td>\n",
       "      <td>58.28</td>\n",
       "      <td>29.02</td>\n",
       "    </tr>\n",
       "  </tbody>\n",
       "</table>\n",
       "</div>"
      ],
      "text/plain": [
       "    visitor  day_pass season_ticket  domestic state country  gender  age  \\\n",
       "4         5         1            No         0   NaN     MEX       1   44   \n",
       "10       11         1            No         0   NaN     CAN       1   37   \n",
       "12       13         1            No         0   NaN     CHN       1   38   \n",
       "14       15         1            No         0   NaN     BRA       1   40   \n",
       "17       18         1            No         0   NaN     CAN       0   31   \n",
       "\n",
       "   maine_res  stay_four  payment_method  ice_cream_purch ice_cream_flavor  \\\n",
       "4         No          1               0                1          Vanilla   \n",
       "10        No          1               0                1          Vanilla   \n",
       "12        No          1               0                0             None   \n",
       "14        No          1               0                1          Vanilla   \n",
       "17        No          1               0                1        Chocolate   \n",
       "\n",
       "    sky_chair  ferris_wheel  lobster_claw  lobster_junior  merch_spend  \\\n",
       "4           0             1             0               0        61.02   \n",
       "10          0             0             0               0        67.39   \n",
       "12          1             1             1               1        58.12   \n",
       "14          1             1             1               0        49.35   \n",
       "17          1             0             1               1        58.28   \n",
       "\n",
       "    lobsterama_spend  \n",
       "4              36.62  \n",
       "10             35.51  \n",
       "12             30.27  \n",
       "14             28.40  \n",
       "17             29.02  "
      ]
     },
     "execution_count": 7,
     "metadata": {},
     "output_type": "execute_result"
    }
   ],
   "source": [
    "NaN_value=july4[july4['state'].isna()]\n",
    "NaN_value.info()\n",
    "NaN_value.head()"
   ]
  },
  {
   "cell_type": "markdown",
   "id": "556e44d8",
   "metadata": {},
   "source": [
    "The country in these rows are Mexico, Canada and etc. They are not USA, so they do not have state within USA. That is why the state are all NaN values for these rows."
   ]
  },
  {
   "cell_type": "markdown",
   "id": "071137a3",
   "metadata": {},
   "source": [
    "Question 1-G: \n",
    "\n",
    "We just received an update from the Lobsterland front ticket office.\n",
    "Apparently, some guests’ age were mistakenly copied down at the time\n",
    "that their tickets were purchased. The youngest age of any guest who\n",
    "purchased a ticket on July 4th was 16. Alter the dataframe so that any\n",
    "guest age currently less than 16 becomes 16."
   ]
  },
  {
   "cell_type": "code",
   "execution_count": 8,
   "id": "3f1a5308",
   "metadata": {},
   "outputs": [
    {
     "data": {
      "text/html": [
       "<div>\n",
       "<style scoped>\n",
       "    .dataframe tbody tr th:only-of-type {\n",
       "        vertical-align: middle;\n",
       "    }\n",
       "\n",
       "    .dataframe tbody tr th {\n",
       "        vertical-align: top;\n",
       "    }\n",
       "\n",
       "    .dataframe thead th {\n",
       "        text-align: right;\n",
       "    }\n",
       "</style>\n",
       "<table border=\"1\" class=\"dataframe\">\n",
       "  <thead>\n",
       "    <tr style=\"text-align: right;\">\n",
       "      <th></th>\n",
       "      <th>visitor</th>\n",
       "      <th>day_pass</th>\n",
       "      <th>domestic</th>\n",
       "      <th>gender</th>\n",
       "      <th>age</th>\n",
       "      <th>stay_four</th>\n",
       "      <th>payment_method</th>\n",
       "      <th>ice_cream_purch</th>\n",
       "      <th>sky_chair</th>\n",
       "      <th>ferris_wheel</th>\n",
       "      <th>lobster_claw</th>\n",
       "      <th>lobster_junior</th>\n",
       "      <th>merch_spend</th>\n",
       "      <th>lobsterama_spend</th>\n",
       "    </tr>\n",
       "  </thead>\n",
       "  <tbody>\n",
       "    <tr>\n",
       "      <th>count</th>\n",
       "      <td>5216.000000</td>\n",
       "      <td>5216.000000</td>\n",
       "      <td>5216.000000</td>\n",
       "      <td>5216.000000</td>\n",
       "      <td>5216.000000</td>\n",
       "      <td>5216.000000</td>\n",
       "      <td>5216.000000</td>\n",
       "      <td>5216.000000</td>\n",
       "      <td>5216.000000</td>\n",
       "      <td>5216.000000</td>\n",
       "      <td>5216.000000</td>\n",
       "      <td>5216.000000</td>\n",
       "      <td>5216.000000</td>\n",
       "      <td>5216.000000</td>\n",
       "    </tr>\n",
       "    <tr>\n",
       "      <th>mean</th>\n",
       "      <td>2608.500000</td>\n",
       "      <td>0.622316</td>\n",
       "      <td>0.791219</td>\n",
       "      <td>0.502109</td>\n",
       "      <td>36.302147</td>\n",
       "      <td>0.599310</td>\n",
       "      <td>0.146089</td>\n",
       "      <td>0.312692</td>\n",
       "      <td>0.493098</td>\n",
       "      <td>0.474118</td>\n",
       "      <td>0.277416</td>\n",
       "      <td>0.403374</td>\n",
       "      <td>41.725079</td>\n",
       "      <td>28.722268</td>\n",
       "    </tr>\n",
       "    <tr>\n",
       "      <th>std</th>\n",
       "      <td>1505.873833</td>\n",
       "      <td>0.484854</td>\n",
       "      <td>0.406476</td>\n",
       "      <td>0.500043</td>\n",
       "      <td>6.066898</td>\n",
       "      <td>0.490085</td>\n",
       "      <td>0.353229</td>\n",
       "      <td>0.463634</td>\n",
       "      <td>0.500000</td>\n",
       "      <td>0.499378</td>\n",
       "      <td>0.447766</td>\n",
       "      <td>0.490622</td>\n",
       "      <td>10.829317</td>\n",
       "      <td>10.557965</td>\n",
       "    </tr>\n",
       "    <tr>\n",
       "      <th>min</th>\n",
       "      <td>1.000000</td>\n",
       "      <td>0.000000</td>\n",
       "      <td>0.000000</td>\n",
       "      <td>0.000000</td>\n",
       "      <td>16.000000</td>\n",
       "      <td>0.000000</td>\n",
       "      <td>0.000000</td>\n",
       "      <td>0.000000</td>\n",
       "      <td>0.000000</td>\n",
       "      <td>0.000000</td>\n",
       "      <td>0.000000</td>\n",
       "      <td>0.000000</td>\n",
       "      <td>5.240000</td>\n",
       "      <td>-11.670000</td>\n",
       "    </tr>\n",
       "    <tr>\n",
       "      <th>25%</th>\n",
       "      <td>1304.750000</td>\n",
       "      <td>0.000000</td>\n",
       "      <td>1.000000</td>\n",
       "      <td>0.000000</td>\n",
       "      <td>32.000000</td>\n",
       "      <td>0.000000</td>\n",
       "      <td>0.000000</td>\n",
       "      <td>0.000000</td>\n",
       "      <td>0.000000</td>\n",
       "      <td>0.000000</td>\n",
       "      <td>0.000000</td>\n",
       "      <td>0.000000</td>\n",
       "      <td>34.060000</td>\n",
       "      <td>22.257500</td>\n",
       "    </tr>\n",
       "    <tr>\n",
       "      <th>50%</th>\n",
       "      <td>2608.500000</td>\n",
       "      <td>1.000000</td>\n",
       "      <td>1.000000</td>\n",
       "      <td>1.000000</td>\n",
       "      <td>36.000000</td>\n",
       "      <td>1.000000</td>\n",
       "      <td>0.000000</td>\n",
       "      <td>0.000000</td>\n",
       "      <td>0.000000</td>\n",
       "      <td>0.000000</td>\n",
       "      <td>0.000000</td>\n",
       "      <td>0.000000</td>\n",
       "      <td>40.735000</td>\n",
       "      <td>29.440000</td>\n",
       "    </tr>\n",
       "    <tr>\n",
       "      <th>75%</th>\n",
       "      <td>3912.250000</td>\n",
       "      <td>1.000000</td>\n",
       "      <td>1.000000</td>\n",
       "      <td>1.000000</td>\n",
       "      <td>40.000000</td>\n",
       "      <td>1.000000</td>\n",
       "      <td>0.000000</td>\n",
       "      <td>1.000000</td>\n",
       "      <td>1.000000</td>\n",
       "      <td>1.000000</td>\n",
       "      <td>1.000000</td>\n",
       "      <td>1.000000</td>\n",
       "      <td>48.920000</td>\n",
       "      <td>35.255000</td>\n",
       "    </tr>\n",
       "    <tr>\n",
       "      <th>max</th>\n",
       "      <td>5216.000000</td>\n",
       "      <td>1.000000</td>\n",
       "      <td>1.000000</td>\n",
       "      <td>1.000000</td>\n",
       "      <td>57.000000</td>\n",
       "      <td>1.000000</td>\n",
       "      <td>1.000000</td>\n",
       "      <td>1.000000</td>\n",
       "      <td>1.000000</td>\n",
       "      <td>1.000000</td>\n",
       "      <td>1.000000</td>\n",
       "      <td>1.000000</td>\n",
       "      <td>82.720000</td>\n",
       "      <td>71.900000</td>\n",
       "    </tr>\n",
       "  </tbody>\n",
       "</table>\n",
       "</div>"
      ],
      "text/plain": [
       "           visitor     day_pass     domestic       gender          age  \\\n",
       "count  5216.000000  5216.000000  5216.000000  5216.000000  5216.000000   \n",
       "mean   2608.500000     0.622316     0.791219     0.502109    36.302147   \n",
       "std    1505.873833     0.484854     0.406476     0.500043     6.066898   \n",
       "min       1.000000     0.000000     0.000000     0.000000    16.000000   \n",
       "25%    1304.750000     0.000000     1.000000     0.000000    32.000000   \n",
       "50%    2608.500000     1.000000     1.000000     1.000000    36.000000   \n",
       "75%    3912.250000     1.000000     1.000000     1.000000    40.000000   \n",
       "max    5216.000000     1.000000     1.000000     1.000000    57.000000   \n",
       "\n",
       "         stay_four  payment_method  ice_cream_purch    sky_chair  \\\n",
       "count  5216.000000     5216.000000      5216.000000  5216.000000   \n",
       "mean      0.599310        0.146089         0.312692     0.493098   \n",
       "std       0.490085        0.353229         0.463634     0.500000   \n",
       "min       0.000000        0.000000         0.000000     0.000000   \n",
       "25%       0.000000        0.000000         0.000000     0.000000   \n",
       "50%       1.000000        0.000000         0.000000     0.000000   \n",
       "75%       1.000000        0.000000         1.000000     1.000000   \n",
       "max       1.000000        1.000000         1.000000     1.000000   \n",
       "\n",
       "       ferris_wheel  lobster_claw  lobster_junior  merch_spend  \\\n",
       "count   5216.000000   5216.000000     5216.000000  5216.000000   \n",
       "mean       0.474118      0.277416        0.403374    41.725079   \n",
       "std        0.499378      0.447766        0.490622    10.829317   \n",
       "min        0.000000      0.000000        0.000000     5.240000   \n",
       "25%        0.000000      0.000000        0.000000    34.060000   \n",
       "50%        0.000000      0.000000        0.000000    40.735000   \n",
       "75%        1.000000      1.000000        1.000000    48.920000   \n",
       "max        1.000000      1.000000        1.000000    82.720000   \n",
       "\n",
       "       lobsterama_spend  \n",
       "count       5216.000000  \n",
       "mean          28.722268  \n",
       "std           10.557965  \n",
       "min          -11.670000  \n",
       "25%           22.257500  \n",
       "50%           29.440000  \n",
       "75%           35.255000  \n",
       "max           71.900000  "
      ]
     },
     "execution_count": 8,
     "metadata": {},
     "output_type": "execute_result"
    }
   ],
   "source": [
    "# erroneous data\n",
    "july4[july4['age']<16]\n",
    "july4.loc[july4['age']<16,'age']=16\n",
    "july4.describe()"
   ]
  },
  {
   "cell_type": "markdown",
   "id": "949e0119",
   "metadata": {},
   "source": [
    "As we can see in the dataframe column \"age\", the min age is changed to 16."
   ]
  },
  {
   "cell_type": "markdown",
   "id": "9597067c",
   "metadata": {},
   "source": [
    "Question 1-H: LobsterLand wants to know more about how its international guests compare to its domestic ones.\n",
    "\n",
    "a. First, find the percentage of guests from the entire dataset who stayed at Lobster Land for more than four hours on July 4th.\n",
    "\n",
    "b. Now, let’s break this down a bit more. What percentage of domestic\n",
    "visitors stayed for more than 4 hours on that day? What percentage of\n",
    "international visitors stayed for more than 4 hours on that day?\n",
    "\n",
    "c. If the values you found in Step B were different, what do you think might explain this difference? (No domain knowledge is required here – take a moment to think about it, and come up with a thoughtful, plausible explanation)."
   ]
  },
  {
   "cell_type": "code",
   "execution_count": 9,
   "id": "c2ffb449",
   "metadata": {},
   "outputs": [
    {
     "name": "stdout",
     "output_type": "stream",
     "text": [
      "59.93098159509203%\n"
     ]
    }
   ],
   "source": [
    "# the percentage of guests from the entire dataset who stayed at Lobster Land for more than four hours on July 4th\n",
    "hours=july4[july4['stay_four']==1]\n",
    "percentage= (hours['stay_four'].count()/july4['stay_four'].count())*100\n",
    "print(str(percentage) +\"%\")"
   ]
  },
  {
   "cell_type": "code",
   "execution_count": 11,
   "id": "6fdf5100",
   "metadata": {},
   "outputs": [
    {
     "name": "stdout",
     "output_type": "stream",
     "text": [
      "68.71401151631477%\n"
     ]
    }
   ],
   "source": [
    "# percentage of domestic visitors stayed for more than 4 hours on that day\n",
    "hours=july4[july4['stay_four']==1]\n",
    "hours['stay_four'].count()\n",
    "hours1=hours[hours['domestic']==1]\n",
    "visitor_dom=hours1['domestic'].count()/hours['stay_four'].count()*100\n",
    "print(str(visitor_dom)+\"%\")"
   ]
  },
  {
   "cell_type": "code",
   "execution_count": 12,
   "id": "f2cca0b6",
   "metadata": {
    "scrolled": true
   },
   "outputs": [
    {
     "name": "stdout",
     "output_type": "stream",
     "text": [
      "31.285988483685223%\n"
     ]
    }
   ],
   "source": [
    "#percentage of international visitors stayed for more than 4 hours on that day?\n",
    "hours=july4[july4['stay_four']==1]\n",
    "hours['stay_four'].count()\n",
    "hours1=hours[hours['domestic']==0]\n",
    "visitor_int=hours1['domestic'].count()/hours['stay_four'].count()*100\n",
    "print(str(visitor_int)+\"%\")"
   ]
  },
  {
   "cell_type": "markdown",
   "id": "c8069217",
   "metadata": {},
   "source": [
    "The values I found in Step B were different is because domestic visitors are more convenient to Lobster land. They can either drive cars or take few hours' flight. And they are more willing to choose this place for fun with families for relax. However, international visitors want to come to the USA, they need to book flights and hotels in advance and deal with visa issues, which are more complicated. Also, if international visitors travel abroad, they may prefer to see famous sightseeing rather than lobster land."
   ]
  },
  {
   "cell_type": "markdown",
   "id": "039fb8e5",
   "metadata": {},
   "source": [
    "Question 1-I: Removing a variable\n",
    "\n",
    "a. Pick any variable from the dataset that is redundant (in other words, all the information that it contains is already included in another variable).Remove the variable that you have identified as redundant.\n",
    "i. In a sentence or two, explain why this variable is not needed."
   ]
  },
  {
   "cell_type": "code",
   "execution_count": 13,
   "id": "7ecc37d8",
   "metadata": {},
   "outputs": [
    {
     "name": "stderr",
     "output_type": "stream",
     "text": [
      "/var/folders/69/sjzrfpp90kb586qq0vrpgyjw0000gn/T/ipykernel_1365/4277379096.py:2: FutureWarning: In a future version of pandas all arguments of DataFrame.drop except for the argument 'labels' will be keyword-only\n",
      "  july4.drop('ice_cream_purch',1,inplace=True)\n"
     ]
    }
   ],
   "source": [
    "#remove a variable\n",
    "july4.drop('ice_cream_purch',1,inplace=True)"
   ]
  },
  {
   "cell_type": "markdown",
   "id": "0f984381",
   "metadata": {},
   "source": [
    "Because if ice cream flavor are not none, visitors obsolutely buy an ice cream and choose the certain flavor. The ice cream purchase variable seems to be unneccessary."
   ]
  },
  {
   "cell_type": "markdown",
   "id": "1b266d80",
   "metadata": {},
   "source": [
    "Question 1-J :Renaming a variable.\n",
    "\n",
    "a. Pick any variable in the dataset, and rename it. (For this step, it doesn’t matter which variable you pick -- the purpose is just to become familiar with the process for doing this -- it can sometimes be a very helpful step in data cleaning/data preparation)."
   ]
  },
  {
   "cell_type": "code",
   "execution_count": 14,
   "id": "effb0316",
   "metadata": {},
   "outputs": [],
   "source": [
    "# rename a variable\n",
    "july4.rename(columns={'stay_four':'stay_hours'},inplace=True)"
   ]
  },
  {
   "cell_type": "markdown",
   "id": "10e50c91",
   "metadata": {},
   "source": [
    "#data visualization\n",
    "Question 2-K:  Using any plotting tool in Python, generate a boxplot that shows maine_res on the x-axis, and merchandise spending on the y-axis.\n",
    "a. What do you notice about this relationship? In a couple of sentences, why does this fit or not fit with what you would intuitively expect?"
   ]
  },
  {
   "cell_type": "code",
   "execution_count": 15,
   "id": "fdba4eba",
   "metadata": {},
   "outputs": [
    {
     "data": {
      "image/png": "[encoded data removed]",
      "text/plain": [
       "<Figure size 432x288 with 1 Axes>"
      ]
     },
     "metadata": {
      "needs_background": "light"
     },
     "output_type": "display_data"
    }
   ],
   "source": [
    "sns.boxplot(x='maine_res',y='merch_spend',data=july4);\n",
    "plt.title('merchandize spend comparison');\n",
    "plt.xlabel('People from maine');"
   ]
  },
  {
   "cell_type": "markdown",
   "id": "2a61b53c",
   "metadata": {},
   "source": [
    "The range of people who are not from Maine tend to spend on merchandize ia large than those from Maine. It is reasonable because visitors are coming from all over the states and world and these people may be willing to spend more money on buying since they are more curious and interested in new things."
   ]
  },
  {
   "cell_type": "markdown",
   "id": "68f5b6f9",
   "metadata": {},
   "source": [
    "Question 2-L: Which rides were most popular / least popular on July 4th, 2021? Generate one barplot that depicts the total number of people who went on the Sky Chairs, the Ferris Wheel, the Lobster Claw, and the Lobster Junior. (Note: there are many ways you can solve this – any approach that gets the job done is completely fine).\n",
    "a. In a sentence or two, what does this plot show?"
   ]
  },
  {
   "cell_type": "code",
   "execution_count": 49,
   "id": "2b33e68f",
   "metadata": {},
   "outputs": [
    {
     "data": {
      "text/plain": [
       "2572"
      ]
     },
     "execution_count": 49,
     "metadata": {},
     "output_type": "execute_result"
    }
   ],
   "source": [
    "chair=july4[july4['sky_chair']==1]\n",
    "chair['sky_chair'].count()"
   ]
  },
  {
   "cell_type": "code",
   "execution_count": 50,
   "id": "85871474",
   "metadata": {},
   "outputs": [
    {
     "data": {
      "text/plain": [
       "2473"
      ]
     },
     "execution_count": 50,
     "metadata": {},
     "output_type": "execute_result"
    }
   ],
   "source": [
    "ferris = july4[july4['ferris_wheel']==1]\n",
    "ferris['ferris_wheel'].count()"
   ]
  },
  {
   "cell_type": "code",
   "execution_count": 51,
   "id": "d866077a",
   "metadata": {},
   "outputs": [
    {
     "data": {
      "text/plain": [
       "1447"
      ]
     },
     "execution_count": 51,
     "metadata": {},
     "output_type": "execute_result"
    }
   ],
   "source": [
    "claw = july4[july4['lobster_claw']==1]\n",
    "claw['lobster_claw'].count()"
   ]
  },
  {
   "cell_type": "code",
   "execution_count": 52,
   "id": "bb6b278e",
   "metadata": {},
   "outputs": [
    {
     "data": {
      "text/plain": [
       "2104"
      ]
     },
     "execution_count": 52,
     "metadata": {},
     "output_type": "execute_result"
    }
   ],
   "source": [
    "junior = july4[july4['lobster_junior']==1]\n",
    "junior['lobster_junior'].count()"
   ]
  },
  {
   "cell_type": "code",
   "execution_count": 53,
   "id": "7b3e7c79",
   "metadata": {},
   "outputs": [
    {
     "data": {
      "image/png": "[encoded data removed]",
      "text/plain": [
       "<Figure size 432x288 with 1 Axes>"
      ]
     },
     "metadata": {
      "needs_background": "light"
     },
     "output_type": "display_data"
    }
   ],
   "source": [
    "data = {'sky_chair':2572, 'ferris_wheel':2473, 'lobster_claw':1447,'lobster_junior':2104}\n",
    "Sites = list(data.keys())\n",
    "Number = list(data.values())\n",
    "  \n",
    "plt.bar(Sites, Number)\n",
    " \n",
    "plt.xlabel(\"sites\")\n",
    "plt.ylabel(\"numbers\")\n",
    "plt.title(\"Number of visitors\")\n",
    "plt.show()"
   ]
  },
  {
   "cell_type": "markdown",
   "id": "a742e87e",
   "metadata": {},
   "source": [
    "This graph shows the number of visitors who play these sites listed above(sky_chair,ferris_wheel,lobster_claw,lobster_junior) and compares each sites' participation numbers."
   ]
  },
  {
   "cell_type": "markdown",
   "id": "b7e7cfd3",
   "metadata": {},
   "source": [
    "Question 2-M: Build a histogram that depicts total merchandise spending per visitor.\n",
    "\n",
    "a. How can you increase the number of bins in your histogram?\n",
    "\n",
    "b. Create another lobsterama spending histogram, but with more bins. Be\n",
    "sure to include an x-axis label and a title with your histogram.\n",
    "\n",
    "c. How is your second histogram different from your first one? What is the impact of increasing the number of bins?\n",
    "\n",
    "d. Now, add a hue variable to your histogram, to indicate whether the\n",
    "visitor was domestic or international. Include multiple=’stack’ inside of the function that builds the histogram. What does this plot show?"
   ]
  },
  {
   "cell_type": "code",
   "execution_count": 17,
   "id": "367a00a6",
   "metadata": {},
   "outputs": [
    {
     "data": {
      "image/png": "[encoded data removed]",
      "text/plain": [
       "<Figure size 432x288 with 1 Axes>"
      ]
     },
     "metadata": {
      "needs_background": "light"
     },
     "output_type": "display_data"
    }
   ],
   "source": [
    "# build a histogram \n",
    "#sns.histplot(x='merch_spend',data=july4); add bins= function\n",
    "sns.histplot(x='merch_spend',bins=40,data=july4);\n",
    "plt.title('total merchandize spending per visitor');\n",
    "plt.xlabel('the amount of merchandize spending');\n",
    "plt.ylabel('number of visitors');"
   ]
  },
  {
   "cell_type": "markdown",
   "id": "f26fff18",
   "metadata": {},
   "source": [
    "Adding content (bin=) into code to increase the number of bins."
   ]
  },
  {
   "cell_type": "code",
   "execution_count": 18,
   "id": "e5b0d651",
   "metadata": {},
   "outputs": [
    {
     "data": {
      "image/png": "[encoded data removed]",
      "text/plain": [
       "<Figure size 432x288 with 1 Axes>"
      ]
     },
     "metadata": {
      "needs_background": "light"
     },
     "output_type": "display_data"
    }
   ],
   "source": [
    "sns.histplot(x='lobsterama_spend',bins=60,data=july4);\n",
    "plt.title('total lobsterama restaurant spending per visitor');\n",
    "plt.xlabel('the amount of lobsterama spending');\n",
    "plt.ylabel('number of visitors');"
   ]
  },
  {
   "cell_type": "markdown",
   "id": "130ffc9d",
   "metadata": {},
   "source": [
    "The second histogram's x-axis is more specific to see the amount of losterama spending for its corresponding number of visitors. Increasing bins shows more details while decreasing bins shows the roughly amount."
   ]
  },
  {
   "cell_type": "code",
   "execution_count": 19,
   "id": "392a15b9",
   "metadata": {},
   "outputs": [
    {
     "data": {
      "image/png": "[encoded data removed]",
      "text/plain": [
       "<Figure size 432x288 with 1 Axes>"
      ]
     },
     "metadata": {
      "needs_background": "light"
     },
     "output_type": "display_data"
    }
   ],
   "source": [
    "sns.histplot(x='merch_spend',hue='domestic',multiple='stack',bins=40,data=july4);\n",
    "# compare with sns.histplot(x='merch_spend',hue='domestic',bins=40,data=july4);"
   ]
  },
  {
   "cell_type": "markdown",
   "id": "c6041385",
   "metadata": {},
   "source": [
    "This plot shows the domestic and international visitors' spending distribution. As we can see international visitors are more willing to spend on merchandizes than demestic visitors. "
   ]
  },
  {
   "cell_type": "markdown",
   "id": "da211951",
   "metadata": {},
   "source": [
    "Question 2-N: Use the countplot() function from seaborn to show a comparison of the homestates of local visitors to Lobster Land on July 4th. Set up the bars so that they are in decreasing or increasing order of size.\n",
    "a. What does this graph show? In a sentence or two, explain what it\n",
    "depicts."
   ]
  },
  {
   "cell_type": "code",
   "execution_count": 20,
   "id": "6f5c86a4",
   "metadata": {},
   "outputs": [
    {
     "data": {
      "image/png": "[encoded data removed]",
      "text/plain": [
       "<Figure size 432x288 with 1 Axes>"
      ]
     },
     "metadata": {
      "needs_background": "light"
     },
     "output_type": "display_data"
    }
   ],
   "source": [
    "homestates=july4[july4['domestic']==1]\n",
    "sns.countplot(x='state',order=homestates['state'].value_counts().index,data=homestates);  # if i do not use sort,the gragh is also the same"
   ]
  },
  {
   "cell_type": "markdown",
   "id": "f53585d3",
   "metadata": {},
   "source": [
    "This graph compares the quantity of visitors to Lobster Land on July 4th in 7 states of USA. Visitors from ME take the most counts while visitors from RI are the least.  "
   ]
  },
  {
   "cell_type": "markdown",
   "id": "fce47e04",
   "metadata": {},
   "source": [
    "Question 2-O: Now, use the barplot() function from seaborn to show a comparison of Lobster Claw riders from country to country. Construct this plot so that countries are on the x-axis, and the proportion of guests who rode the Lobster Claw is on the y-axis.\n",
    "Do not include confidence intervals with the bars. Set up the bars so that they are in decreasing or increasing order of size.\n",
    "b. What does this graph show? In a sentence or two, explain what it depicts."
   ]
  },
  {
   "cell_type": "code",
   "execution_count": 84,
   "id": "f890b031",
   "metadata": {},
   "outputs": [
    {
     "data": {
      "text/plain": [
       "country  lobster_claw\n",
       "BRA      0               0.677686\n",
       "         1               0.322314\n",
       "CAN      0               0.715385\n",
       "         1               0.284615\n",
       "CHN      0               0.700680\n",
       "         1               0.299320\n",
       "FRA      0               0.828571\n",
       "         1               0.171429\n",
       "GER      0               0.771930\n",
       "         1               0.228070\n",
       "IND      0               0.760563\n",
       "         1               0.239437\n",
       "JPN      0               0.741935\n",
       "         1               0.258065\n",
       "MEX      0               0.796875\n",
       "         1               0.203125\n",
       "ROK      0               0.741935\n",
       "         1               0.258065\n",
       "UK       0               0.705882\n",
       "         1               0.294118\n",
       "USA      0               0.720136\n",
       "         1               0.279864\n",
       "Name: lobster_claw, dtype: float64"
      ]
     },
     "execution_count": 84,
     "metadata": {},
     "output_type": "execute_result"
    }
   ],
   "source": [
    "proportion = july4.groupby(['country'])['lobster_claw'].value_counts(normalize=True)\n",
    "proportion"
   ]
  },
  {
   "cell_type": "code",
   "execution_count": 85,
   "id": "dfc277ed",
   "metadata": {},
   "outputs": [],
   "source": [
    "data = {'BRA ':0.322314, 'CHN':0.299320,'UK':0.294118,'CAN':0.284615,'USA':0.279864,'ROK':0.258065,\n",
    "        'JPN':0.258065,'IND':0.239437,'GER':0.228070,'MEX':0.203125,'FRA':0.171429}\n",
    "country = list(data.keys())\n",
    "proportion1 = list(data.values())"
   ]
  },
  {
   "cell_type": "code",
   "execution_count": 87,
   "id": "e57807df",
   "metadata": {},
   "outputs": [
    {
     "name": "stderr",
     "output_type": "stream",
     "text": [
      "/Users/luoyayuan/opt/anaconda3/lib/python3.9/site-packages/seaborn/_decorators.py:36: FutureWarning: Pass the following variables as keyword args: x, y. From version 0.12, the only valid positional argument will be `data`, and passing other arguments without an explicit keyword will result in an error or misinterpretation.\n",
      "  warnings.warn(\n"
     ]
    },
    {
     "data": {
      "image/png": "[encoded data removed]",
      "text/plain": [
       "<Figure size 864x360 with 1 Axes>"
      ]
     },
     "metadata": {
      "needs_background": "light"
     },
     "output_type": "display_data"
    }
   ],
   "source": [
    "# original code: sns.barplot(x='country',y='lobster_claw',ci=None,order=july4['country'].value_counts().index,data=july4);\n",
    "plt.figure(figsize=(12,5))\n",
    "sns.barplot(country,proportion1);\n",
    "#plt.bar(country, proportion)\n",
    "plt.xlabel(\"country\")\n",
    "plt.ylabel(\"proportion\")\n",
    "plt.show()"
   ]
  },
  {
   "cell_type": "markdown",
   "id": "c0b308d6",
   "metadata": {},
   "source": [
    "This graph depicts the proportion of playing the lobster claw in each country of the dataset. Brazil has the largest participation rate while France has the least.  "
   ]
  },
  {
   "cell_type": "markdown",
   "id": "46739661",
   "metadata": {},
   "source": [
    "Part III: Wildcard: Metrics and “Quantified Self” (1 point)"
   ]
  },
  {
   "cell_type": "markdown",
   "id": "95d18f97",
   "metadata": {},
   "source": [
    "A. For three days, you will gather observational data, acting as both the researcher AND as the subject.\n",
    "a. Choose ANY aspect of your daily life that you can quantify. This could be a health metric, a financial metric, an entertainment metric, a metric about a hobby, or just ANYTHING else that you can measure/quantify.\n",
    "b. For each of the three days, keep track of this metric.\n",
    "c. Write ONE thoughtful paragraph about your experience. In your paragraph, you might answer questions such as: What did you learn by tracking this? Did it change your behavior in any way? Did anyone else around you react to what you were doing? Would you consider running the “experiment” for a longer period of time?\n",
    "Thoughtful, complete paragraphs here will receive one full point. The goal here is to focus on the impact of measuring some particular metric"
   ]
  },
  {
   "cell_type": "markdown",
   "id": "8d8fb780",
   "metadata": {},
   "source": [
    "I learned that data is everywhere and it is better to have a quantitative mindset, which will help a lot in our actions. For example, these three days from 02/11/2022-02/13/2022, my walking steps are as follows:\n",
    "\n",
    "day1\n",
    "Rank4 walking steps 6971\n",
    "day2\n",
    "Rank12 walking steps 4333\n",
    "day3\n",
    "Rank1 walking steps 12258\n",
    "\n",
    "The reason why the last day's step is increased is that I saw the first two days are low and I conciously adjust my life pace. I choose to go outside to take a long walk and strengthen my body.  People in my wechat can see my walking steps everyday since the app is open for all friends who have this app in my wechat friends' circle. They saw my step had changed and asked me whether I go somewhere else to travel or just go outside for a workout?  \n",
    "\n",
    "I consider running this experiments for a longer period of time because this prompt me to keep exercising everyday. Also seeing others walking step and walking rank just is like a small 'competition', encouraging us to walk more other than just sitting for whole day.  Even this app has some cons when we do not take phones walking, it will not count on our actual steps, we just take it as a tool and reasonably use it."
   ]
  }
 ],
 "metadata": {
  "kernelspec": {
   "display_name": "Python 3 (ipykernel)",
   "language": "python",
   "name": "python3"
  },
  "language_info": {
   "codemirror_mode": {
    "name": "ipython",
    "version": 3
   },
   "file_extension": ".py",
   "mimetype": "text/x-python",
   "name": "python",
   "nbconvert_exporter": "python",
   "pygments_lexer": "ipython3",
   "version": "3.9.7"
  }
 },
 "nbformat": 4,
 "nbformat_minor": 5
}
